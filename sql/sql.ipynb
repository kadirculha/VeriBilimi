{
 "cells": [
  {
   "cell_type": "code",
   "execution_count": null,
   "metadata": {},
   "outputs": [],
   "source": [
    "%%! \n",
    "pip install --trusted-host pypi.org ipython-sql\n",
    "pip install sql"
   ]
  },
  {
   "cell_type": "code",
   "execution_count": 1,
   "metadata": {},
   "outputs": [],
   "source": [
    "%load_ext sql"
   ]
  },
  {
   "cell_type": "code",
   "execution_count": 2,
   "metadata": {},
   "outputs": [],
   "source": [
    "%sql sqlite:///kadirculha.db"
   ]
  },
  {
   "cell_type": "code",
   "execution_count": 3,
   "metadata": {},
   "outputs": [
    {
     "name": "stdout",
     "output_type": "stream",
     "text": [
      " * sqlite:///kadirculha.db\n",
      "Done.\n"
     ]
    },
    {
     "data": {
      "text/html": [
       "<table>\n",
       "    <thead>\n",
       "        <tr>\n",
       "            <th>CustomerID</th>\n",
       "            <th>CustomerName</th>\n",
       "            <th>ContactName</th>\n",
       "            <th>Address</th>\n",
       "            <th>City</th>\n",
       "            <th>PostalCode</th>\n",
       "            <th>Country</th>\n",
       "        </tr>\n",
       "    </thead>\n",
       "    <tbody>\n",
       "        <tr>\n",
       "            <td>1</td>\n",
       "            <td>Alfreds Futterkiste</td>\n",
       "            <td>Maria Anders</td>\n",
       "            <td>Obere Str. 57</td>\n",
       "            <td>Berlin</td>\n",
       "            <td>12209</td>\n",
       "            <td>Germany</td>\n",
       "        </tr>\n",
       "        <tr>\n",
       "            <td>2</td>\n",
       "            <td>Ana Trujillo Emparedados y helados</td>\n",
       "            <td>Ana Trujillo</td>\n",
       "            <td>Avda. de la Constitución 2222</td>\n",
       "            <td>México D.F.</td>\n",
       "            <td>5021</td>\n",
       "            <td>Mexico</td>\n",
       "        </tr>\n",
       "        <tr>\n",
       "            <td>3</td>\n",
       "            <td>Antonio Moreno Taquería</td>\n",
       "            <td>Antonio Moreno</td>\n",
       "            <td>Mataderos 2312</td>\n",
       "            <td>México D.F.</td>\n",
       "            <td>5023</td>\n",
       "            <td>Mexico</td>\n",
       "        </tr>\n",
       "    </tbody>\n",
       "</table>"
      ],
      "text/plain": [
       "[(1, 'Alfreds Futterkiste', 'Maria Anders', 'Obere Str. 57', 'Berlin', '12209', 'Germany'),\n",
       " (2, 'Ana Trujillo Emparedados y helados', 'Ana Trujillo', 'Avda. de la Constitución 2222', 'México D.F.', '5021', 'Mexico'),\n",
       " (3, 'Antonio Moreno Taquería', 'Antonio Moreno', 'Mataderos 2312', 'México D.F.', '5023', 'Mexico')]"
      ]
     },
     "execution_count": 3,
     "metadata": {},
     "output_type": "execute_result"
    }
   ],
   "source": [
    "%%sql\n",
    "SELECT *FROM Customers LIMIT 3;"
   ]
  },
  {
   "cell_type": "markdown",
   "metadata": {},
   "source": [
    "# Manuel Tablo Oluşturma İşlemleri\n"
   ]
  },
  {
   "cell_type": "code",
   "execution_count": 4,
   "metadata": {},
   "outputs": [
    {
     "name": "stdout",
     "output_type": "stream",
     "text": [
      " * sqlite:///kadirculha.db\n",
      "(sqlite3.OperationalError) table yeni_tablo already exists\n",
      "[SQL: CREATE TABLE yeni_tablo(firstname varchar(20), \n",
      "                        lastname varchar(20));]\n",
      "(Background on this error at: https://sqlalche.me/e/20/e3q8)\n"
     ]
    }
   ],
   "source": [
    "%%sql \n",
    "CREATE TABLE yeni_tablo(firstname varchar(20), \n",
    "                        lastname varchar(20));"
   ]
  },
  {
   "cell_type": "code",
   "execution_count": 5,
   "metadata": {},
   "outputs": [
    {
     "name": "stdout",
     "output_type": "stream",
     "text": [
      " * sqlite:///kadirculha.db\n",
      "1 rows affected.\n"
     ]
    },
    {
     "data": {
      "text/plain": [
       "[]"
      ]
     },
     "execution_count": 5,
     "metadata": {},
     "output_type": "execute_result"
    }
   ],
   "source": [
    "%%sql \n",
    "INSERT INTO yeni_tablo VALUES(\"ALİ\", \"UZAYA_GIT\");"
   ]
  },
  {
   "cell_type": "code",
   "execution_count": 6,
   "metadata": {},
   "outputs": [
    {
     "name": "stdout",
     "output_type": "stream",
     "text": [
      " * sqlite:///kadirculha.db\n",
      "Done.\n"
     ]
    },
    {
     "data": {
      "text/html": [
       "<table>\n",
       "    <thead>\n",
       "        <tr>\n",
       "            <th>firstname</th>\n",
       "            <th>lastname</th>\n",
       "        </tr>\n",
       "    </thead>\n",
       "    <tbody>\n",
       "        <tr>\n",
       "            <td>Mehmet</td>\n",
       "            <td>soyadi</td>\n",
       "        </tr>\n",
       "        <tr>\n",
       "            <td>ALİ</td>\n",
       "            <td>UZAYA_GIT</td>\n",
       "        </tr>\n",
       "        <tr>\n",
       "            <td>Işık</td>\n",
       "            <td>Süte_Devam</td>\n",
       "        </tr>\n",
       "        <tr>\n",
       "            <td>ALİ</td>\n",
       "            <td>UZAYA_GIT</td>\n",
       "        </tr>\n",
       "    </tbody>\n",
       "</table>"
      ],
      "text/plain": [
       "[('Mehmet', 'soyadi'),\n",
       " ('ALİ', 'UZAYA_GIT'),\n",
       " ('Işık', 'Süte_Devam'),\n",
       " ('ALİ', 'UZAYA_GIT')]"
      ]
     },
     "execution_count": 6,
     "metadata": {},
     "output_type": "execute_result"
    }
   ],
   "source": [
    "%%sql\n",
    "SELECT * FROM yeni_tablo;"
   ]
  },
  {
   "cell_type": "code",
   "execution_count": 7,
   "metadata": {},
   "outputs": [
    {
     "name": "stdout",
     "output_type": "stream",
     "text": [
      " * sqlite:///kadirculha.db\n",
      "1 rows affected.\n"
     ]
    },
    {
     "data": {
      "text/plain": [
       "[]"
      ]
     },
     "execution_count": 7,
     "metadata": {},
     "output_type": "execute_result"
    }
   ],
   "source": [
    "%%sql \n",
    "INSERT INTO yeni_tablo VALUES(\"Işık\", \"Süte_Devam\");"
   ]
  },
  {
   "cell_type": "code",
   "execution_count": 8,
   "metadata": {},
   "outputs": [
    {
     "name": "stdout",
     "output_type": "stream",
     "text": [
      " * sqlite:///kadirculha.db\n",
      "Done.\n"
     ]
    },
    {
     "data": {
      "text/html": [
       "<table>\n",
       "    <thead>\n",
       "        <tr>\n",
       "            <th>firstname</th>\n",
       "            <th>lastname</th>\n",
       "        </tr>\n",
       "    </thead>\n",
       "    <tbody>\n",
       "        <tr>\n",
       "            <td>Mehmet</td>\n",
       "            <td>soyadi</td>\n",
       "        </tr>\n",
       "        <tr>\n",
       "            <td>ALİ</td>\n",
       "            <td>UZAYA_GIT</td>\n",
       "        </tr>\n",
       "        <tr>\n",
       "            <td>Işık</td>\n",
       "            <td>Süte_Devam</td>\n",
       "        </tr>\n",
       "        <tr>\n",
       "            <td>ALİ</td>\n",
       "            <td>UZAYA_GIT</td>\n",
       "        </tr>\n",
       "        <tr>\n",
       "            <td>Işık</td>\n",
       "            <td>Süte_Devam</td>\n",
       "        </tr>\n",
       "    </tbody>\n",
       "</table>"
      ],
      "text/plain": [
       "[('Mehmet', 'soyadi'),\n",
       " ('ALİ', 'UZAYA_GIT'),\n",
       " ('Işık', 'Süte_Devam'),\n",
       " ('ALİ', 'UZAYA_GIT'),\n",
       " ('Işık', 'Süte_Devam')]"
      ]
     },
     "execution_count": 8,
     "metadata": {},
     "output_type": "execute_result"
    }
   ],
   "source": [
    "%%sql\n",
    "SELECT * FROM yeni_tablo;"
   ]
  },
  {
   "cell_type": "markdown",
   "metadata": {},
   "source": [
    "# SELECT İşlemleri"
   ]
  },
  {
   "cell_type": "code",
   "execution_count": 9,
   "metadata": {},
   "outputs": [
    {
     "name": "stdout",
     "output_type": "stream",
     "text": [
      " * sqlite:///kadirculha.db\n",
      "Done.\n"
     ]
    },
    {
     "data": {
      "text/html": [
       "<table>\n",
       "    <thead>\n",
       "        <tr>\n",
       "            <th>ProductID</th>\n",
       "            <th>ProductName</th>\n",
       "            <th>SupplierID</th>\n",
       "            <th>CategoryID</th>\n",
       "            <th>Unit</th>\n",
       "            <th>Price</th>\n",
       "        </tr>\n",
       "    </thead>\n",
       "    <tbody>\n",
       "        <tr>\n",
       "            <td>1</td>\n",
       "            <td>Chais</td>\n",
       "            <td>1</td>\n",
       "            <td>1</td>\n",
       "            <td>10 boxes x 20 bags</td>\n",
       "            <td>18</td>\n",
       "        </tr>\n",
       "        <tr>\n",
       "            <td>2</td>\n",
       "            <td>Chang</td>\n",
       "            <td>1</td>\n",
       "            <td>1</td>\n",
       "            <td>24 - 12 oz bottles</td>\n",
       "            <td>19</td>\n",
       "        </tr>\n",
       "        <tr>\n",
       "            <td>3</td>\n",
       "            <td>Aniseed Syrup</td>\n",
       "            <td>1</td>\n",
       "            <td>2</td>\n",
       "            <td>12 - 550 ml bottles</td>\n",
       "            <td>10</td>\n",
       "        </tr>\n",
       "        <tr>\n",
       "            <td>4</td>\n",
       "            <td>Chef Anton&#x27;s Cajun Seasoning</td>\n",
       "            <td>2</td>\n",
       "            <td>2</td>\n",
       "            <td>48 - 6 oz jars</td>\n",
       "            <td>22</td>\n",
       "        </tr>\n",
       "        <tr>\n",
       "            <td>5</td>\n",
       "            <td>Chef Anton&#x27;s Gumbo Mix</td>\n",
       "            <td>2</td>\n",
       "            <td>2</td>\n",
       "            <td>36 boxes</td>\n",
       "            <td>21</td>\n",
       "        </tr>\n",
       "    </tbody>\n",
       "</table>"
      ],
      "text/plain": [
       "[(1, 'Chais', 1, 1, '10 boxes x 20 bags', 18),\n",
       " (2, 'Chang', 1, 1, '24 - 12 oz bottles', 19),\n",
       " (3, 'Aniseed Syrup', 1, 2, '12 - 550 ml bottles', 10),\n",
       " (4, \"Chef Anton's Cajun Seasoning\", 2, 2, '48 - 6 oz jars', 22),\n",
       " (5, \"Chef Anton's Gumbo Mix\", 2, 2, '36 boxes', 21)]"
      ]
     },
     "execution_count": 9,
     "metadata": {},
     "output_type": "execute_result"
    }
   ],
   "source": [
    "%%sql\n",
    "select * from Products limit 5;"
   ]
  },
  {
   "cell_type": "markdown",
   "metadata": {},
   "source": [
    "tablo isimlerini getirme"
   ]
  },
  {
   "cell_type": "code",
   "execution_count": 10,
   "metadata": {},
   "outputs": [
    {
     "name": "stdout",
     "output_type": "stream",
     "text": [
      " * sqlite:///kadirculha.db\n",
      "Done.\n"
     ]
    },
    {
     "data": {
      "text/html": [
       "<table>\n",
       "    <thead>\n",
       "        <tr>\n",
       "            <th>name</th>\n",
       "        </tr>\n",
       "    </thead>\n",
       "    <tbody>\n",
       "        <tr>\n",
       "            <td>Categories</td>\n",
       "        </tr>\n",
       "        <tr>\n",
       "            <td>Customers</td>\n",
       "        </tr>\n",
       "        <tr>\n",
       "            <td>Employees</td>\n",
       "        </tr>\n",
       "        <tr>\n",
       "            <td>Orders</td>\n",
       "        </tr>\n",
       "        <tr>\n",
       "            <td>OrderDetails</td>\n",
       "        </tr>\n",
       "        <tr>\n",
       "            <td>Products</td>\n",
       "        </tr>\n",
       "        <tr>\n",
       "            <td>Shippers</td>\n",
       "        </tr>\n",
       "        <tr>\n",
       "            <td>Suppliers</td>\n",
       "        </tr>\n",
       "        <tr>\n",
       "            <td>yeni_tablo</td>\n",
       "        </tr>\n",
       "    </tbody>\n",
       "</table>"
      ],
      "text/plain": [
       "[('Categories',),\n",
       " ('Customers',),\n",
       " ('Employees',),\n",
       " ('Orders',),\n",
       " ('OrderDetails',),\n",
       " ('Products',),\n",
       " ('Shippers',),\n",
       " ('Suppliers',),\n",
       " ('yeni_tablo',)]"
      ]
     },
     "execution_count": 10,
     "metadata": {},
     "output_type": "execute_result"
    }
   ],
   "source": [
    "\n",
    "%%sql\n",
    "select name from sqlite_master WHERE type=\"table\"; \n"
   ]
  },
  {
   "cell_type": "code",
   "execution_count": 11,
   "metadata": {},
   "outputs": [
    {
     "name": "stdout",
     "output_type": "stream",
     "text": [
      " * sqlite:///kadirculha.db\n",
      "Done.\n"
     ]
    },
    {
     "data": {
      "text/html": [
       "<table>\n",
       "    <thead>\n",
       "        <tr>\n",
       "            <th>CustomerID</th>\n",
       "            <th>CustomerName</th>\n",
       "            <th>ContactName</th>\n",
       "            <th>Address</th>\n",
       "            <th>City</th>\n",
       "            <th>PostalCode</th>\n",
       "            <th>Country</th>\n",
       "        </tr>\n",
       "    </thead>\n",
       "    <tbody>\n",
       "    </tbody>\n",
       "</table>"
      ],
      "text/plain": [
       "[]"
      ]
     },
     "execution_count": 11,
     "metadata": {},
     "output_type": "execute_result"
    }
   ],
   "source": [
    "%%sql \n",
    "select * from Customers where 1=0;"
   ]
  },
  {
   "cell_type": "code",
   "execution_count": 12,
   "metadata": {},
   "outputs": [
    {
     "name": "stdout",
     "output_type": "stream",
     "text": [
      " * sqlite:///kadirculha.db\n",
      "Done.\n"
     ]
    },
    {
     "data": {
      "text/html": [
       "<table>\n",
       "    <thead>\n",
       "        <tr>\n",
       "            <th>CustomerName</th>\n",
       "            <th>City</th>\n",
       "        </tr>\n",
       "    </thead>\n",
       "    <tbody>\n",
       "        <tr>\n",
       "            <td>Alfreds Futterkiste</td>\n",
       "            <td>Berlin</td>\n",
       "        </tr>\n",
       "        <tr>\n",
       "            <td>Ana Trujillo Emparedados y helados</td>\n",
       "            <td>México D.F.</td>\n",
       "        </tr>\n",
       "        <tr>\n",
       "            <td>Antonio Moreno Taquería</td>\n",
       "            <td>México D.F.</td>\n",
       "        </tr>\n",
       "    </tbody>\n",
       "</table>"
      ],
      "text/plain": [
       "[('Alfreds Futterkiste', 'Berlin'),\n",
       " ('Ana Trujillo Emparedados y helados', 'México D.F.'),\n",
       " ('Antonio Moreno Taquería', 'México D.F.')]"
      ]
     },
     "execution_count": 12,
     "metadata": {},
     "output_type": "execute_result"
    }
   ],
   "source": [
    "%%sql\n",
    "select CustomerName, City From Customers limit 3;"
   ]
  },
  {
   "cell_type": "code",
   "execution_count": 13,
   "metadata": {},
   "outputs": [
    {
     "name": "stdout",
     "output_type": "stream",
     "text": [
      " * sqlite:///kadirculha.db\n",
      "Done.\n"
     ]
    },
    {
     "data": {
      "text/html": [
       "<table>\n",
       "    <thead>\n",
       "        <tr>\n",
       "            <th>ProductID</th>\n",
       "            <th>ProductName</th>\n",
       "            <th>SupplierID</th>\n",
       "            <th>CategoryID</th>\n",
       "            <th>Unit</th>\n",
       "            <th>Price</th>\n",
       "        </tr>\n",
       "    </thead>\n",
       "    <tbody>\n",
       "        <tr>\n",
       "            <td>1</td>\n",
       "            <td>Chais</td>\n",
       "            <td>1</td>\n",
       "            <td>1</td>\n",
       "            <td>10 boxes x 20 bags</td>\n",
       "            <td>18</td>\n",
       "        </tr>\n",
       "        <tr>\n",
       "            <td>2</td>\n",
       "            <td>Chang</td>\n",
       "            <td>1</td>\n",
       "            <td>1</td>\n",
       "            <td>24 - 12 oz bottles</td>\n",
       "            <td>19</td>\n",
       "        </tr>\n",
       "        <tr>\n",
       "            <td>3</td>\n",
       "            <td>Aniseed Syrup</td>\n",
       "            <td>1</td>\n",
       "            <td>2</td>\n",
       "            <td>12 - 550 ml bottles</td>\n",
       "            <td>10</td>\n",
       "        </tr>\n",
       "    </tbody>\n",
       "</table>"
      ],
      "text/plain": [
       "[(1, 'Chais', 1, 1, '10 boxes x 20 bags', 18),\n",
       " (2, 'Chang', 1, 1, '24 - 12 oz bottles', 19),\n",
       " (3, 'Aniseed Syrup', 1, 2, '12 - 550 ml bottles', 10)]"
      ]
     },
     "execution_count": 13,
     "metadata": {},
     "output_type": "execute_result"
    }
   ],
   "source": [
    "%%sql\n",
    "SELECT * FROM Products limit 3;"
   ]
  },
  {
   "cell_type": "code",
   "execution_count": null,
   "metadata": {},
   "outputs": [],
   "source": [
    "#matematiksel işlemler"
   ]
  },
  {
   "cell_type": "code",
   "execution_count": 21,
   "metadata": {},
   "outputs": [
    {
     "name": "stdout",
     "output_type": "stream",
     "text": [
      " * sqlite:///kadirculha.db\n",
      "Done.\n"
     ]
    },
    {
     "data": {
      "text/html": [
       "<table>\n",
       "    <thead>\n",
       "        <tr>\n",
       "            <th>Price</th>\n",
       "            <th>Price*3</th>\n",
       "            <th>Price*3-100</th>\n",
       "        </tr>\n",
       "    </thead>\n",
       "    <tbody>\n",
       "        <tr>\n",
       "            <td>18</td>\n",
       "            <td>54</td>\n",
       "            <td>-46</td>\n",
       "        </tr>\n",
       "        <tr>\n",
       "            <td>19</td>\n",
       "            <td>57</td>\n",
       "            <td>-43</td>\n",
       "        </tr>\n",
       "        <tr>\n",
       "            <td>10</td>\n",
       "            <td>30</td>\n",
       "            <td>-70</td>\n",
       "        </tr>\n",
       "    </tbody>\n",
       "</table>"
      ],
      "text/plain": [
       "[(18, 54, -46), (19, 57, -43), (10, 30, -70)]"
      ]
     },
     "execution_count": 21,
     "metadata": {},
     "output_type": "execute_result"
    }
   ],
   "source": [
    "\n",
    "%%sql\n",
    "SELECT Price,Price*3,Price*3-100  FROM Products limit 3;"
   ]
  },
  {
   "cell_type": "code",
   "execution_count": 15,
   "metadata": {},
   "outputs": [],
   "source": [
    "#alias: takma isim ,kısayol"
   ]
  },
  {
   "cell_type": "code",
   "execution_count": 16,
   "metadata": {},
   "outputs": [
    {
     "name": "stdout",
     "output_type": "stream",
     "text": [
      " * sqlite:///kadirculha.db\n",
      "Done.\n"
     ]
    },
    {
     "data": {
      "text/html": [
       "<table>\n",
       "    <thead>\n",
       "        <tr>\n",
       "            <th>ilk_price</th>\n",
       "            <th>yeni_price</th>\n",
       "            <th>islemli_price</th>\n",
       "        </tr>\n",
       "    </thead>\n",
       "    <tbody>\n",
       "        <tr>\n",
       "            <td>18</td>\n",
       "            <td>54</td>\n",
       "            <td>-46</td>\n",
       "        </tr>\n",
       "        <tr>\n",
       "            <td>19</td>\n",
       "            <td>57</td>\n",
       "            <td>-43</td>\n",
       "        </tr>\n",
       "        <tr>\n",
       "            <td>10</td>\n",
       "            <td>30</td>\n",
       "            <td>-70</td>\n",
       "        </tr>\n",
       "    </tbody>\n",
       "</table>"
      ],
      "text/plain": [
       "[(18, 54, -46), (19, 57, -43), (10, 30, -70)]"
      ]
     },
     "execution_count": 16,
     "metadata": {},
     "output_type": "execute_result"
    }
   ],
   "source": [
    "%%sql\n",
    "SELECT Price as ilk_price ,Price*3 as yeni_price ,Price*3-100 as islemli_price FROM Products limit 3;"
   ]
  },
  {
   "cell_type": "code",
   "execution_count": 17,
   "metadata": {},
   "outputs": [],
   "source": [
    "# count"
   ]
  },
  {
   "cell_type": "code",
   "execution_count": 18,
   "metadata": {},
   "outputs": [
    {
     "name": "stdout",
     "output_type": "stream",
     "text": [
      " * sqlite:///kadirculha.db\n",
      "Done.\n"
     ]
    },
    {
     "data": {
      "text/html": [
       "<table>\n",
       "    <thead>\n",
       "        <tr>\n",
       "            <th>satır</th>\n",
       "        </tr>\n",
       "    </thead>\n",
       "    <tbody>\n",
       "        <tr>\n",
       "            <td>91</td>\n",
       "        </tr>\n",
       "    </tbody>\n",
       "</table>"
      ],
      "text/plain": [
       "[(91,)]"
      ]
     },
     "execution_count": 18,
     "metadata": {},
     "output_type": "execute_result"
    }
   ],
   "source": [
    "%%sql\n",
    "select count(*) as satır From Customers;"
   ]
  },
  {
   "cell_type": "code",
   "execution_count": 22,
   "metadata": {},
   "outputs": [],
   "source": [
    "# order_by\n",
    "#DESC Büyükten küçüğe\n",
    "#ASC Küçükten Büyüğe"
   ]
  },
  {
   "cell_type": "code",
   "execution_count": 23,
   "metadata": {},
   "outputs": [
    {
     "name": "stdout",
     "output_type": "stream",
     "text": [
      " * sqlite:///kadirculha.db\n",
      "Done.\n"
     ]
    },
    {
     "data": {
      "text/html": [
       "<table>\n",
       "    <thead>\n",
       "        <tr>\n",
       "            <th>ProductID</th>\n",
       "            <th>ProductName</th>\n",
       "            <th>SupplierID</th>\n",
       "            <th>CategoryID</th>\n",
       "            <th>Unit</th>\n",
       "            <th>Price</th>\n",
       "        </tr>\n",
       "    </thead>\n",
       "    <tbody>\n",
       "        <tr>\n",
       "            <td>13</td>\n",
       "            <td>Konbu</td>\n",
       "            <td>6</td>\n",
       "            <td>8</td>\n",
       "            <td>2 kg box</td>\n",
       "            <td>6</td>\n",
       "        </tr>\n",
       "        <tr>\n",
       "            <td>52</td>\n",
       "            <td>Filo Mix</td>\n",
       "            <td>24</td>\n",
       "            <td>5</td>\n",
       "            <td>16 - 2 kg boxes</td>\n",
       "            <td>7</td>\n",
       "        </tr>\n",
       "        <tr>\n",
       "            <td>23</td>\n",
       "            <td>Tunnbröd</td>\n",
       "            <td>9</td>\n",
       "            <td>5</td>\n",
       "            <td>12 - 250 g pkgs.</td>\n",
       "            <td>9</td>\n",
       "        </tr>\n",
       "        <tr>\n",
       "            <td>3</td>\n",
       "            <td>Aniseed Syrup</td>\n",
       "            <td>1</td>\n",
       "            <td>2</td>\n",
       "            <td>12 - 550 ml bottles</td>\n",
       "            <td>10</td>\n",
       "        </tr>\n",
       "        <tr>\n",
       "            <td>21</td>\n",
       "            <td>Sir Rodney&#x27;s Scones</td>\n",
       "            <td>8</td>\n",
       "            <td>3</td>\n",
       "            <td>24 pkgs. x 4 pieces</td>\n",
       "            <td>10</td>\n",
       "        </tr>\n",
       "        <tr>\n",
       "            <td>74</td>\n",
       "            <td>Longlife Tofu</td>\n",
       "            <td>4</td>\n",
       "            <td>7</td>\n",
       "            <td>5 kg pkg.</td>\n",
       "            <td>10</td>\n",
       "        </tr>\n",
       "        <tr>\n",
       "            <td>46</td>\n",
       "            <td>Spegesild</td>\n",
       "            <td>21</td>\n",
       "            <td>8</td>\n",
       "            <td>4 - 450 g glasses</td>\n",
       "            <td>12</td>\n",
       "        </tr>\n",
       "        <tr>\n",
       "            <td>58</td>\n",
       "            <td>Escargots de Bourgogne</td>\n",
       "            <td>27</td>\n",
       "            <td>8</td>\n",
       "            <td>24 pieces</td>\n",
       "            <td>13</td>\n",
       "        </tr>\n",
       "        <tr>\n",
       "            <td>77</td>\n",
       "            <td>Original Frankfurter grüne Soße</td>\n",
       "            <td>12</td>\n",
       "            <td>2</td>\n",
       "            <td>12 boxes</td>\n",
       "            <td>13</td>\n",
       "        </tr>\n",
       "        <tr>\n",
       "            <td>25</td>\n",
       "            <td>NuNuCa Nuß-Nougat-Creme</td>\n",
       "            <td>11</td>\n",
       "            <td>3</td>\n",
       "            <td>20 - 450 g glasses</td>\n",
       "            <td>14</td>\n",
       "        </tr>\n",
       "    </tbody>\n",
       "</table>"
      ],
      "text/plain": [
       "[(13, 'Konbu', 6, 8, '2 kg box', 6),\n",
       " (52, 'Filo Mix', 24, 5, '16 - 2 kg boxes', 7),\n",
       " (23, 'Tunnbröd', 9, 5, '12 - 250 g pkgs.', 9),\n",
       " (3, 'Aniseed Syrup', 1, 2, '12 - 550 ml bottles', 10),\n",
       " (21, \"Sir Rodney's Scones\", 8, 3, '24 pkgs. x 4 pieces', 10),\n",
       " (74, 'Longlife Tofu', 4, 7, '5 kg pkg.', 10),\n",
       " (46, 'Spegesild', 21, 8, '4 - 450 g glasses', 12),\n",
       " (58, 'Escargots de Bourgogne', 27, 8, '24 pieces', 13),\n",
       " (77, 'Original Frankfurter grüne Soße', 12, 2, '12 boxes', 13),\n",
       " (25, 'NuNuCa Nuß-Nougat-Creme', 11, 3, '20 - 450 g glasses', 14)]"
      ]
     },
     "execution_count": 23,
     "metadata": {},
     "output_type": "execute_result"
    }
   ],
   "source": [
    "%%sql\n",
    "SELECT * FROM Products order by Price ASC limit 10;"
   ]
  },
  {
   "cell_type": "code",
   "execution_count": null,
   "metadata": {},
   "outputs": [],
   "source": []
  },
  {
   "cell_type": "markdown",
   "metadata": {},
   "source": [
    "# WHERE"
   ]
  },
  {
   "cell_type": "code",
   "execution_count": 24,
   "metadata": {},
   "outputs": [
    {
     "name": "stdout",
     "output_type": "stream",
     "text": [
      " * sqlite:///kadirculha.db\n",
      "Done.\n"
     ]
    },
    {
     "data": {
      "text/html": [
       "<table>\n",
       "    <thead>\n",
       "        <tr>\n",
       "            <th>CustomerID</th>\n",
       "            <th>CustomerName</th>\n",
       "            <th>ContactName</th>\n",
       "            <th>Address</th>\n",
       "            <th>City</th>\n",
       "            <th>PostalCode</th>\n",
       "            <th>Country</th>\n",
       "        </tr>\n",
       "    </thead>\n",
       "    <tbody>\n",
       "        <tr>\n",
       "            <td>1</td>\n",
       "            <td>Alfreds Futterkiste</td>\n",
       "            <td>Maria Anders</td>\n",
       "            <td>Obere Str. 57</td>\n",
       "            <td>Berlin</td>\n",
       "            <td>12209</td>\n",
       "            <td>Germany</td>\n",
       "        </tr>\n",
       "        <tr>\n",
       "            <td>2</td>\n",
       "            <td>Ana Trujillo Emparedados y helados</td>\n",
       "            <td>Ana Trujillo</td>\n",
       "            <td>Avda. de la Constitución 2222</td>\n",
       "            <td>México D.F.</td>\n",
       "            <td>5021</td>\n",
       "            <td>Mexico</td>\n",
       "        </tr>\n",
       "        <tr>\n",
       "            <td>3</td>\n",
       "            <td>Antonio Moreno Taquería</td>\n",
       "            <td>Antonio Moreno</td>\n",
       "            <td>Mataderos 2312</td>\n",
       "            <td>México D.F.</td>\n",
       "            <td>5023</td>\n",
       "            <td>Mexico</td>\n",
       "        </tr>\n",
       "        <tr>\n",
       "            <td>4</td>\n",
       "            <td>Around the Horn</td>\n",
       "            <td>Thomas Hardy</td>\n",
       "            <td>120 Hanover Sq.</td>\n",
       "            <td>London</td>\n",
       "            <td>WA1 1DP</td>\n",
       "            <td>UK</td>\n",
       "        </tr>\n",
       "        <tr>\n",
       "            <td>5</td>\n",
       "            <td>Berglunds snabbköp</td>\n",
       "            <td>Christina Berglund</td>\n",
       "            <td>Berguvsvägen 8</td>\n",
       "            <td>Luleå</td>\n",
       "            <td>S-958 22</td>\n",
       "            <td>Sweden</td>\n",
       "        </tr>\n",
       "        <tr>\n",
       "            <td>6</td>\n",
       "            <td>Blauer See Delikatessen</td>\n",
       "            <td>Hanna Moos</td>\n",
       "            <td>Forsterstr. 57</td>\n",
       "            <td>Mannheim</td>\n",
       "            <td>68306</td>\n",
       "            <td>Germany</td>\n",
       "        </tr>\n",
       "        <tr>\n",
       "            <td>7</td>\n",
       "            <td>Blondel père et fils</td>\n",
       "            <td>Frédérique Citeaux</td>\n",
       "            <td>24, place Kléber</td>\n",
       "            <td>Strasbourg</td>\n",
       "            <td>67000</td>\n",
       "            <td>France</td>\n",
       "        </tr>\n",
       "        <tr>\n",
       "            <td>8</td>\n",
       "            <td>Bólido Comidas preparadas</td>\n",
       "            <td>Martín Sommer</td>\n",
       "            <td>C/ Araquil, 67</td>\n",
       "            <td>Madrid</td>\n",
       "            <td>28023</td>\n",
       "            <td>Spain</td>\n",
       "        </tr>\n",
       "        <tr>\n",
       "            <td>9</td>\n",
       "            <td>Bon app&#x27;</td>\n",
       "            <td>Laurence Lebihans</td>\n",
       "            <td>12, rue des Bouchers</td>\n",
       "            <td>Marseille</td>\n",
       "            <td>13008</td>\n",
       "            <td>France</td>\n",
       "        </tr>\n",
       "        <tr>\n",
       "            <td>10</td>\n",
       "            <td>Bottom-Dollar Marketse</td>\n",
       "            <td>Elizabeth Lincoln</td>\n",
       "            <td>23 Tsawassen Blvd.</td>\n",
       "            <td>Tsawassen</td>\n",
       "            <td>T2F 8M4</td>\n",
       "            <td>Canada</td>\n",
       "        </tr>\n",
       "    </tbody>\n",
       "</table>"
      ],
      "text/plain": [
       "[(1, 'Alfreds Futterkiste', 'Maria Anders', 'Obere Str. 57', 'Berlin', '12209', 'Germany'),\n",
       " (2, 'Ana Trujillo Emparedados y helados', 'Ana Trujillo', 'Avda. de la Constitución 2222', 'México D.F.', '5021', 'Mexico'),\n",
       " (3, 'Antonio Moreno Taquería', 'Antonio Moreno', 'Mataderos 2312', 'México D.F.', '5023', 'Mexico'),\n",
       " (4, 'Around the Horn', 'Thomas Hardy', '120 Hanover Sq.', 'London', 'WA1 1DP', 'UK'),\n",
       " (5, 'Berglunds snabbköp', 'Christina Berglund', 'Berguvsvägen 8', 'Luleå', 'S-958 22', 'Sweden'),\n",
       " (6, 'Blauer See Delikatessen', 'Hanna Moos', 'Forsterstr. 57', 'Mannheim', '68306', 'Germany'),\n",
       " (7, 'Blondel père et fils', 'Frédérique Citeaux', '24, place Kléber', 'Strasbourg', '67000', 'France'),\n",
       " (8, 'Bólido Comidas preparadas', 'Martín Sommer', 'C/ Araquil, 67', 'Madrid', '28023', 'Spain'),\n",
       " (9, \"Bon app'\", 'Laurence Lebihans', '12, rue des Bouchers', 'Marseille', '13008', 'France'),\n",
       " (10, 'Bottom-Dollar Marketse', 'Elizabeth Lincoln', '23 Tsawassen Blvd.', 'Tsawassen', 'T2F 8M4', 'Canada')]"
      ]
     },
     "execution_count": 24,
     "metadata": {},
     "output_type": "execute_result"
    }
   ],
   "source": [
    "%%sql \n",
    "SELECT * FROM Customers limit 10;\n"
   ]
  },
  {
   "cell_type": "code",
   "execution_count": 25,
   "metadata": {},
   "outputs": [],
   "source": [
    "#String seçim işlemi"
   ]
  },
  {
   "cell_type": "code",
   "execution_count": 26,
   "metadata": {},
   "outputs": [
    {
     "name": "stdout",
     "output_type": "stream",
     "text": [
      " * sqlite:///kadirculha.db\n",
      "Done.\n"
     ]
    },
    {
     "data": {
      "text/html": [
       "<table>\n",
       "    <thead>\n",
       "        <tr>\n",
       "            <th>CustomerID</th>\n",
       "            <th>CustomerName</th>\n",
       "            <th>ContactName</th>\n",
       "            <th>Address</th>\n",
       "            <th>City</th>\n",
       "            <th>PostalCode</th>\n",
       "            <th>Country</th>\n",
       "        </tr>\n",
       "    </thead>\n",
       "    <tbody>\n",
       "        <tr>\n",
       "            <td>5</td>\n",
       "            <td>Berglunds snabbköp</td>\n",
       "            <td>Christina Berglund</td>\n",
       "            <td>Berguvsvägen 8</td>\n",
       "            <td>Luleå</td>\n",
       "            <td>S-958 22</td>\n",
       "            <td>Sweden</td>\n",
       "        </tr>\n",
       "        <tr>\n",
       "            <td>24</td>\n",
       "            <td>Folk och fä HB</td>\n",
       "            <td>Maria Larsson</td>\n",
       "            <td>Åkergatan 24</td>\n",
       "            <td>Bräcke</td>\n",
       "            <td>S-844 67</td>\n",
       "            <td>Sweden</td>\n",
       "        </tr>\n",
       "    </tbody>\n",
       "</table>"
      ],
      "text/plain": [
       "[(5, 'Berglunds snabbköp', 'Christina Berglund', 'Berguvsvägen 8', 'Luleå', 'S-958 22', 'Sweden'),\n",
       " (24, 'Folk och fä HB', 'Maria Larsson', 'Åkergatan 24', 'Bräcke', 'S-844 67', 'Sweden')]"
      ]
     },
     "execution_count": 26,
     "metadata": {},
     "output_type": "execute_result"
    }
   ],
   "source": [
    "%%sql \n",
    "SELECT * FROM Customers where Country=\"Sweden\" limit 10;\n"
   ]
  },
  {
   "cell_type": "code",
   "execution_count": 27,
   "metadata": {},
   "outputs": [
    {
     "name": "stdout",
     "output_type": "stream",
     "text": [
      " * sqlite:///kadirculha.db\n",
      "Done.\n"
     ]
    },
    {
     "data": {
      "text/html": [
       "<table>\n",
       "    <thead>\n",
       "        <tr>\n",
       "            <th>CustomerID</th>\n",
       "            <th>CustomerName</th>\n",
       "            <th>ContactName</th>\n",
       "            <th>Address</th>\n",
       "            <th>City</th>\n",
       "            <th>PostalCode</th>\n",
       "            <th>Country</th>\n",
       "        </tr>\n",
       "    </thead>\n",
       "    <tbody>\n",
       "        <tr>\n",
       "            <td>1</td>\n",
       "            <td>Alfreds Futterkiste</td>\n",
       "            <td>Maria Anders</td>\n",
       "            <td>Obere Str. 57</td>\n",
       "            <td>Berlin</td>\n",
       "            <td>12209</td>\n",
       "            <td>Germany</td>\n",
       "        </tr>\n",
       "    </tbody>\n",
       "</table>"
      ],
      "text/plain": [
       "[(1, 'Alfreds Futterkiste', 'Maria Anders', 'Obere Str. 57', 'Berlin', '12209', 'Germany')]"
      ]
     },
     "execution_count": 27,
     "metadata": {},
     "output_type": "execute_result"
    }
   ],
   "source": [
    "%%sql \n",
    "SELECT * FROM Customers where City=\"Berlin\" limit 10;\n"
   ]
  },
  {
   "cell_type": "code",
   "execution_count": 28,
   "metadata": {},
   "outputs": [
    {
     "name": "stdout",
     "output_type": "stream",
     "text": [
      " * sqlite:///kadirculha.db\n",
      "Done.\n"
     ]
    },
    {
     "data": {
      "text/html": [
       "<table>\n",
       "    <thead>\n",
       "        <tr>\n",
       "            <th>CustomerID</th>\n",
       "            <th>CustomerName</th>\n",
       "            <th>ContactName</th>\n",
       "            <th>Address</th>\n",
       "            <th>City</th>\n",
       "            <th>PostalCode</th>\n",
       "            <th>Country</th>\n",
       "        </tr>\n",
       "    </thead>\n",
       "    <tbody>\n",
       "        <tr>\n",
       "            <td>2</td>\n",
       "            <td>Ana Trujillo Emparedados y helados</td>\n",
       "            <td>Ana Trujillo</td>\n",
       "            <td>Avda. de la Constitución 2222</td>\n",
       "            <td>México D.F.</td>\n",
       "            <td>5021</td>\n",
       "            <td>Mexico</td>\n",
       "        </tr>\n",
       "        <tr>\n",
       "            <td>3</td>\n",
       "            <td>Antonio Moreno Taquería</td>\n",
       "            <td>Antonio Moreno</td>\n",
       "            <td>Mataderos 2312</td>\n",
       "            <td>México D.F.</td>\n",
       "            <td>5023</td>\n",
       "            <td>Mexico</td>\n",
       "        </tr>\n",
       "        <tr>\n",
       "            <td>4</td>\n",
       "            <td>Around the Horn</td>\n",
       "            <td>Thomas Hardy</td>\n",
       "            <td>120 Hanover Sq.</td>\n",
       "            <td>London</td>\n",
       "            <td>WA1 1DP</td>\n",
       "            <td>UK</td>\n",
       "        </tr>\n",
       "        <tr>\n",
       "            <td>5</td>\n",
       "            <td>Berglunds snabbköp</td>\n",
       "            <td>Christina Berglund</td>\n",
       "            <td>Berguvsvägen 8</td>\n",
       "            <td>Luleå</td>\n",
       "            <td>S-958 22</td>\n",
       "            <td>Sweden</td>\n",
       "        </tr>\n",
       "        <tr>\n",
       "            <td>6</td>\n",
       "            <td>Blauer See Delikatessen</td>\n",
       "            <td>Hanna Moos</td>\n",
       "            <td>Forsterstr. 57</td>\n",
       "            <td>Mannheim</td>\n",
       "            <td>68306</td>\n",
       "            <td>Germany</td>\n",
       "        </tr>\n",
       "        <tr>\n",
       "            <td>7</td>\n",
       "            <td>Blondel père et fils</td>\n",
       "            <td>Frédérique Citeaux</td>\n",
       "            <td>24, place Kléber</td>\n",
       "            <td>Strasbourg</td>\n",
       "            <td>67000</td>\n",
       "            <td>France</td>\n",
       "        </tr>\n",
       "        <tr>\n",
       "            <td>8</td>\n",
       "            <td>Bólido Comidas preparadas</td>\n",
       "            <td>Martín Sommer</td>\n",
       "            <td>C/ Araquil, 67</td>\n",
       "            <td>Madrid</td>\n",
       "            <td>28023</td>\n",
       "            <td>Spain</td>\n",
       "        </tr>\n",
       "        <tr>\n",
       "            <td>9</td>\n",
       "            <td>Bon app&#x27;</td>\n",
       "            <td>Laurence Lebihans</td>\n",
       "            <td>12, rue des Bouchers</td>\n",
       "            <td>Marseille</td>\n",
       "            <td>13008</td>\n",
       "            <td>France</td>\n",
       "        </tr>\n",
       "        <tr>\n",
       "            <td>10</td>\n",
       "            <td>Bottom-Dollar Marketse</td>\n",
       "            <td>Elizabeth Lincoln</td>\n",
       "            <td>23 Tsawassen Blvd.</td>\n",
       "            <td>Tsawassen</td>\n",
       "            <td>T2F 8M4</td>\n",
       "            <td>Canada</td>\n",
       "        </tr>\n",
       "        <tr>\n",
       "            <td>11</td>\n",
       "            <td>B&#x27;s Beverages</td>\n",
       "            <td>Victoria Ashworth</td>\n",
       "            <td>Fauntleroy Circus</td>\n",
       "            <td>London</td>\n",
       "            <td>EC2 5NT</td>\n",
       "            <td>UK</td>\n",
       "        </tr>\n",
       "    </tbody>\n",
       "</table>"
      ],
      "text/plain": [
       "[(2, 'Ana Trujillo Emparedados y helados', 'Ana Trujillo', 'Avda. de la Constitución 2222', 'México D.F.', '5021', 'Mexico'),\n",
       " (3, 'Antonio Moreno Taquería', 'Antonio Moreno', 'Mataderos 2312', 'México D.F.', '5023', 'Mexico'),\n",
       " (4, 'Around the Horn', 'Thomas Hardy', '120 Hanover Sq.', 'London', 'WA1 1DP', 'UK'),\n",
       " (5, 'Berglunds snabbköp', 'Christina Berglund', 'Berguvsvägen 8', 'Luleå', 'S-958 22', 'Sweden'),\n",
       " (6, 'Blauer See Delikatessen', 'Hanna Moos', 'Forsterstr. 57', 'Mannheim', '68306', 'Germany'),\n",
       " (7, 'Blondel père et fils', 'Frédérique Citeaux', '24, place Kléber', 'Strasbourg', '67000', 'France'),\n",
       " (8, 'Bólido Comidas preparadas', 'Martín Sommer', 'C/ Araquil, 67', 'Madrid', '28023', 'Spain'),\n",
       " (9, \"Bon app'\", 'Laurence Lebihans', '12, rue des Bouchers', 'Marseille', '13008', 'France'),\n",
       " (10, 'Bottom-Dollar Marketse', 'Elizabeth Lincoln', '23 Tsawassen Blvd.', 'Tsawassen', 'T2F 8M4', 'Canada'),\n",
       " (11, \"B's Beverages\", 'Victoria Ashworth', 'Fauntleroy Circus', 'London', 'EC2 5NT', 'UK')]"
      ]
     },
     "execution_count": 28,
     "metadata": {},
     "output_type": "execute_result"
    }
   ],
   "source": [
    "%%sql \n",
    "SELECT * FROM Customers where NOT City=\"Berlin\" limit 10;\n"
   ]
  },
  {
   "cell_type": "code",
   "execution_count": 29,
   "metadata": {},
   "outputs": [],
   "source": [
    "## Numerik sayısal seçim "
   ]
  },
  {
   "cell_type": "code",
   "execution_count": 30,
   "metadata": {},
   "outputs": [
    {
     "name": "stdout",
     "output_type": "stream",
     "text": [
      " * sqlite:///kadirculha.db\n",
      "Done.\n"
     ]
    },
    {
     "data": {
      "text/html": [
       "<table>\n",
       "    <thead>\n",
       "        <tr>\n",
       "            <th>CustomerID</th>\n",
       "            <th>CustomerName</th>\n",
       "            <th>ContactName</th>\n",
       "            <th>Address</th>\n",
       "            <th>City</th>\n",
       "            <th>PostalCode</th>\n",
       "            <th>Country</th>\n",
       "        </tr>\n",
       "    </thead>\n",
       "    <tbody>\n",
       "        <tr>\n",
       "            <td>2</td>\n",
       "            <td>Ana Trujillo Emparedados y helados</td>\n",
       "            <td>Ana Trujillo</td>\n",
       "            <td>Avda. de la Constitución 2222</td>\n",
       "            <td>México D.F.</td>\n",
       "            <td>5021</td>\n",
       "            <td>Mexico</td>\n",
       "        </tr>\n",
       "    </tbody>\n",
       "</table>"
      ],
      "text/plain": [
       "[(2, 'Ana Trujillo Emparedados y helados', 'Ana Trujillo', 'Avda. de la Constitución 2222', 'México D.F.', '5021', 'Mexico')]"
      ]
     },
     "execution_count": 30,
     "metadata": {},
     "output_type": "execute_result"
    }
   ],
   "source": [
    "%%sql \n",
    "SELECT * FROM Customers WHERE PostalCode=5021 limit 10;"
   ]
  },
  {
   "cell_type": "code",
   "execution_count": 31,
   "metadata": {},
   "outputs": [
    {
     "name": "stdout",
     "output_type": "stream",
     "text": [
      " * sqlite:///kadirculha.db\n",
      "Done.\n"
     ]
    },
    {
     "data": {
      "text/html": [
       "<table>\n",
       "    <thead>\n",
       "        <tr>\n",
       "            <th>CustomerID</th>\n",
       "            <th>CustomerName</th>\n",
       "            <th>ContactName</th>\n",
       "            <th>Address</th>\n",
       "            <th>City</th>\n",
       "            <th>PostalCode</th>\n",
       "            <th>Country</th>\n",
       "        </tr>\n",
       "    </thead>\n",
       "    <tbody>\n",
       "        <tr>\n",
       "            <td>3</td>\n",
       "            <td>Antonio Moreno Taquería</td>\n",
       "            <td>Antonio Moreno</td>\n",
       "            <td>Mataderos 2312</td>\n",
       "            <td>México D.F.</td>\n",
       "            <td>5023</td>\n",
       "            <td>Mexico</td>\n",
       "        </tr>\n",
       "        <tr>\n",
       "            <td>4</td>\n",
       "            <td>Around the Horn</td>\n",
       "            <td>Thomas Hardy</td>\n",
       "            <td>120 Hanover Sq.</td>\n",
       "            <td>London</td>\n",
       "            <td>WA1 1DP</td>\n",
       "            <td>UK</td>\n",
       "        </tr>\n",
       "        <tr>\n",
       "            <td>5</td>\n",
       "            <td>Berglunds snabbköp</td>\n",
       "            <td>Christina Berglund</td>\n",
       "            <td>Berguvsvägen 8</td>\n",
       "            <td>Luleå</td>\n",
       "            <td>S-958 22</td>\n",
       "            <td>Sweden</td>\n",
       "        </tr>\n",
       "        <tr>\n",
       "            <td>6</td>\n",
       "            <td>Blauer See Delikatessen</td>\n",
       "            <td>Hanna Moos</td>\n",
       "            <td>Forsterstr. 57</td>\n",
       "            <td>Mannheim</td>\n",
       "            <td>68306</td>\n",
       "            <td>Germany</td>\n",
       "        </tr>\n",
       "        <tr>\n",
       "            <td>7</td>\n",
       "            <td>Blondel père et fils</td>\n",
       "            <td>Frédérique Citeaux</td>\n",
       "            <td>24, place Kléber</td>\n",
       "            <td>Strasbourg</td>\n",
       "            <td>67000</td>\n",
       "            <td>France</td>\n",
       "        </tr>\n",
       "        <tr>\n",
       "            <td>10</td>\n",
       "            <td>Bottom-Dollar Marketse</td>\n",
       "            <td>Elizabeth Lincoln</td>\n",
       "            <td>23 Tsawassen Blvd.</td>\n",
       "            <td>Tsawassen</td>\n",
       "            <td>T2F 8M4</td>\n",
       "            <td>Canada</td>\n",
       "        </tr>\n",
       "        <tr>\n",
       "            <td>11</td>\n",
       "            <td>B&#x27;s Beverages</td>\n",
       "            <td>Victoria Ashworth</td>\n",
       "            <td>Fauntleroy Circus</td>\n",
       "            <td>London</td>\n",
       "            <td>EC2 5NT</td>\n",
       "            <td>UK</td>\n",
       "        </tr>\n",
       "        <tr>\n",
       "            <td>13</td>\n",
       "            <td>Centro comercial Moctezuma</td>\n",
       "            <td>Francisco Chang</td>\n",
       "            <td>Sierras de Granada 9993</td>\n",
       "            <td>México D.F.</td>\n",
       "            <td>5022</td>\n",
       "            <td>Mexico</td>\n",
       "        </tr>\n",
       "        <tr>\n",
       "            <td>16</td>\n",
       "            <td>Consolidated Holdings</td>\n",
       "            <td>Elizabeth Brown</td>\n",
       "            <td>Berkeley Gardens 12 Brewery</td>\n",
       "            <td>London</td>\n",
       "            <td>WX1 6LT</td>\n",
       "            <td>UK</td>\n",
       "        </tr>\n",
       "        <tr>\n",
       "            <td>17</td>\n",
       "            <td>Drachenblut Delikatessend</td>\n",
       "            <td>Sven Ottlieb</td>\n",
       "            <td>Walserweg 21</td>\n",
       "            <td>Aachen</td>\n",
       "            <td>52066</td>\n",
       "            <td>Germany</td>\n",
       "        </tr>\n",
       "    </tbody>\n",
       "</table>"
      ],
      "text/plain": [
       "[(3, 'Antonio Moreno Taquería', 'Antonio Moreno', 'Mataderos 2312', 'México D.F.', '5023', 'Mexico'),\n",
       " (4, 'Around the Horn', 'Thomas Hardy', '120 Hanover Sq.', 'London', 'WA1 1DP', 'UK'),\n",
       " (5, 'Berglunds snabbköp', 'Christina Berglund', 'Berguvsvägen 8', 'Luleå', 'S-958 22', 'Sweden'),\n",
       " (6, 'Blauer See Delikatessen', 'Hanna Moos', 'Forsterstr. 57', 'Mannheim', '68306', 'Germany'),\n",
       " (7, 'Blondel père et fils', 'Frédérique Citeaux', '24, place Kléber', 'Strasbourg', '67000', 'France'),\n",
       " (10, 'Bottom-Dollar Marketse', 'Elizabeth Lincoln', '23 Tsawassen Blvd.', 'Tsawassen', 'T2F 8M4', 'Canada'),\n",
       " (11, \"B's Beverages\", 'Victoria Ashworth', 'Fauntleroy Circus', 'London', 'EC2 5NT', 'UK'),\n",
       " (13, 'Centro comercial Moctezuma', 'Francisco Chang', 'Sierras de Granada 9993', 'México D.F.', '5022', 'Mexico'),\n",
       " (16, 'Consolidated Holdings', 'Elizabeth Brown', 'Berkeley Gardens 12 Brewery', 'London', 'WX1 6LT', 'UK'),\n",
       " (17, 'Drachenblut Delikatessend', 'Sven Ottlieb', 'Walserweg 21', 'Aachen', '52066', 'Germany')]"
      ]
     },
     "execution_count": 31,
     "metadata": {},
     "output_type": "execute_result"
    }
   ],
   "source": [
    "%%sql \n",
    "SELECT * FROM Customers WHERE PostalCode > 5021 limit 10;"
   ]
  },
  {
   "cell_type": "code",
   "execution_count": 32,
   "metadata": {},
   "outputs": [],
   "source": [
    "# and ve or ifadeleri"
   ]
  },
  {
   "cell_type": "code",
   "execution_count": 33,
   "metadata": {},
   "outputs": [
    {
     "name": "stdout",
     "output_type": "stream",
     "text": [
      " * sqlite:///kadirculha.db\n",
      "Done.\n"
     ]
    },
    {
     "data": {
      "text/html": [
       "<table>\n",
       "    <thead>\n",
       "        <tr>\n",
       "            <th>CustomerID</th>\n",
       "            <th>CustomerName</th>\n",
       "            <th>ContactName</th>\n",
       "            <th>Address</th>\n",
       "            <th>City</th>\n",
       "            <th>PostalCode</th>\n",
       "            <th>Country</th>\n",
       "        </tr>\n",
       "    </thead>\n",
       "    <tbody>\n",
       "        <tr>\n",
       "            <td>1</td>\n",
       "            <td>Alfreds Futterkiste</td>\n",
       "            <td>Maria Anders</td>\n",
       "            <td>Obere Str. 57</td>\n",
       "            <td>Berlin</td>\n",
       "            <td>12209</td>\n",
       "            <td>Germany</td>\n",
       "        </tr>\n",
       "        <tr>\n",
       "            <td>2</td>\n",
       "            <td>Ana Trujillo Emparedados y helados</td>\n",
       "            <td>Ana Trujillo</td>\n",
       "            <td>Avda. de la Constitución 2222</td>\n",
       "            <td>México D.F.</td>\n",
       "            <td>5021</td>\n",
       "            <td>Mexico</td>\n",
       "        </tr>\n",
       "        <tr>\n",
       "            <td>3</td>\n",
       "            <td>Antonio Moreno Taquería</td>\n",
       "            <td>Antonio Moreno</td>\n",
       "            <td>Mataderos 2312</td>\n",
       "            <td>México D.F.</td>\n",
       "            <td>5023</td>\n",
       "            <td>Mexico</td>\n",
       "        </tr>\n",
       "        <tr>\n",
       "            <td>4</td>\n",
       "            <td>Around the Horn</td>\n",
       "            <td>Thomas Hardy</td>\n",
       "            <td>120 Hanover Sq.</td>\n",
       "            <td>London</td>\n",
       "            <td>WA1 1DP</td>\n",
       "            <td>UK</td>\n",
       "        </tr>\n",
       "        <tr>\n",
       "            <td>5</td>\n",
       "            <td>Berglunds snabbköp</td>\n",
       "            <td>Christina Berglund</td>\n",
       "            <td>Berguvsvägen 8</td>\n",
       "            <td>Luleå</td>\n",
       "            <td>S-958 22</td>\n",
       "            <td>Sweden</td>\n",
       "        </tr>\n",
       "        <tr>\n",
       "            <td>6</td>\n",
       "            <td>Blauer See Delikatessen</td>\n",
       "            <td>Hanna Moos</td>\n",
       "            <td>Forsterstr. 57</td>\n",
       "            <td>Mannheim</td>\n",
       "            <td>68306</td>\n",
       "            <td>Germany</td>\n",
       "        </tr>\n",
       "        <tr>\n",
       "            <td>7</td>\n",
       "            <td>Blondel père et fils</td>\n",
       "            <td>Frédérique Citeaux</td>\n",
       "            <td>24, place Kléber</td>\n",
       "            <td>Strasbourg</td>\n",
       "            <td>67000</td>\n",
       "            <td>France</td>\n",
       "        </tr>\n",
       "        <tr>\n",
       "            <td>8</td>\n",
       "            <td>Bólido Comidas preparadas</td>\n",
       "            <td>Martín Sommer</td>\n",
       "            <td>C/ Araquil, 67</td>\n",
       "            <td>Madrid</td>\n",
       "            <td>28023</td>\n",
       "            <td>Spain</td>\n",
       "        </tr>\n",
       "        <tr>\n",
       "            <td>9</td>\n",
       "            <td>Bon app&#x27;</td>\n",
       "            <td>Laurence Lebihans</td>\n",
       "            <td>12, rue des Bouchers</td>\n",
       "            <td>Marseille</td>\n",
       "            <td>13008</td>\n",
       "            <td>France</td>\n",
       "        </tr>\n",
       "        <tr>\n",
       "            <td>10</td>\n",
       "            <td>Bottom-Dollar Marketse</td>\n",
       "            <td>Elizabeth Lincoln</td>\n",
       "            <td>23 Tsawassen Blvd.</td>\n",
       "            <td>Tsawassen</td>\n",
       "            <td>T2F 8M4</td>\n",
       "            <td>Canada</td>\n",
       "        </tr>\n",
       "    </tbody>\n",
       "</table>"
      ],
      "text/plain": [
       "[(1, 'Alfreds Futterkiste', 'Maria Anders', 'Obere Str. 57', 'Berlin', '12209', 'Germany'),\n",
       " (2, 'Ana Trujillo Emparedados y helados', 'Ana Trujillo', 'Avda. de la Constitución 2222', 'México D.F.', '5021', 'Mexico'),\n",
       " (3, 'Antonio Moreno Taquería', 'Antonio Moreno', 'Mataderos 2312', 'México D.F.', '5023', 'Mexico'),\n",
       " (4, 'Around the Horn', 'Thomas Hardy', '120 Hanover Sq.', 'London', 'WA1 1DP', 'UK'),\n",
       " (5, 'Berglunds snabbköp', 'Christina Berglund', 'Berguvsvägen 8', 'Luleå', 'S-958 22', 'Sweden'),\n",
       " (6, 'Blauer See Delikatessen', 'Hanna Moos', 'Forsterstr. 57', 'Mannheim', '68306', 'Germany'),\n",
       " (7, 'Blondel père et fils', 'Frédérique Citeaux', '24, place Kléber', 'Strasbourg', '67000', 'France'),\n",
       " (8, 'Bólido Comidas preparadas', 'Martín Sommer', 'C/ Araquil, 67', 'Madrid', '28023', 'Spain'),\n",
       " (9, \"Bon app'\", 'Laurence Lebihans', '12, rue des Bouchers', 'Marseille', '13008', 'France'),\n",
       " (10, 'Bottom-Dollar Marketse', 'Elizabeth Lincoln', '23 Tsawassen Blvd.', 'Tsawassen', 'T2F 8M4', 'Canada')]"
      ]
     },
     "execution_count": 33,
     "metadata": {},
     "output_type": "execute_result"
    }
   ],
   "source": [
    "%%sql \n",
    "SELECT * FROM Customers limit 10;"
   ]
  },
  {
   "cell_type": "code",
   "execution_count": 34,
   "metadata": {},
   "outputs": [
    {
     "name": "stdout",
     "output_type": "stream",
     "text": [
      " * sqlite:///kadirculha.db\n",
      "Done.\n"
     ]
    },
    {
     "data": {
      "text/html": [
       "<table>\n",
       "    <thead>\n",
       "        <tr>\n",
       "            <th>CustomerID</th>\n",
       "            <th>CustomerName</th>\n",
       "            <th>ContactName</th>\n",
       "            <th>Address</th>\n",
       "            <th>City</th>\n",
       "            <th>PostalCode</th>\n",
       "            <th>Country</th>\n",
       "        </tr>\n",
       "    </thead>\n",
       "    <tbody>\n",
       "        <tr>\n",
       "            <td>4</td>\n",
       "            <td>Around the Horn</td>\n",
       "            <td>Thomas Hardy</td>\n",
       "            <td>120 Hanover Sq.</td>\n",
       "            <td>London</td>\n",
       "            <td>WA1 1DP</td>\n",
       "            <td>UK</td>\n",
       "        </tr>\n",
       "        <tr>\n",
       "            <td>11</td>\n",
       "            <td>B&#x27;s Beverages</td>\n",
       "            <td>Victoria Ashworth</td>\n",
       "            <td>Fauntleroy Circus</td>\n",
       "            <td>London</td>\n",
       "            <td>EC2 5NT</td>\n",
       "            <td>UK</td>\n",
       "        </tr>\n",
       "        <tr>\n",
       "            <td>16</td>\n",
       "            <td>Consolidated Holdings</td>\n",
       "            <td>Elizabeth Brown</td>\n",
       "            <td>Berkeley Gardens 12 Brewery</td>\n",
       "            <td>London</td>\n",
       "            <td>WX1 6LT</td>\n",
       "            <td>UK</td>\n",
       "        </tr>\n",
       "        <tr>\n",
       "            <td>19</td>\n",
       "            <td>Eastern Connection</td>\n",
       "            <td>Ann Devon</td>\n",
       "            <td>35 King George</td>\n",
       "            <td>London</td>\n",
       "            <td>WX3 6FW</td>\n",
       "            <td>UK</td>\n",
       "        </tr>\n",
       "        <tr>\n",
       "            <td>53</td>\n",
       "            <td>North/South</td>\n",
       "            <td>Simon Crowther</td>\n",
       "            <td>South House 300 Queensbridge</td>\n",
       "            <td>London</td>\n",
       "            <td>SW7 1RZ</td>\n",
       "            <td>UK</td>\n",
       "        </tr>\n",
       "        <tr>\n",
       "            <td>72</td>\n",
       "            <td>Seven Seas Imports</td>\n",
       "            <td>Hari Kumar</td>\n",
       "            <td>90 Wadhurst Rd.</td>\n",
       "            <td>London</td>\n",
       "            <td>OX15 4NB</td>\n",
       "            <td>UK</td>\n",
       "        </tr>\n",
       "    </tbody>\n",
       "</table>"
      ],
      "text/plain": [
       "[(4, 'Around the Horn', 'Thomas Hardy', '120 Hanover Sq.', 'London', 'WA1 1DP', 'UK'),\n",
       " (11, \"B's Beverages\", 'Victoria Ashworth', 'Fauntleroy Circus', 'London', 'EC2 5NT', 'UK'),\n",
       " (16, 'Consolidated Holdings', 'Elizabeth Brown', 'Berkeley Gardens 12 Brewery', 'London', 'WX1 6LT', 'UK'),\n",
       " (19, 'Eastern Connection', 'Ann Devon', '35 King George', 'London', 'WX3 6FW', 'UK'),\n",
       " (53, 'North/South', 'Simon Crowther', 'South House 300 Queensbridge', 'London', 'SW7 1RZ', 'UK'),\n",
       " (72, 'Seven Seas Imports', 'Hari Kumar', '90 Wadhurst Rd.', 'London', 'OX15 4NB', 'UK')]"
      ]
     },
     "execution_count": 34,
     "metadata": {},
     "output_type": "execute_result"
    }
   ],
   "source": [
    "%%sql \n",
    "SELECT * FROM Customers WHERE Country=\"UK\" AND City=\"London\" ;"
   ]
  },
  {
   "cell_type": "code",
   "execution_count": 35,
   "metadata": {},
   "outputs": [
    {
     "name": "stdout",
     "output_type": "stream",
     "text": [
      " * sqlite:///kadirculha.db\n",
      "Done.\n"
     ]
    },
    {
     "data": {
      "text/html": [
       "<table>\n",
       "    <thead>\n",
       "        <tr>\n",
       "            <th>CustomerID</th>\n",
       "            <th>CustomerName</th>\n",
       "            <th>ContactName</th>\n",
       "            <th>Address</th>\n",
       "            <th>City</th>\n",
       "            <th>PostalCode</th>\n",
       "            <th>Country</th>\n",
       "        </tr>\n",
       "    </thead>\n",
       "    <tbody>\n",
       "        <tr>\n",
       "            <td>4</td>\n",
       "            <td>Around the Horn</td>\n",
       "            <td>Thomas Hardy</td>\n",
       "            <td>120 Hanover Sq.</td>\n",
       "            <td>London</td>\n",
       "            <td>WA1 1DP</td>\n",
       "            <td>UK</td>\n",
       "        </tr>\n",
       "        <tr>\n",
       "            <td>11</td>\n",
       "            <td>B&#x27;s Beverages</td>\n",
       "            <td>Victoria Ashworth</td>\n",
       "            <td>Fauntleroy Circus</td>\n",
       "            <td>London</td>\n",
       "            <td>EC2 5NT</td>\n",
       "            <td>UK</td>\n",
       "        </tr>\n",
       "        <tr>\n",
       "            <td>16</td>\n",
       "            <td>Consolidated Holdings</td>\n",
       "            <td>Elizabeth Brown</td>\n",
       "            <td>Berkeley Gardens 12 Brewery</td>\n",
       "            <td>London</td>\n",
       "            <td>WX1 6LT</td>\n",
       "            <td>UK</td>\n",
       "        </tr>\n",
       "        <tr>\n",
       "            <td>19</td>\n",
       "            <td>Eastern Connection</td>\n",
       "            <td>Ann Devon</td>\n",
       "            <td>35 King George</td>\n",
       "            <td>London</td>\n",
       "            <td>WX3 6FW</td>\n",
       "            <td>UK</td>\n",
       "        </tr>\n",
       "        <tr>\n",
       "            <td>32</td>\n",
       "            <td>Great Lakes Food Market</td>\n",
       "            <td>Howard Snyder</td>\n",
       "            <td>2732 Baker Blvd.</td>\n",
       "            <td>Eugene</td>\n",
       "            <td>97403</td>\n",
       "            <td>USA</td>\n",
       "        </tr>\n",
       "        <tr>\n",
       "            <td>36</td>\n",
       "            <td>Hungry Coyote Import Store</td>\n",
       "            <td>Yoshi Latimer</td>\n",
       "            <td>City Center Plaza 516 Main St.</td>\n",
       "            <td>Elgin</td>\n",
       "            <td>97827</td>\n",
       "            <td>USA</td>\n",
       "        </tr>\n",
       "        <tr>\n",
       "            <td>38</td>\n",
       "            <td>Island Trading</td>\n",
       "            <td>Helen Bennett</td>\n",
       "            <td>Garden House Crowther Way</td>\n",
       "            <td>Cowes</td>\n",
       "            <td>PO31 7PJ</td>\n",
       "            <td>UK</td>\n",
       "        </tr>\n",
       "        <tr>\n",
       "            <td>43</td>\n",
       "            <td>Lazy K Kountry Store</td>\n",
       "            <td>John Steel</td>\n",
       "            <td>12 Orchestra Terrace</td>\n",
       "            <td>Walla Walla</td>\n",
       "            <td>99362</td>\n",
       "            <td>USA</td>\n",
       "        </tr>\n",
       "        <tr>\n",
       "            <td>45</td>\n",
       "            <td>Let&#x27;s Stop N Shop</td>\n",
       "            <td>Jaime Yorres</td>\n",
       "            <td>87 Polk St. Suite 5</td>\n",
       "            <td>San Francisco</td>\n",
       "            <td>94117</td>\n",
       "            <td>USA</td>\n",
       "        </tr>\n",
       "        <tr>\n",
       "            <td>48</td>\n",
       "            <td>Lonesome Pine Restaurant</td>\n",
       "            <td>Fran Wilson</td>\n",
       "            <td>89 Chiaroscuro Rd.</td>\n",
       "            <td>Portland</td>\n",
       "            <td>97219</td>\n",
       "            <td>USA</td>\n",
       "        </tr>\n",
       "        <tr>\n",
       "            <td>53</td>\n",
       "            <td>North/South</td>\n",
       "            <td>Simon Crowther</td>\n",
       "            <td>South House 300 Queensbridge</td>\n",
       "            <td>London</td>\n",
       "            <td>SW7 1RZ</td>\n",
       "            <td>UK</td>\n",
       "        </tr>\n",
       "        <tr>\n",
       "            <td>55</td>\n",
       "            <td>Old World Delicatessen</td>\n",
       "            <td>Rene Phillips</td>\n",
       "            <td>2743 Bering St.</td>\n",
       "            <td>Anchorage</td>\n",
       "            <td>99508</td>\n",
       "            <td>USA</td>\n",
       "        </tr>\n",
       "        <tr>\n",
       "            <td>65</td>\n",
       "            <td>Rattlesnake Canyon Grocery</td>\n",
       "            <td>Paula Wilson</td>\n",
       "            <td>2817 Milton Dr.</td>\n",
       "            <td>Albuquerque</td>\n",
       "            <td>87110</td>\n",
       "            <td>USA</td>\n",
       "        </tr>\n",
       "        <tr>\n",
       "            <td>71</td>\n",
       "            <td>Save-a-lot Markets</td>\n",
       "            <td>Jose Pavarotti</td>\n",
       "            <td>187 Suffolk Ln.</td>\n",
       "            <td>Boise</td>\n",
       "            <td>83720</td>\n",
       "            <td>USA</td>\n",
       "        </tr>\n",
       "        <tr>\n",
       "            <td>72</td>\n",
       "            <td>Seven Seas Imports</td>\n",
       "            <td>Hari Kumar</td>\n",
       "            <td>90 Wadhurst Rd.</td>\n",
       "            <td>London</td>\n",
       "            <td>OX15 4NB</td>\n",
       "            <td>UK</td>\n",
       "        </tr>\n",
       "        <tr>\n",
       "            <td>75</td>\n",
       "            <td>Split Rail Beer &amp; Ale</td>\n",
       "            <td>Art Braunschweiger</td>\n",
       "            <td>P.O. Box 555</td>\n",
       "            <td>Lander</td>\n",
       "            <td>82520</td>\n",
       "            <td>USA</td>\n",
       "        </tr>\n",
       "        <tr>\n",
       "            <td>77</td>\n",
       "            <td>The Big Cheese</td>\n",
       "            <td>Liz Nixon</td>\n",
       "            <td>89 Jefferson Way Suite 2</td>\n",
       "            <td>Portland</td>\n",
       "            <td>97201</td>\n",
       "            <td>USA</td>\n",
       "        </tr>\n",
       "        <tr>\n",
       "            <td>78</td>\n",
       "            <td>The Cracker Box</td>\n",
       "            <td>Liu Wong</td>\n",
       "            <td>55 Grizzly Peak Rd.</td>\n",
       "            <td>Butte</td>\n",
       "            <td>59801</td>\n",
       "            <td>USA</td>\n",
       "        </tr>\n",
       "        <tr>\n",
       "            <td>82</td>\n",
       "            <td>Trail&#x27;s Head Gourmet Provisioners</td>\n",
       "            <td>Helvetius Nagy</td>\n",
       "            <td>722 DaVinci Blvd.</td>\n",
       "            <td>Kirkland</td>\n",
       "            <td>98034</td>\n",
       "            <td>USA</td>\n",
       "        </tr>\n",
       "        <tr>\n",
       "            <td>89</td>\n",
       "            <td>White Clover Markets</td>\n",
       "            <td>Karl Jablonski</td>\n",
       "            <td>305 - 14th Ave. S. Suite 3B</td>\n",
       "            <td>Seattle</td>\n",
       "            <td>98128</td>\n",
       "            <td>USA</td>\n",
       "        </tr>\n",
       "    </tbody>\n",
       "</table>"
      ],
      "text/plain": [
       "[(4, 'Around the Horn', 'Thomas Hardy', '120 Hanover Sq.', 'London', 'WA1 1DP', 'UK'),\n",
       " (11, \"B's Beverages\", 'Victoria Ashworth', 'Fauntleroy Circus', 'London', 'EC2 5NT', 'UK'),\n",
       " (16, 'Consolidated Holdings', 'Elizabeth Brown', 'Berkeley Gardens 12 Brewery', 'London', 'WX1 6LT', 'UK'),\n",
       " (19, 'Eastern Connection', 'Ann Devon', '35 King George', 'London', 'WX3 6FW', 'UK'),\n",
       " (32, 'Great Lakes Food Market', 'Howard Snyder', '2732 Baker Blvd.', 'Eugene', '97403', 'USA'),\n",
       " (36, 'Hungry Coyote Import Store', 'Yoshi Latimer', 'City Center Plaza 516 Main St.', 'Elgin', '97827', 'USA'),\n",
       " (38, 'Island Trading', 'Helen Bennett', 'Garden House Crowther Way', 'Cowes', 'PO31 7PJ', 'UK'),\n",
       " (43, 'Lazy K Kountry Store', 'John Steel', '12 Orchestra Terrace', 'Walla Walla', '99362', 'USA'),\n",
       " (45, \"Let's Stop N Shop\", 'Jaime Yorres', '87 Polk St. Suite 5', 'San Francisco', '94117', 'USA'),\n",
       " (48, 'Lonesome Pine Restaurant', 'Fran Wilson', '89 Chiaroscuro Rd.', 'Portland', '97219', 'USA'),\n",
       " (53, 'North/South', 'Simon Crowther', 'South House 300 Queensbridge', 'London', 'SW7 1RZ', 'UK'),\n",
       " (55, 'Old World Delicatessen', 'Rene Phillips', '2743 Bering St.', 'Anchorage', '99508', 'USA'),\n",
       " (65, 'Rattlesnake Canyon Grocery', 'Paula Wilson', '2817 Milton Dr.', 'Albuquerque', '87110', 'USA'),\n",
       " (71, 'Save-a-lot Markets', 'Jose Pavarotti', '187 Suffolk Ln.', 'Boise', '83720', 'USA'),\n",
       " (72, 'Seven Seas Imports', 'Hari Kumar', '90 Wadhurst Rd.', 'London', 'OX15 4NB', 'UK'),\n",
       " (75, 'Split Rail Beer & Ale', 'Art Braunschweiger', 'P.O. Box 555', 'Lander', '82520', 'USA'),\n",
       " (77, 'The Big Cheese', 'Liz Nixon', '89 Jefferson Way Suite 2', 'Portland', '97201', 'USA'),\n",
       " (78, 'The Cracker Box', 'Liu Wong', '55 Grizzly Peak Rd.', 'Butte', '59801', 'USA'),\n",
       " (82, \"Trail's Head Gourmet Provisioners\", 'Helvetius Nagy', '722 DaVinci Blvd.', 'Kirkland', '98034', 'USA'),\n",
       " (89, 'White Clover Markets', 'Karl Jablonski', '305 - 14th Ave. S. Suite 3B', 'Seattle', '98128', 'USA')]"
      ]
     },
     "execution_count": 35,
     "metadata": {},
     "output_type": "execute_result"
    }
   ],
   "source": [
    "%%sql \n",
    "SELECT * FROM Customers WHERE Country=\"UK\" OR Country=\"USA\" ;"
   ]
  },
  {
   "cell_type": "code",
   "execution_count": 36,
   "metadata": {},
   "outputs": [
    {
     "name": "stdout",
     "output_type": "stream",
     "text": [
      " * sqlite:///kadirculha.db\n",
      "Done.\n"
     ]
    },
    {
     "data": {
      "text/html": [
       "<table>\n",
       "    <thead>\n",
       "        <tr>\n",
       "            <th>CustomerID</th>\n",
       "            <th>CustomerName</th>\n",
       "            <th>ContactName</th>\n",
       "            <th>Address</th>\n",
       "            <th>City</th>\n",
       "            <th>PostalCode</th>\n",
       "            <th>Country</th>\n",
       "        </tr>\n",
       "    </thead>\n",
       "    <tbody>\n",
       "        <tr>\n",
       "            <td>32</td>\n",
       "            <td>Great Lakes Food Market</td>\n",
       "            <td>Howard Snyder</td>\n",
       "            <td>2732 Baker Blvd.</td>\n",
       "            <td>Eugene</td>\n",
       "            <td>97403</td>\n",
       "            <td>USA</td>\n",
       "        </tr>\n",
       "        <tr>\n",
       "            <td>48</td>\n",
       "            <td>Lonesome Pine Restaurant</td>\n",
       "            <td>Fran Wilson</td>\n",
       "            <td>89 Chiaroscuro Rd.</td>\n",
       "            <td>Portland</td>\n",
       "            <td>97219</td>\n",
       "            <td>USA</td>\n",
       "        </tr>\n",
       "        <tr>\n",
       "            <td>77</td>\n",
       "            <td>The Big Cheese</td>\n",
       "            <td>Liz Nixon</td>\n",
       "            <td>89 Jefferson Way Suite 2</td>\n",
       "            <td>Portland</td>\n",
       "            <td>97201</td>\n",
       "            <td>USA</td>\n",
       "        </tr>\n",
       "    </tbody>\n",
       "</table>"
      ],
      "text/plain": [
       "[(32, 'Great Lakes Food Market', 'Howard Snyder', '2732 Baker Blvd.', 'Eugene', '97403', 'USA'),\n",
       " (48, 'Lonesome Pine Restaurant', 'Fran Wilson', '89 Chiaroscuro Rd.', 'Portland', '97219', 'USA'),\n",
       " (77, 'The Big Cheese', 'Liz Nixon', '89 Jefferson Way Suite 2', 'Portland', '97201', 'USA')]"
      ]
     },
     "execution_count": 36,
     "metadata": {},
     "output_type": "execute_result"
    }
   ],
   "source": [
    "%%sql \n",
    "SELECT * FROM Customers WHERE Country=\"USA\" AND (City =\"Eugene\" OR City=\"Portland\") ;"
   ]
  },
  {
   "cell_type": "code",
   "execution_count": 37,
   "metadata": {},
   "outputs": [
    {
     "name": "stdout",
     "output_type": "stream",
     "text": [
      " * sqlite:///kadirculha.db\n",
      "Done.\n"
     ]
    },
    {
     "data": {
      "text/html": [
       "<table>\n",
       "    <thead>\n",
       "        <tr>\n",
       "            <th>CustomerID</th>\n",
       "            <th>CustomerName</th>\n",
       "            <th>ContactName</th>\n",
       "            <th>Address</th>\n",
       "            <th>City</th>\n",
       "            <th>PostalCode</th>\n",
       "            <th>Country</th>\n",
       "        </tr>\n",
       "    </thead>\n",
       "    <tbody>\n",
       "        <tr>\n",
       "            <td>32</td>\n",
       "            <td>Great Lakes Food Market</td>\n",
       "            <td>Howard Snyder</td>\n",
       "            <td>2732 Baker Blvd.</td>\n",
       "            <td>Eugene</td>\n",
       "            <td>97403</td>\n",
       "            <td>USA</td>\n",
       "        </tr>\n",
       "    </tbody>\n",
       "</table>"
      ],
      "text/plain": [
       "[(32, 'Great Lakes Food Market', 'Howard Snyder', '2732 Baker Blvd.', 'Eugene', '97403', 'USA')]"
      ]
     },
     "execution_count": 37,
     "metadata": {},
     "output_type": "execute_result"
    }
   ],
   "source": [
    "%%sql \n",
    "SELECT * FROM Customers WHERE Country=\"USA\" AND PostalCode=97403 AND (City =\"Eugene\" OR City=\"Portland\");"
   ]
  },
  {
   "cell_type": "code",
   "execution_count": 38,
   "metadata": {},
   "outputs": [],
   "source": [
    "# in / not in "
   ]
  },
  {
   "cell_type": "code",
   "execution_count": 39,
   "metadata": {},
   "outputs": [
    {
     "name": "stdout",
     "output_type": "stream",
     "text": [
      " * sqlite:///kadirculha.db\n",
      "Done.\n"
     ]
    },
    {
     "data": {
      "text/html": [
       "<table>\n",
       "    <thead>\n",
       "        <tr>\n",
       "            <th>CustomerID</th>\n",
       "            <th>CustomerName</th>\n",
       "            <th>ContactName</th>\n",
       "            <th>Address</th>\n",
       "            <th>City</th>\n",
       "            <th>PostalCode</th>\n",
       "            <th>Country</th>\n",
       "        </tr>\n",
       "    </thead>\n",
       "    <tbody>\n",
       "        <tr>\n",
       "            <td>32</td>\n",
       "            <td>Great Lakes Food Market</td>\n",
       "            <td>Howard Snyder</td>\n",
       "            <td>2732 Baker Blvd.</td>\n",
       "            <td>Eugene</td>\n",
       "            <td>97403</td>\n",
       "            <td>USA</td>\n",
       "        </tr>\n",
       "        <tr>\n",
       "            <td>48</td>\n",
       "            <td>Lonesome Pine Restaurant</td>\n",
       "            <td>Fran Wilson</td>\n",
       "            <td>89 Chiaroscuro Rd.</td>\n",
       "            <td>Portland</td>\n",
       "            <td>97219</td>\n",
       "            <td>USA</td>\n",
       "        </tr>\n",
       "        <tr>\n",
       "            <td>77</td>\n",
       "            <td>The Big Cheese</td>\n",
       "            <td>Liz Nixon</td>\n",
       "            <td>89 Jefferson Way Suite 2</td>\n",
       "            <td>Portland</td>\n",
       "            <td>97201</td>\n",
       "            <td>USA</td>\n",
       "        </tr>\n",
       "        <tr>\n",
       "            <td>89</td>\n",
       "            <td>White Clover Markets</td>\n",
       "            <td>Karl Jablonski</td>\n",
       "            <td>305 - 14th Ave. S. Suite 3B</td>\n",
       "            <td>Seattle</td>\n",
       "            <td>98128</td>\n",
       "            <td>USA</td>\n",
       "        </tr>\n",
       "    </tbody>\n",
       "</table>"
      ],
      "text/plain": [
       "[(32, 'Great Lakes Food Market', 'Howard Snyder', '2732 Baker Blvd.', 'Eugene', '97403', 'USA'),\n",
       " (48, 'Lonesome Pine Restaurant', 'Fran Wilson', '89 Chiaroscuro Rd.', 'Portland', '97219', 'USA'),\n",
       " (77, 'The Big Cheese', 'Liz Nixon', '89 Jefferson Way Suite 2', 'Portland', '97201', 'USA'),\n",
       " (89, 'White Clover Markets', 'Karl Jablonski', '305 - 14th Ave. S. Suite 3B', 'Seattle', '98128', 'USA')]"
      ]
     },
     "execution_count": 39,
     "metadata": {},
     "output_type": "execute_result"
    }
   ],
   "source": [
    "%%sql \n",
    "SELECT * FROM Customers WHERE Country=\"USA\" AND (City in (\"Eugene\",\"Portland\",\"Seattle\"));"
   ]
  },
  {
   "cell_type": "code",
   "execution_count": 40,
   "metadata": {},
   "outputs": [
    {
     "name": "stdout",
     "output_type": "stream",
     "text": [
      " * sqlite:///kadirculha.db\n",
      "Done.\n"
     ]
    },
    {
     "data": {
      "text/html": [
       "<table>\n",
       "    <thead>\n",
       "        <tr>\n",
       "            <th>CustomerID</th>\n",
       "            <th>CustomerName</th>\n",
       "            <th>ContactName</th>\n",
       "            <th>Address</th>\n",
       "            <th>City</th>\n",
       "            <th>PostalCode</th>\n",
       "            <th>Country</th>\n",
       "        </tr>\n",
       "    </thead>\n",
       "    <tbody>\n",
       "        <tr>\n",
       "            <td>36</td>\n",
       "            <td>Hungry Coyote Import Store</td>\n",
       "            <td>Yoshi Latimer</td>\n",
       "            <td>City Center Plaza 516 Main St.</td>\n",
       "            <td>Elgin</td>\n",
       "            <td>97827</td>\n",
       "            <td>USA</td>\n",
       "        </tr>\n",
       "        <tr>\n",
       "            <td>43</td>\n",
       "            <td>Lazy K Kountry Store</td>\n",
       "            <td>John Steel</td>\n",
       "            <td>12 Orchestra Terrace</td>\n",
       "            <td>Walla Walla</td>\n",
       "            <td>99362</td>\n",
       "            <td>USA</td>\n",
       "        </tr>\n",
       "        <tr>\n",
       "            <td>45</td>\n",
       "            <td>Let&#x27;s Stop N Shop</td>\n",
       "            <td>Jaime Yorres</td>\n",
       "            <td>87 Polk St. Suite 5</td>\n",
       "            <td>San Francisco</td>\n",
       "            <td>94117</td>\n",
       "            <td>USA</td>\n",
       "        </tr>\n",
       "        <tr>\n",
       "            <td>55</td>\n",
       "            <td>Old World Delicatessen</td>\n",
       "            <td>Rene Phillips</td>\n",
       "            <td>2743 Bering St.</td>\n",
       "            <td>Anchorage</td>\n",
       "            <td>99508</td>\n",
       "            <td>USA</td>\n",
       "        </tr>\n",
       "        <tr>\n",
       "            <td>65</td>\n",
       "            <td>Rattlesnake Canyon Grocery</td>\n",
       "            <td>Paula Wilson</td>\n",
       "            <td>2817 Milton Dr.</td>\n",
       "            <td>Albuquerque</td>\n",
       "            <td>87110</td>\n",
       "            <td>USA</td>\n",
       "        </tr>\n",
       "        <tr>\n",
       "            <td>71</td>\n",
       "            <td>Save-a-lot Markets</td>\n",
       "            <td>Jose Pavarotti</td>\n",
       "            <td>187 Suffolk Ln.</td>\n",
       "            <td>Boise</td>\n",
       "            <td>83720</td>\n",
       "            <td>USA</td>\n",
       "        </tr>\n",
       "        <tr>\n",
       "            <td>75</td>\n",
       "            <td>Split Rail Beer &amp; Ale</td>\n",
       "            <td>Art Braunschweiger</td>\n",
       "            <td>P.O. Box 555</td>\n",
       "            <td>Lander</td>\n",
       "            <td>82520</td>\n",
       "            <td>USA</td>\n",
       "        </tr>\n",
       "        <tr>\n",
       "            <td>78</td>\n",
       "            <td>The Cracker Box</td>\n",
       "            <td>Liu Wong</td>\n",
       "            <td>55 Grizzly Peak Rd.</td>\n",
       "            <td>Butte</td>\n",
       "            <td>59801</td>\n",
       "            <td>USA</td>\n",
       "        </tr>\n",
       "        <tr>\n",
       "            <td>82</td>\n",
       "            <td>Trail&#x27;s Head Gourmet Provisioners</td>\n",
       "            <td>Helvetius Nagy</td>\n",
       "            <td>722 DaVinci Blvd.</td>\n",
       "            <td>Kirkland</td>\n",
       "            <td>98034</td>\n",
       "            <td>USA</td>\n",
       "        </tr>\n",
       "    </tbody>\n",
       "</table>"
      ],
      "text/plain": [
       "[(36, 'Hungry Coyote Import Store', 'Yoshi Latimer', 'City Center Plaza 516 Main St.', 'Elgin', '97827', 'USA'),\n",
       " (43, 'Lazy K Kountry Store', 'John Steel', '12 Orchestra Terrace', 'Walla Walla', '99362', 'USA'),\n",
       " (45, \"Let's Stop N Shop\", 'Jaime Yorres', '87 Polk St. Suite 5', 'San Francisco', '94117', 'USA'),\n",
       " (55, 'Old World Delicatessen', 'Rene Phillips', '2743 Bering St.', 'Anchorage', '99508', 'USA'),\n",
       " (65, 'Rattlesnake Canyon Grocery', 'Paula Wilson', '2817 Milton Dr.', 'Albuquerque', '87110', 'USA'),\n",
       " (71, 'Save-a-lot Markets', 'Jose Pavarotti', '187 Suffolk Ln.', 'Boise', '83720', 'USA'),\n",
       " (75, 'Split Rail Beer & Ale', 'Art Braunschweiger', 'P.O. Box 555', 'Lander', '82520', 'USA'),\n",
       " (78, 'The Cracker Box', 'Liu Wong', '55 Grizzly Peak Rd.', 'Butte', '59801', 'USA'),\n",
       " (82, \"Trail's Head Gourmet Provisioners\", 'Helvetius Nagy', '722 DaVinci Blvd.', 'Kirkland', '98034', 'USA')]"
      ]
     },
     "execution_count": 40,
     "metadata": {},
     "output_type": "execute_result"
    }
   ],
   "source": [
    "%%sql \n",
    "SELECT * FROM Customers WHERE Country=\"USA\" AND (City not in (\"Eugene\",\"Portland\",\"Seattle\"));"
   ]
  },
  {
   "cell_type": "markdown",
   "metadata": {},
   "source": []
  },
  {
   "cell_type": "markdown",
   "metadata": {},
   "source": [
    "# LIKE ile Seçim işlemleri"
   ]
  },
  {
   "cell_type": "markdown",
   "metadata": {},
   "source": [
    "* 'a%' : “a” ile başlayan değerler\n",
    "* '%a' : “a” ile biten değerler\n",
    "* %or%' : herhangi bir yerinde “or” olan değerler\n",
    "* '_r%' : ikinci sirasında “r” olan değerler\n",
    "* 'a%%' : “a” ile başlayıp en az 3 karakterden oluşan değerler\n",
    "* 'a%o' : “a” ile başlayıp “o” ile biten değerler"
   ]
  },
  {
   "cell_type": "code",
   "execution_count": 41,
   "metadata": {},
   "outputs": [
    {
     "name": "stdout",
     "output_type": "stream",
     "text": [
      " * sqlite:///kadirculha.db\n",
      "Done.\n"
     ]
    },
    {
     "data": {
      "text/html": [
       "<table>\n",
       "    <thead>\n",
       "        <tr>\n",
       "            <th>CustomerID</th>\n",
       "            <th>CustomerName</th>\n",
       "            <th>ContactName</th>\n",
       "            <th>Address</th>\n",
       "            <th>City</th>\n",
       "            <th>PostalCode</th>\n",
       "            <th>Country</th>\n",
       "        </tr>\n",
       "    </thead>\n",
       "    <tbody>\n",
       "        <tr>\n",
       "            <td>3</td>\n",
       "            <td>Antonio Moreno Taquería</td>\n",
       "            <td>Antonio Moreno</td>\n",
       "            <td>Mataderos 2312</td>\n",
       "            <td>México D.F.</td>\n",
       "            <td>5023</td>\n",
       "            <td>Mexico</td>\n",
       "        </tr>\n",
       "        <tr>\n",
       "            <td>4</td>\n",
       "            <td>Around the Horn</td>\n",
       "            <td>Thomas Hardy</td>\n",
       "            <td>120 Hanover Sq.</td>\n",
       "            <td>London</td>\n",
       "            <td>WA1 1DP</td>\n",
       "            <td>UK</td>\n",
       "        </tr>\n",
       "        <tr>\n",
       "            <td>36</td>\n",
       "            <td>Hungry Coyote Import Store</td>\n",
       "            <td>Yoshi Latimer</td>\n",
       "            <td>City Center Plaza 516 Main St.</td>\n",
       "            <td>Elgin</td>\n",
       "            <td>97827</td>\n",
       "            <td>USA</td>\n",
       "        </tr>\n",
       "        <tr>\n",
       "            <td>40</td>\n",
       "            <td>La corne d&#x27;abondance</td>\n",
       "            <td>Daniel Tonini</td>\n",
       "            <td>67, avenue de l&#x27;Europe</td>\n",
       "            <td>Versailles</td>\n",
       "            <td>78000</td>\n",
       "            <td>France</td>\n",
       "        </tr>\n",
       "        <tr>\n",
       "            <td>43</td>\n",
       "            <td>Lazy K Kountry Store</td>\n",
       "            <td>John Steel</td>\n",
       "            <td>12 Orchestra Terrace</td>\n",
       "            <td>Walla Walla</td>\n",
       "            <td>99362</td>\n",
       "            <td>USA</td>\n",
       "        </tr>\n",
       "        <tr>\n",
       "            <td>52</td>\n",
       "            <td>Morgenstern Gesundkost</td>\n",
       "            <td>Alexander Feuer</td>\n",
       "            <td>Heerstr. 22</td>\n",
       "            <td>Leipzig</td>\n",
       "            <td>4179</td>\n",
       "            <td>Germany</td>\n",
       "        </tr>\n",
       "        <tr>\n",
       "            <td>53</td>\n",
       "            <td>North/South</td>\n",
       "            <td>Simon Crowther</td>\n",
       "            <td>South House 300 Queensbridge</td>\n",
       "            <td>London</td>\n",
       "            <td>SW7 1RZ</td>\n",
       "            <td>UK</td>\n",
       "        </tr>\n",
       "        <tr>\n",
       "            <td>55</td>\n",
       "            <td>Old World Delicatessen</td>\n",
       "            <td>Rene Phillips</td>\n",
       "            <td>2743 Bering St.</td>\n",
       "            <td>Anchorage</td>\n",
       "            <td>99508</td>\n",
       "            <td>USA</td>\n",
       "        </tr>\n",
       "        <tr>\n",
       "            <td>72</td>\n",
       "            <td>Seven Seas Imports</td>\n",
       "            <td>Hari Kumar</td>\n",
       "            <td>90 Wadhurst Rd.</td>\n",
       "            <td>London</td>\n",
       "            <td>OX15 4NB</td>\n",
       "            <td>UK</td>\n",
       "        </tr>\n",
       "        <tr>\n",
       "            <td>80</td>\n",
       "            <td>Tortuga Restaurante</td>\n",
       "            <td>Miguel Angel Paolino</td>\n",
       "            <td>Avda. Azteca 123</td>\n",
       "            <td>México D.F.</td>\n",
       "            <td>5033</td>\n",
       "            <td>Mexico</td>\n",
       "        </tr>\n",
       "        <tr>\n",
       "            <td>88</td>\n",
       "            <td>Wellington Importadora</td>\n",
       "            <td>Paula Parente</td>\n",
       "            <td>Rua do Mercado, 12</td>\n",
       "            <td>Resende</td>\n",
       "            <td>08737-363</td>\n",
       "            <td>Brazil</td>\n",
       "        </tr>\n",
       "    </tbody>\n",
       "</table>"
      ],
      "text/plain": [
       "[(3, 'Antonio Moreno Taquería', 'Antonio Moreno', 'Mataderos 2312', 'México D.F.', '5023', 'Mexico'),\n",
       " (4, 'Around the Horn', 'Thomas Hardy', '120 Hanover Sq.', 'London', 'WA1 1DP', 'UK'),\n",
       " (36, 'Hungry Coyote Import Store', 'Yoshi Latimer', 'City Center Plaza 516 Main St.', 'Elgin', '97827', 'USA'),\n",
       " (40, \"La corne d'abondance\", 'Daniel Tonini', \"67, avenue de l'Europe\", 'Versailles', '78000', 'France'),\n",
       " (43, 'Lazy K Kountry Store', 'John Steel', '12 Orchestra Terrace', 'Walla Walla', '99362', 'USA'),\n",
       " (52, 'Morgenstern Gesundkost', 'Alexander Feuer', 'Heerstr. 22', 'Leipzig', '4179', 'Germany'),\n",
       " (53, 'North/South', 'Simon Crowther', 'South House 300 Queensbridge', 'London', 'SW7 1RZ', 'UK'),\n",
       " (55, 'Old World Delicatessen', 'Rene Phillips', '2743 Bering St.', 'Anchorage', '99508', 'USA'),\n",
       " (72, 'Seven Seas Imports', 'Hari Kumar', '90 Wadhurst Rd.', 'London', 'OX15 4NB', 'UK'),\n",
       " (80, 'Tortuga Restaurante', 'Miguel Angel Paolino', 'Avda. Azteca 123', 'México D.F.', '5033', 'Mexico'),\n",
       " (88, 'Wellington Importadora', 'Paula Parente', 'Rua do Mercado, 12', 'Resende', '08737-363', 'Brazil')]"
      ]
     },
     "execution_count": 41,
     "metadata": {},
     "output_type": "execute_result"
    }
   ],
   "source": [
    "%%sql\n",
    "SELECT * FROM Customers WHERE CustomerName LIKE '%or%';"
   ]
  },
  {
   "cell_type": "code",
   "execution_count": 42,
   "metadata": {},
   "outputs": [
    {
     "name": "stdout",
     "output_type": "stream",
     "text": [
      " * sqlite:///kadirculha.db\n",
      "Done.\n"
     ]
    },
    {
     "data": {
      "text/html": [
       "<table>\n",
       "    <thead>\n",
       "        <tr>\n",
       "            <th>CustomerID</th>\n",
       "            <th>CustomerName</th>\n",
       "            <th>ContactName</th>\n",
       "            <th>Address</th>\n",
       "            <th>City</th>\n",
       "            <th>PostalCode</th>\n",
       "            <th>Country</th>\n",
       "        </tr>\n",
       "    </thead>\n",
       "    <tbody>\n",
       "        <tr>\n",
       "            <td>3</td>\n",
       "            <td>Antonio Moreno Taquería</td>\n",
       "            <td>Antonio Moreno</td>\n",
       "            <td>Mataderos 2312</td>\n",
       "            <td>México D.F.</td>\n",
       "            <td>5023</td>\n",
       "            <td>Mexico</td>\n",
       "        </tr>\n",
       "        <tr>\n",
       "            <td>13</td>\n",
       "            <td>Centro comercial Moctezuma</td>\n",
       "            <td>Francisco Chang</td>\n",
       "            <td>Sierras de Granada 9993</td>\n",
       "            <td>México D.F.</td>\n",
       "            <td>5022</td>\n",
       "            <td>Mexico</td>\n",
       "        </tr>\n",
       "        <tr>\n",
       "            <td>30</td>\n",
       "            <td>Godos Cocina Típica</td>\n",
       "            <td>José Pedro Freyre</td>\n",
       "            <td>C/ Romero, 33</td>\n",
       "            <td>Sevilla</td>\n",
       "            <td>41101</td>\n",
       "            <td>Spain</td>\n",
       "        </tr>\n",
       "        <tr>\n",
       "            <td>61</td>\n",
       "            <td>Que Delícia</td>\n",
       "            <td>Bernardo Batista</td>\n",
       "            <td>Rua da Panificadora, 12</td>\n",
       "            <td>Rio de Janeiro</td>\n",
       "            <td>02389-673</td>\n",
       "            <td>Brazil</td>\n",
       "        </tr>\n",
       "        <tr>\n",
       "            <td>62</td>\n",
       "            <td>Queen Cozinha</td>\n",
       "            <td>Lúcia Carvalho</td>\n",
       "            <td>Alameda dos Canàrios, 891</td>\n",
       "            <td>São Paulo</td>\n",
       "            <td>05487-020</td>\n",
       "            <td>Brazil</td>\n",
       "        </tr>\n",
       "        <tr>\n",
       "            <td>88</td>\n",
       "            <td>Wellington Importadora</td>\n",
       "            <td>Paula Parente</td>\n",
       "            <td>Rua do Mercado, 12</td>\n",
       "            <td>Resende</td>\n",
       "            <td>08737-363</td>\n",
       "            <td>Brazil</td>\n",
       "        </tr>\n",
       "        <tr>\n",
       "            <td>90</td>\n",
       "            <td>Wilman Kala</td>\n",
       "            <td>Matti Karttunen</td>\n",
       "            <td>Keskuskatu 45</td>\n",
       "            <td>Helsinki</td>\n",
       "            <td>21240</td>\n",
       "            <td>Finland</td>\n",
       "        </tr>\n",
       "    </tbody>\n",
       "</table>"
      ],
      "text/plain": [
       "[(3, 'Antonio Moreno Taquería', 'Antonio Moreno', 'Mataderos 2312', 'México D.F.', '5023', 'Mexico'),\n",
       " (13, 'Centro comercial Moctezuma', 'Francisco Chang', 'Sierras de Granada 9993', 'México D.F.', '5022', 'Mexico'),\n",
       " (30, 'Godos Cocina Típica', 'José Pedro Freyre', 'C/ Romero, 33', 'Sevilla', '41101', 'Spain'),\n",
       " (61, 'Que Delícia', 'Bernardo Batista', 'Rua da Panificadora, 12', 'Rio de Janeiro', '02389-673', 'Brazil'),\n",
       " (62, 'Queen Cozinha', 'Lúcia Carvalho', 'Alameda dos Canàrios, 891', 'São Paulo', '05487-020', 'Brazil'),\n",
       " (88, 'Wellington Importadora', 'Paula Parente', 'Rua do Mercado, 12', 'Resende', '08737-363', 'Brazil'),\n",
       " (90, 'Wilman Kala', 'Matti Karttunen', 'Keskuskatu 45', 'Helsinki', '21240', 'Finland')]"
      ]
     },
     "execution_count": 42,
     "metadata": {},
     "output_type": "execute_result"
    }
   ],
   "source": [
    "%%sql\n",
    "SELECT * FROM Customers WHERE CustomerName LIKE '%a';"
   ]
  },
  {
   "cell_type": "code",
   "execution_count": 43,
   "metadata": {},
   "outputs": [
    {
     "name": "stdout",
     "output_type": "stream",
     "text": [
      " * sqlite:///kadirculha.db\n",
      "Done.\n"
     ]
    },
    {
     "data": {
      "text/html": [
       "<table>\n",
       "    <thead>\n",
       "        <tr>\n",
       "            <th>CustomerID</th>\n",
       "            <th>CustomerName</th>\n",
       "            <th>ContactName</th>\n",
       "            <th>Address</th>\n",
       "            <th>City</th>\n",
       "            <th>PostalCode</th>\n",
       "            <th>Country</th>\n",
       "        </tr>\n",
       "    </thead>\n",
       "    <tbody>\n",
       "        <tr>\n",
       "            <td>2</td>\n",
       "            <td>Ana Trujillo Emparedados y helados</td>\n",
       "            <td>Ana Trujillo</td>\n",
       "            <td>Avda. de la Constitución 2222</td>\n",
       "            <td>México D.F.</td>\n",
       "            <td>5021</td>\n",
       "            <td>Mexico</td>\n",
       "        </tr>\n",
       "        <tr>\n",
       "            <td>3</td>\n",
       "            <td>Antonio Moreno Taquería</td>\n",
       "            <td>Antonio Moreno</td>\n",
       "            <td>Mataderos 2312</td>\n",
       "            <td>México D.F.</td>\n",
       "            <td>5023</td>\n",
       "            <td>Mexico</td>\n",
       "        </tr>\n",
       "    </tbody>\n",
       "</table>"
      ],
      "text/plain": [
       "[(2, 'Ana Trujillo Emparedados y helados', 'Ana Trujillo', 'Avda. de la Constitución 2222', 'México D.F.', '5021', 'Mexico'),\n",
       " (3, 'Antonio Moreno Taquería', 'Antonio Moreno', 'Mataderos 2312', 'México D.F.', '5023', 'Mexico')]"
      ]
     },
     "execution_count": 43,
     "metadata": {},
     "output_type": "execute_result"
    }
   ],
   "source": [
    "%%sql\n",
    "SELECT * FROM Customers WHERE CustomerName LIKE 'A%' AND Country LIKE '%o';"
   ]
  },
  {
   "cell_type": "markdown",
   "metadata": {},
   "source": [
    "# BETWEEN"
   ]
  },
  {
   "cell_type": "code",
   "execution_count": 44,
   "metadata": {},
   "outputs": [
    {
     "name": "stdout",
     "output_type": "stream",
     "text": [
      " * sqlite:///kadirculha.db\n",
      "Done.\n"
     ]
    },
    {
     "data": {
      "text/html": [
       "<table>\n",
       "    <thead>\n",
       "        <tr>\n",
       "            <th>ProductID</th>\n",
       "            <th>ProductName</th>\n",
       "            <th>SupplierID</th>\n",
       "            <th>CategoryID</th>\n",
       "            <th>Unit</th>\n",
       "            <th>Price</th>\n",
       "        </tr>\n",
       "    </thead>\n",
       "    <tbody>\n",
       "        <tr>\n",
       "            <td>1</td>\n",
       "            <td>Chais</td>\n",
       "            <td>1</td>\n",
       "            <td>1</td>\n",
       "            <td>10 boxes x 20 bags</td>\n",
       "            <td>18</td>\n",
       "        </tr>\n",
       "        <tr>\n",
       "            <td>2</td>\n",
       "            <td>Chang</td>\n",
       "            <td>1</td>\n",
       "            <td>1</td>\n",
       "            <td>24 - 12 oz bottles</td>\n",
       "            <td>19</td>\n",
       "        </tr>\n",
       "        <tr>\n",
       "            <td>3</td>\n",
       "            <td>Aniseed Syrup</td>\n",
       "            <td>1</td>\n",
       "            <td>2</td>\n",
       "            <td>12 - 550 ml bottles</td>\n",
       "            <td>10</td>\n",
       "        </tr>\n",
       "        <tr>\n",
       "            <td>4</td>\n",
       "            <td>Chef Anton&#x27;s Cajun Seasoning</td>\n",
       "            <td>2</td>\n",
       "            <td>2</td>\n",
       "            <td>48 - 6 oz jars</td>\n",
       "            <td>22</td>\n",
       "        </tr>\n",
       "        <tr>\n",
       "            <td>5</td>\n",
       "            <td>Chef Anton&#x27;s Gumbo Mix</td>\n",
       "            <td>2</td>\n",
       "            <td>2</td>\n",
       "            <td>36 boxes</td>\n",
       "            <td>21</td>\n",
       "        </tr>\n",
       "        <tr>\n",
       "            <td>6</td>\n",
       "            <td>Grandma&#x27;s Boysenberry Spread</td>\n",
       "            <td>3</td>\n",
       "            <td>2</td>\n",
       "            <td>12 - 8 oz jars</td>\n",
       "            <td>25</td>\n",
       "        </tr>\n",
       "        <tr>\n",
       "            <td>7</td>\n",
       "            <td>Uncle Bob&#x27;s Organic Dried Pears</td>\n",
       "            <td>3</td>\n",
       "            <td>7</td>\n",
       "            <td>12 - 1 lb pkgs.</td>\n",
       "            <td>30</td>\n",
       "        </tr>\n",
       "        <tr>\n",
       "            <td>8</td>\n",
       "            <td>Northwoods Cranberry Sauce</td>\n",
       "            <td>3</td>\n",
       "            <td>2</td>\n",
       "            <td>12 - 12 oz jars</td>\n",
       "            <td>40</td>\n",
       "        </tr>\n",
       "        <tr>\n",
       "            <td>9</td>\n",
       "            <td>Mishi Kobe Niku</td>\n",
       "            <td>4</td>\n",
       "            <td>6</td>\n",
       "            <td>18 - 500 g pkgs.</td>\n",
       "            <td>97</td>\n",
       "        </tr>\n",
       "        <tr>\n",
       "            <td>10</td>\n",
       "            <td>Ikura</td>\n",
       "            <td>4</td>\n",
       "            <td>8</td>\n",
       "            <td>12 - 200 ml jars</td>\n",
       "            <td>31</td>\n",
       "        </tr>\n",
       "    </tbody>\n",
       "</table>"
      ],
      "text/plain": [
       "[(1, 'Chais', 1, 1, '10 boxes x 20 bags', 18),\n",
       " (2, 'Chang', 1, 1, '24 - 12 oz bottles', 19),\n",
       " (3, 'Aniseed Syrup', 1, 2, '12 - 550 ml bottles', 10),\n",
       " (4, \"Chef Anton's Cajun Seasoning\", 2, 2, '48 - 6 oz jars', 22),\n",
       " (5, \"Chef Anton's Gumbo Mix\", 2, 2, '36 boxes', 21),\n",
       " (6, \"Grandma's Boysenberry Spread\", 3, 2, '12 - 8 oz jars', 25),\n",
       " (7, \"Uncle Bob's Organic Dried Pears\", 3, 7, '12 - 1 lb pkgs.', 30),\n",
       " (8, 'Northwoods Cranberry Sauce', 3, 2, '12 - 12 oz jars', 40),\n",
       " (9, 'Mishi Kobe Niku', 4, 6, '18 - 500 g pkgs.', 97),\n",
       " (10, 'Ikura', 4, 8, '12 - 200 ml jars', 31)]"
      ]
     },
     "execution_count": 44,
     "metadata": {},
     "output_type": "execute_result"
    }
   ],
   "source": [
    "%%sql\n",
    "SELECT * FROM Products LIMIT 10;"
   ]
  },
  {
   "cell_type": "code",
   "execution_count": 45,
   "metadata": {},
   "outputs": [
    {
     "name": "stdout",
     "output_type": "stream",
     "text": [
      " * sqlite:///kadirculha.db\n",
      "Done.\n"
     ]
    },
    {
     "data": {
      "text/html": [
       "<table>\n",
       "    <thead>\n",
       "        <tr>\n",
       "            <th>ProductID</th>\n",
       "            <th>ProductName</th>\n",
       "            <th>SupplierID</th>\n",
       "            <th>CategoryID</th>\n",
       "            <th>Unit</th>\n",
       "            <th>Price</th>\n",
       "        </tr>\n",
       "    </thead>\n",
       "    <tbody>\n",
       "        <tr>\n",
       "            <td>1</td>\n",
       "            <td>Chais</td>\n",
       "            <td>1</td>\n",
       "            <td>1</td>\n",
       "            <td>10 boxes x 20 bags</td>\n",
       "            <td>18</td>\n",
       "        </tr>\n",
       "        <tr>\n",
       "            <td>2</td>\n",
       "            <td>Chang</td>\n",
       "            <td>1</td>\n",
       "            <td>1</td>\n",
       "            <td>24 - 12 oz bottles</td>\n",
       "            <td>19</td>\n",
       "        </tr>\n",
       "        <tr>\n",
       "            <td>3</td>\n",
       "            <td>Aniseed Syrup</td>\n",
       "            <td>1</td>\n",
       "            <td>2</td>\n",
       "            <td>12 - 550 ml bottles</td>\n",
       "            <td>10</td>\n",
       "        </tr>\n",
       "        <tr>\n",
       "            <td>16</td>\n",
       "            <td>Pavlova</td>\n",
       "            <td>7</td>\n",
       "            <td>3</td>\n",
       "            <td>32 - 500 g boxes</td>\n",
       "            <td>17</td>\n",
       "        </tr>\n",
       "        <tr>\n",
       "            <td>21</td>\n",
       "            <td>Sir Rodney&#x27;s Scones</td>\n",
       "            <td>8</td>\n",
       "            <td>3</td>\n",
       "            <td>24 pkgs. x 4 pieces</td>\n",
       "            <td>10</td>\n",
       "        </tr>\n",
       "        <tr>\n",
       "            <td>25</td>\n",
       "            <td>NuNuCa Nuß-Nougat-Creme</td>\n",
       "            <td>11</td>\n",
       "            <td>3</td>\n",
       "            <td>20 - 450 g glasses</td>\n",
       "            <td>14</td>\n",
       "        </tr>\n",
       "        <tr>\n",
       "            <td>34</td>\n",
       "            <td>Sasquatch Ale</td>\n",
       "            <td>16</td>\n",
       "            <td>1</td>\n",
       "            <td>24 - 12 oz bottles</td>\n",
       "            <td>14</td>\n",
       "        </tr>\n",
       "        <tr>\n",
       "            <td>35</td>\n",
       "            <td>Steeleye Stout</td>\n",
       "            <td>16</td>\n",
       "            <td>1</td>\n",
       "            <td>24 - 12 oz bottles</td>\n",
       "            <td>18</td>\n",
       "        </tr>\n",
       "        <tr>\n",
       "            <td>36</td>\n",
       "            <td>Inlagd Sill</td>\n",
       "            <td>17</td>\n",
       "            <td>8</td>\n",
       "            <td>24 - 250 g jars</td>\n",
       "            <td>19</td>\n",
       "        </tr>\n",
       "        <tr>\n",
       "            <td>39</td>\n",
       "            <td>Chartreuse verte</td>\n",
       "            <td>18</td>\n",
       "            <td>1</td>\n",
       "            <td>750 cc per bottle</td>\n",
       "            <td>18</td>\n",
       "        </tr>\n",
       "    </tbody>\n",
       "</table>"
      ],
      "text/plain": [
       "[(1, 'Chais', 1, 1, '10 boxes x 20 bags', 18),\n",
       " (2, 'Chang', 1, 1, '24 - 12 oz bottles', 19),\n",
       " (3, 'Aniseed Syrup', 1, 2, '12 - 550 ml bottles', 10),\n",
       " (16, 'Pavlova', 7, 3, '32 - 500 g boxes', 17),\n",
       " (21, \"Sir Rodney's Scones\", 8, 3, '24 pkgs. x 4 pieces', 10),\n",
       " (25, 'NuNuCa Nuß-Nougat-Creme', 11, 3, '20 - 450 g glasses', 14),\n",
       " (34, 'Sasquatch Ale', 16, 1, '24 - 12 oz bottles', 14),\n",
       " (35, 'Steeleye Stout', 16, 1, '24 - 12 oz bottles', 18),\n",
       " (36, 'Inlagd Sill', 17, 8, '24 - 250 g jars', 19),\n",
       " (39, 'Chartreuse verte', 18, 1, '750 cc per bottle', 18)]"
      ]
     },
     "execution_count": 45,
     "metadata": {},
     "output_type": "execute_result"
    }
   ],
   "source": [
    "%%sql\n",
    "SELECT * FROM Products WHERE Price BETWEEN 10 AND 20 LIMIT 10;"
   ]
  },
  {
   "cell_type": "code",
   "execution_count": 46,
   "metadata": {},
   "outputs": [
    {
     "name": "stdout",
     "output_type": "stream",
     "text": [
      " * sqlite:///kadirculha.db\n",
      "Done.\n"
     ]
    },
    {
     "data": {
      "text/html": [
       "<table>\n",
       "    <thead>\n",
       "        <tr>\n",
       "            <th>ProductID</th>\n",
       "            <th>ProductName</th>\n",
       "            <th>SupplierID</th>\n",
       "            <th>CategoryID</th>\n",
       "            <th>Unit</th>\n",
       "            <th>Price</th>\n",
       "        </tr>\n",
       "    </thead>\n",
       "    <tbody>\n",
       "        <tr>\n",
       "            <td>36</td>\n",
       "            <td>Inlagd Sill</td>\n",
       "            <td>17</td>\n",
       "            <td>8</td>\n",
       "            <td>24 - 250 g jars</td>\n",
       "            <td>19</td>\n",
       "        </tr>\n",
       "        <tr>\n",
       "            <td>42</td>\n",
       "            <td>Singaporean Hokkien Fried Mee</td>\n",
       "            <td>20</td>\n",
       "            <td>5</td>\n",
       "            <td>32 - 1 kg pkgs.</td>\n",
       "            <td>14</td>\n",
       "        </tr>\n",
       "        <tr>\n",
       "            <td>46</td>\n",
       "            <td>Spegesild</td>\n",
       "            <td>21</td>\n",
       "            <td>8</td>\n",
       "            <td>4 - 450 g glasses</td>\n",
       "            <td>12</td>\n",
       "        </tr>\n",
       "        <tr>\n",
       "            <td>54</td>\n",
       "            <td>Tourtière</td>\n",
       "            <td>25</td>\n",
       "            <td>6</td>\n",
       "            <td>16 pies</td>\n",
       "            <td>16</td>\n",
       "        </tr>\n",
       "        <tr>\n",
       "            <td>58</td>\n",
       "            <td>Escargots de Bourgogne</td>\n",
       "            <td>27</td>\n",
       "            <td>8</td>\n",
       "            <td>24 pieces</td>\n",
       "            <td>13</td>\n",
       "        </tr>\n",
       "        <tr>\n",
       "            <td>73</td>\n",
       "            <td>Röd Kaviar</td>\n",
       "            <td>17</td>\n",
       "            <td>8</td>\n",
       "            <td>24 - 150 g jars</td>\n",
       "            <td>15</td>\n",
       "        </tr>\n",
       "        <tr>\n",
       "            <td>74</td>\n",
       "            <td>Longlife Tofu</td>\n",
       "            <td>4</td>\n",
       "            <td>7</td>\n",
       "            <td>5 kg pkg.</td>\n",
       "            <td>10</td>\n",
       "        </tr>\n",
       "    </tbody>\n",
       "</table>"
      ],
      "text/plain": [
       "[(36, 'Inlagd Sill', 17, 8, '24 - 250 g jars', 19),\n",
       " (42, 'Singaporean Hokkien Fried Mee', 20, 5, '32 - 1 kg pkgs.', 14),\n",
       " (46, 'Spegesild', 21, 8, '4 - 450 g glasses', 12),\n",
       " (54, 'Tourtière', 25, 6, '16 pies', 16),\n",
       " (58, 'Escargots de Bourgogne', 27, 8, '24 pieces', 13),\n",
       " (73, 'Röd Kaviar', 17, 8, '24 - 150 g jars', 15),\n",
       " (74, 'Longlife Tofu', 4, 7, '5 kg pkg.', 10)]"
      ]
     },
     "execution_count": 46,
     "metadata": {},
     "output_type": "execute_result"
    }
   ],
   "source": [
    "%%sql\n",
    "SELECT * FROM Products WHERE (Price BETWEEN 10 AND 20) AND (CategoryID NOT IN (1,2,3)) LIMIT 10;"
   ]
  },
  {
   "cell_type": "code",
   "execution_count": 47,
   "metadata": {},
   "outputs": [
    {
     "name": "stdout",
     "output_type": "stream",
     "text": [
      " * sqlite:///kadirculha.db\n",
      "Done.\n"
     ]
    },
    {
     "data": {
      "text/html": [
       "<table>\n",
       "    <thead>\n",
       "        <tr>\n",
       "            <th>ProductID</th>\n",
       "            <th>ProductName</th>\n",
       "            <th>SupplierID</th>\n",
       "            <th>CategoryID</th>\n",
       "            <th>Unit</th>\n",
       "            <th>Price</th>\n",
       "        </tr>\n",
       "    </thead>\n",
       "    <tbody>\n",
       "        <tr>\n",
       "            <td>1</td>\n",
       "            <td>Chais</td>\n",
       "            <td>1</td>\n",
       "            <td>1</td>\n",
       "            <td>10 boxes x 20 bags</td>\n",
       "            <td>18</td>\n",
       "        </tr>\n",
       "        <tr>\n",
       "            <td>2</td>\n",
       "            <td>Chang</td>\n",
       "            <td>1</td>\n",
       "            <td>1</td>\n",
       "            <td>24 - 12 oz bottles</td>\n",
       "            <td>19</td>\n",
       "        </tr>\n",
       "        <tr>\n",
       "            <td>4</td>\n",
       "            <td>Chef Anton&#x27;s Cajun Seasoning</td>\n",
       "            <td>2</td>\n",
       "            <td>2</td>\n",
       "            <td>48 - 6 oz jars</td>\n",
       "            <td>22</td>\n",
       "        </tr>\n",
       "        <tr>\n",
       "            <td>5</td>\n",
       "            <td>Chef Anton&#x27;s Gumbo Mix</td>\n",
       "            <td>2</td>\n",
       "            <td>2</td>\n",
       "            <td>36 boxes</td>\n",
       "            <td>21</td>\n",
       "        </tr>\n",
       "        <tr>\n",
       "            <td>6</td>\n",
       "            <td>Grandma&#x27;s Boysenberry Spread</td>\n",
       "            <td>3</td>\n",
       "            <td>2</td>\n",
       "            <td>12 - 8 oz jars</td>\n",
       "            <td>25</td>\n",
       "        </tr>\n",
       "        <tr>\n",
       "            <td>9</td>\n",
       "            <td>Mishi Kobe Niku</td>\n",
       "            <td>4</td>\n",
       "            <td>6</td>\n",
       "            <td>18 - 500 g pkgs.</td>\n",
       "            <td>97</td>\n",
       "        </tr>\n",
       "        <tr>\n",
       "            <td>10</td>\n",
       "            <td>Ikura</td>\n",
       "            <td>4</td>\n",
       "            <td>8</td>\n",
       "            <td>12 - 200 ml jars</td>\n",
       "            <td>31</td>\n",
       "        </tr>\n",
       "        <tr>\n",
       "            <td>13</td>\n",
       "            <td>Konbu</td>\n",
       "            <td>6</td>\n",
       "            <td>8</td>\n",
       "            <td>2 kg box</td>\n",
       "            <td>6</td>\n",
       "        </tr>\n",
       "        <tr>\n",
       "            <td>15</td>\n",
       "            <td>Genen Shouyu</td>\n",
       "            <td>6</td>\n",
       "            <td>2</td>\n",
       "            <td>24 - 250 ml bottles</td>\n",
       "            <td>43</td>\n",
       "        </tr>\n",
       "        <tr>\n",
       "            <td>18</td>\n",
       "            <td>Carnarvon Tigers</td>\n",
       "            <td>7</td>\n",
       "            <td>8</td>\n",
       "            <td>16 kg pkg.</td>\n",
       "            <td>62</td>\n",
       "        </tr>\n",
       "        <tr>\n",
       "            <td>22</td>\n",
       "            <td>Gustaf&#x27;s Knäckebröd</td>\n",
       "            <td>9</td>\n",
       "            <td>5</td>\n",
       "            <td>24 - 500 g pkgs.</td>\n",
       "            <td>21</td>\n",
       "        </tr>\n",
       "        <tr>\n",
       "            <td>24</td>\n",
       "            <td>Guaraná Fantástica</td>\n",
       "            <td>10</td>\n",
       "            <td>1</td>\n",
       "            <td>12 - 355 ml cans</td>\n",
       "            <td>43</td>\n",
       "        </tr>\n",
       "        <tr>\n",
       "            <td>26</td>\n",
       "            <td>Gumbär Gummibärchen</td>\n",
       "            <td>11</td>\n",
       "            <td>3</td>\n",
       "            <td>100 - 250 g bags</td>\n",
       "            <td>31</td>\n",
       "        </tr>\n",
       "        <tr>\n",
       "            <td>31</td>\n",
       "            <td>Gorgonzola Telino</td>\n",
       "            <td>14</td>\n",
       "            <td>4</td>\n",
       "            <td>12 - 100 g pkgs</td>\n",
       "            <td>435</td>\n",
       "        </tr>\n",
       "        <tr>\n",
       "            <td>32</td>\n",
       "            <td>Mascarpone Fabioli</td>\n",
       "            <td>14</td>\n",
       "            <td>4</td>\n",
       "            <td>24 - 200 g pkgs.</td>\n",
       "            <td>32</td>\n",
       "        </tr>\n",
       "        <tr>\n",
       "            <td>33</td>\n",
       "            <td>Geitost</td>\n",
       "            <td>15</td>\n",
       "            <td>4</td>\n",
       "            <td>500 g</td>\n",
       "            <td>43</td>\n",
       "        </tr>\n",
       "        <tr>\n",
       "            <td>36</td>\n",
       "            <td>Inlagd Sill</td>\n",
       "            <td>17</td>\n",
       "            <td>8</td>\n",
       "            <td>24 - 250 g jars</td>\n",
       "            <td>19</td>\n",
       "        </tr>\n",
       "        <tr>\n",
       "            <td>37</td>\n",
       "            <td>Gravad lax</td>\n",
       "            <td>17</td>\n",
       "            <td>8</td>\n",
       "            <td>12 - 500 g pkgs.</td>\n",
       "            <td>26</td>\n",
       "        </tr>\n",
       "        <tr>\n",
       "            <td>38</td>\n",
       "            <td>Côte de Blaye</td>\n",
       "            <td>18</td>\n",
       "            <td>1</td>\n",
       "            <td>12 - 75 cl bottles</td>\n",
       "            <td>263</td>\n",
       "        </tr>\n",
       "        <tr>\n",
       "            <td>39</td>\n",
       "            <td>Chartreuse verte</td>\n",
       "            <td>18</td>\n",
       "            <td>1</td>\n",
       "            <td>750 cc per bottle</td>\n",
       "            <td>18</td>\n",
       "        </tr>\n",
       "        <tr>\n",
       "            <td>41</td>\n",
       "            <td>Jack&#x27;s New England Clam Chowder</td>\n",
       "            <td>19</td>\n",
       "            <td>8</td>\n",
       "            <td>12 - 12 oz cans</td>\n",
       "            <td>23</td>\n",
       "        </tr>\n",
       "        <tr>\n",
       "            <td>43</td>\n",
       "            <td>Ipoh Coffee</td>\n",
       "            <td>20</td>\n",
       "            <td>1</td>\n",
       "            <td>16 - 500 g tins</td>\n",
       "            <td>46</td>\n",
       "        </tr>\n",
       "        <tr>\n",
       "            <td>44</td>\n",
       "            <td>Gula Malacca</td>\n",
       "            <td>20</td>\n",
       "            <td>2</td>\n",
       "            <td>20 - 2 kg bags</td>\n",
       "            <td>19</td>\n",
       "        </tr>\n",
       "        <tr>\n",
       "            <td>48</td>\n",
       "            <td>Chocolade</td>\n",
       "            <td>22</td>\n",
       "            <td>3</td>\n",
       "            <td>10 pkgs.</td>\n",
       "            <td>27</td>\n",
       "        </tr>\n",
       "        <tr>\n",
       "            <td>49</td>\n",
       "            <td>Maxilaku</td>\n",
       "            <td>23</td>\n",
       "            <td>3</td>\n",
       "            <td>24 - 50 g pkgs.</td>\n",
       "            <td>20</td>\n",
       "        </tr>\n",
       "        <tr>\n",
       "            <td>51</td>\n",
       "            <td>Manjimup Dried Apples</td>\n",
       "            <td>24</td>\n",
       "            <td>7</td>\n",
       "            <td>50 - 300 g pkgs.</td>\n",
       "            <td>53</td>\n",
       "        </tr>\n",
       "        <tr>\n",
       "            <td>52</td>\n",
       "            <td>Filo Mix</td>\n",
       "            <td>24</td>\n",
       "            <td>5</td>\n",
       "            <td>16 - 2 kg boxes</td>\n",
       "            <td>7</td>\n",
       "        </tr>\n",
       "        <tr>\n",
       "            <td>56</td>\n",
       "            <td>Gnocchi di nonna Alice</td>\n",
       "            <td>26</td>\n",
       "            <td>5</td>\n",
       "            <td>24 - 250 g pkgs.</td>\n",
       "            <td>38</td>\n",
       "        </tr>\n",
       "        <tr>\n",
       "            <td>58</td>\n",
       "            <td>Escargots de Bourgogne</td>\n",
       "            <td>27</td>\n",
       "            <td>8</td>\n",
       "            <td>24 pieces</td>\n",
       "            <td>13</td>\n",
       "        </tr>\n",
       "        <tr>\n",
       "            <td>65</td>\n",
       "            <td>Louisiana Fiery Hot Pepper Sauce</td>\n",
       "            <td>2</td>\n",
       "            <td>2</td>\n",
       "            <td>32 - 8 oz bottles</td>\n",
       "            <td>43</td>\n",
       "        </tr>\n",
       "        <tr>\n",
       "            <td>66</td>\n",
       "            <td>Louisiana Hot Spiced Okra</td>\n",
       "            <td>2</td>\n",
       "            <td>2</td>\n",
       "            <td>24 - 8 oz jars</td>\n",
       "            <td>17</td>\n",
       "        </tr>\n",
       "        <tr>\n",
       "            <td>67</td>\n",
       "            <td>Laughing Lumberjack Lager</td>\n",
       "            <td>16</td>\n",
       "            <td>1</td>\n",
       "            <td>24 - 12 oz bottles</td>\n",
       "            <td>14</td>\n",
       "        </tr>\n",
       "        <tr>\n",
       "            <td>69</td>\n",
       "            <td>Gudbrandsdalsost</td>\n",
       "            <td>15</td>\n",
       "            <td>4</td>\n",
       "            <td>10 kg pkg.</td>\n",
       "            <td>36</td>\n",
       "        </tr>\n",
       "        <tr>\n",
       "            <td>71</td>\n",
       "            <td>Fløtemysost</td>\n",
       "            <td>15</td>\n",
       "            <td>4</td>\n",
       "            <td>10 - 500 g pkgs.</td>\n",
       "            <td>21</td>\n",
       "        </tr>\n",
       "        <tr>\n",
       "            <td>72</td>\n",
       "            <td>Mozzarella di Giovanni</td>\n",
       "            <td>14</td>\n",
       "            <td>4</td>\n",
       "            <td>24 - 200 g pkgs.</td>\n",
       "            <td>34</td>\n",
       "        </tr>\n",
       "        <tr>\n",
       "            <td>74</td>\n",
       "            <td>Longlife Tofu</td>\n",
       "            <td>4</td>\n",
       "            <td>7</td>\n",
       "            <td>5 kg pkg.</td>\n",
       "            <td>10</td>\n",
       "        </tr>\n",
       "        <tr>\n",
       "            <td>76</td>\n",
       "            <td>Lakkalikööri</td>\n",
       "            <td>23</td>\n",
       "            <td>1</td>\n",
       "            <td>500 ml</td>\n",
       "            <td>18</td>\n",
       "        </tr>\n",
       "    </tbody>\n",
       "</table>"
      ],
      "text/plain": [
       "[(1, 'Chais', 1, 1, '10 boxes x 20 bags', 18),\n",
       " (2, 'Chang', 1, 1, '24 - 12 oz bottles', 19),\n",
       " (4, \"Chef Anton's Cajun Seasoning\", 2, 2, '48 - 6 oz jars', 22),\n",
       " (5, \"Chef Anton's Gumbo Mix\", 2, 2, '36 boxes', 21),\n",
       " (6, \"Grandma's Boysenberry Spread\", 3, 2, '12 - 8 oz jars', 25),\n",
       " (9, 'Mishi Kobe Niku', 4, 6, '18 - 500 g pkgs.', 97),\n",
       " (10, 'Ikura', 4, 8, '12 - 200 ml jars', 31),\n",
       " (13, 'Konbu', 6, 8, '2 kg box', 6),\n",
       " (15, 'Genen Shouyu', 6, 2, '24 - 250 ml bottles', 43),\n",
       " (18, 'Carnarvon Tigers', 7, 8, '16 kg pkg.', 62),\n",
       " (22, \"Gustaf's Knäckebröd\", 9, 5, '24 - 500 g pkgs.', 21),\n",
       " (24, 'Guaraná Fantástica', 10, 1, '12 - 355 ml cans', 43),\n",
       " (26, 'Gumbär Gummibärchen', 11, 3, '100 - 250 g bags', 31),\n",
       " (31, 'Gorgonzola Telino', 14, 4, '12 - 100 g pkgs', 435),\n",
       " (32, 'Mascarpone Fabioli', 14, 4, '24 - 200 g pkgs.', 32),\n",
       " (33, 'Geitost', 15, 4, '500 g', 43),\n",
       " (36, 'Inlagd Sill', 17, 8, '24 - 250 g jars', 19),\n",
       " (37, 'Gravad lax', 17, 8, '12 - 500 g pkgs.', 26),\n",
       " (38, 'Côte de Blaye', 18, 1, '12 - 75 cl bottles', 263),\n",
       " (39, 'Chartreuse verte', 18, 1, '750 cc per bottle', 18),\n",
       " (41, \"Jack's New England Clam Chowder\", 19, 8, '12 - 12 oz cans', 23),\n",
       " (43, 'Ipoh Coffee', 20, 1, '16 - 500 g tins', 46),\n",
       " (44, 'Gula Malacca', 20, 2, '20 - 2 kg bags', 19),\n",
       " (48, 'Chocolade', 22, 3, '10 pkgs.', 27),\n",
       " (49, 'Maxilaku', 23, 3, '24 - 50 g pkgs.', 20),\n",
       " (51, 'Manjimup Dried Apples', 24, 7, '50 - 300 g pkgs.', 53),\n",
       " (52, 'Filo Mix', 24, 5, '16 - 2 kg boxes', 7),\n",
       " (56, 'Gnocchi di nonna Alice', 26, 5, '24 - 250 g pkgs.', 38),\n",
       " (58, 'Escargots de Bourgogne', 27, 8, '24 pieces', 13),\n",
       " (65, 'Louisiana Fiery Hot Pepper Sauce', 2, 2, '32 - 8 oz bottles', 43),\n",
       " (66, 'Louisiana Hot Spiced Okra', 2, 2, '24 - 8 oz jars', 17),\n",
       " (67, 'Laughing Lumberjack Lager', 16, 1, '24 - 12 oz bottles', 14),\n",
       " (69, 'Gudbrandsdalsost', 15, 4, '10 kg pkg.', 36),\n",
       " (71, 'Fløtemysost', 15, 4, '10 - 500 g pkgs.', 21),\n",
       " (72, 'Mozzarella di Giovanni', 14, 4, '24 - 200 g pkgs.', 34),\n",
       " (74, 'Longlife Tofu', 4, 7, '5 kg pkg.', 10),\n",
       " (76, 'Lakkalikööri', 23, 1, '500 ml', 18)]"
      ]
     },
     "execution_count": 47,
     "metadata": {},
     "output_type": "execute_result"
    }
   ],
   "source": [
    "%%sql\n",
    "SELECT * FROM Products WHERE ProductName BETWEEN 'Carnarvon Tigers' AND 'Mozzarella di Giovanni' ;"
   ]
  },
  {
   "cell_type": "markdown",
   "metadata": {},
   "source": [
    "# Aggregation Fonksiyonları: Temel İstatistiksel İşlemler"
   ]
  },
  {
   "cell_type": "code",
   "execution_count": 48,
   "metadata": {},
   "outputs": [
    {
     "name": "stdout",
     "output_type": "stream",
     "text": [
      " * sqlite:///kadirculha.db\n",
      "Done.\n"
     ]
    },
    {
     "data": {
      "text/html": [
       "<table>\n",
       "    <thead>\n",
       "        <tr>\n",
       "            <th>ProductID</th>\n",
       "            <th>ProductName</th>\n",
       "            <th>SupplierID</th>\n",
       "            <th>CategoryID</th>\n",
       "            <th>Unit</th>\n",
       "            <th>Price</th>\n",
       "        </tr>\n",
       "    </thead>\n",
       "    <tbody>\n",
       "        <tr>\n",
       "            <td>1</td>\n",
       "            <td>Chais</td>\n",
       "            <td>1</td>\n",
       "            <td>1</td>\n",
       "            <td>10 boxes x 20 bags</td>\n",
       "            <td>18</td>\n",
       "        </tr>\n",
       "        <tr>\n",
       "            <td>2</td>\n",
       "            <td>Chang</td>\n",
       "            <td>1</td>\n",
       "            <td>1</td>\n",
       "            <td>24 - 12 oz bottles</td>\n",
       "            <td>19</td>\n",
       "        </tr>\n",
       "        <tr>\n",
       "            <td>3</td>\n",
       "            <td>Aniseed Syrup</td>\n",
       "            <td>1</td>\n",
       "            <td>2</td>\n",
       "            <td>12 - 550 ml bottles</td>\n",
       "            <td>10</td>\n",
       "        </tr>\n",
       "        <tr>\n",
       "            <td>4</td>\n",
       "            <td>Chef Anton&#x27;s Cajun Seasoning</td>\n",
       "            <td>2</td>\n",
       "            <td>2</td>\n",
       "            <td>48 - 6 oz jars</td>\n",
       "            <td>22</td>\n",
       "        </tr>\n",
       "        <tr>\n",
       "            <td>5</td>\n",
       "            <td>Chef Anton&#x27;s Gumbo Mix</td>\n",
       "            <td>2</td>\n",
       "            <td>2</td>\n",
       "            <td>36 boxes</td>\n",
       "            <td>21</td>\n",
       "        </tr>\n",
       "        <tr>\n",
       "            <td>6</td>\n",
       "            <td>Grandma&#x27;s Boysenberry Spread</td>\n",
       "            <td>3</td>\n",
       "            <td>2</td>\n",
       "            <td>12 - 8 oz jars</td>\n",
       "            <td>25</td>\n",
       "        </tr>\n",
       "        <tr>\n",
       "            <td>7</td>\n",
       "            <td>Uncle Bob&#x27;s Organic Dried Pears</td>\n",
       "            <td>3</td>\n",
       "            <td>7</td>\n",
       "            <td>12 - 1 lb pkgs.</td>\n",
       "            <td>30</td>\n",
       "        </tr>\n",
       "        <tr>\n",
       "            <td>8</td>\n",
       "            <td>Northwoods Cranberry Sauce</td>\n",
       "            <td>3</td>\n",
       "            <td>2</td>\n",
       "            <td>12 - 12 oz jars</td>\n",
       "            <td>40</td>\n",
       "        </tr>\n",
       "        <tr>\n",
       "            <td>9</td>\n",
       "            <td>Mishi Kobe Niku</td>\n",
       "            <td>4</td>\n",
       "            <td>6</td>\n",
       "            <td>18 - 500 g pkgs.</td>\n",
       "            <td>97</td>\n",
       "        </tr>\n",
       "        <tr>\n",
       "            <td>10</td>\n",
       "            <td>Ikura</td>\n",
       "            <td>4</td>\n",
       "            <td>8</td>\n",
       "            <td>12 - 200 ml jars</td>\n",
       "            <td>31</td>\n",
       "        </tr>\n",
       "    </tbody>\n",
       "</table>"
      ],
      "text/plain": [
       "[(1, 'Chais', 1, 1, '10 boxes x 20 bags', 18),\n",
       " (2, 'Chang', 1, 1, '24 - 12 oz bottles', 19),\n",
       " (3, 'Aniseed Syrup', 1, 2, '12 - 550 ml bottles', 10),\n",
       " (4, \"Chef Anton's Cajun Seasoning\", 2, 2, '48 - 6 oz jars', 22),\n",
       " (5, \"Chef Anton's Gumbo Mix\", 2, 2, '36 boxes', 21),\n",
       " (6, \"Grandma's Boysenberry Spread\", 3, 2, '12 - 8 oz jars', 25),\n",
       " (7, \"Uncle Bob's Organic Dried Pears\", 3, 7, '12 - 1 lb pkgs.', 30),\n",
       " (8, 'Northwoods Cranberry Sauce', 3, 2, '12 - 12 oz jars', 40),\n",
       " (9, 'Mishi Kobe Niku', 4, 6, '18 - 500 g pkgs.', 97),\n",
       " (10, 'Ikura', 4, 8, '12 - 200 ml jars', 31)]"
      ]
     },
     "execution_count": 48,
     "metadata": {},
     "output_type": "execute_result"
    }
   ],
   "source": [
    "%%sql\n",
    "SELECT * FROM Products LIMIT 10;"
   ]
  },
  {
   "cell_type": "code",
   "execution_count": 49,
   "metadata": {},
   "outputs": [
    {
     "name": "stdout",
     "output_type": "stream",
     "text": [
      " * sqlite:///kadirculha.db\n",
      "Done.\n"
     ]
    },
    {
     "data": {
      "text/html": [
       "<table>\n",
       "    <thead>\n",
       "        <tr>\n",
       "            <th>min_price</th>\n",
       "            <th>max_price</th>\n",
       "        </tr>\n",
       "    </thead>\n",
       "    <tbody>\n",
       "        <tr>\n",
       "            <td>6</td>\n",
       "            <td>435</td>\n",
       "        </tr>\n",
       "    </tbody>\n",
       "</table>"
      ],
      "text/plain": [
       "[(6, 435)]"
      ]
     },
     "execution_count": 49,
     "metadata": {},
     "output_type": "execute_result"
    }
   ],
   "source": [
    "%%sql\n",
    "SELECT MIN(Price) as min_price, MAX(Price) as max_price FROM Products;"
   ]
  },
  {
   "cell_type": "code",
   "execution_count": 50,
   "metadata": {},
   "outputs": [
    {
     "name": "stdout",
     "output_type": "stream",
     "text": [
      " * sqlite:///kadirculha.db\n",
      "Done.\n"
     ]
    },
    {
     "data": {
      "text/html": [
       "<table>\n",
       "    <thead>\n",
       "        <tr>\n",
       "            <th>avg_price</th>\n",
       "        </tr>\n",
       "    </thead>\n",
       "    <tbody>\n",
       "        <tr>\n",
       "            <td>39.15584415584416</td>\n",
       "        </tr>\n",
       "    </tbody>\n",
       "</table>"
      ],
      "text/plain": [
       "[(39.15584415584416,)]"
      ]
     },
     "execution_count": 50,
     "metadata": {},
     "output_type": "execute_result"
    }
   ],
   "source": [
    "%%sql\n",
    "SELECT AVG(Price) as avg_price FROM Products;"
   ]
  },
  {
   "cell_type": "code",
   "execution_count": 51,
   "metadata": {},
   "outputs": [
    {
     "name": "stdout",
     "output_type": "stream",
     "text": [
      " * sqlite:///kadirculha.db\n",
      "Done.\n"
     ]
    },
    {
     "data": {
      "text/html": [
       "<table>\n",
       "    <thead>\n",
       "        <tr>\n",
       "            <th>sum_price</th>\n",
       "        </tr>\n",
       "    </thead>\n",
       "    <tbody>\n",
       "        <tr>\n",
       "            <td>3015</td>\n",
       "        </tr>\n",
       "    </tbody>\n",
       "</table>"
      ],
      "text/plain": [
       "[(3015,)]"
      ]
     },
     "execution_count": 51,
     "metadata": {},
     "output_type": "execute_result"
    }
   ],
   "source": [
    "%%sql\n",
    "SELECT SUM(Price) as sum_price FROM Products;"
   ]
  },
  {
   "cell_type": "code",
   "execution_count": 52,
   "metadata": {},
   "outputs": [
    {
     "name": "stdout",
     "output_type": "stream",
     "text": [
      " * sqlite:///kadirculha.db\n",
      "Done.\n"
     ]
    },
    {
     "data": {
      "text/html": [
       "<table>\n",
       "    <thead>\n",
       "        <tr>\n",
       "            <th>Count(Price)</th>\n",
       "            <th>Min(Price)</th>\n",
       "            <th>Max(Price)</th>\n",
       "            <th>AVG(Price)</th>\n",
       "            <th>SUM(Price)</th>\n",
       "        </tr>\n",
       "    </thead>\n",
       "    <tbody>\n",
       "        <tr>\n",
       "            <td>77</td>\n",
       "            <td>6</td>\n",
       "            <td>435</td>\n",
       "            <td>39.15584415584416</td>\n",
       "            <td>3015</td>\n",
       "        </tr>\n",
       "    </tbody>\n",
       "</table>"
      ],
      "text/plain": [
       "[(77, 6, 435, 39.15584415584416, 3015)]"
      ]
     },
     "execution_count": 52,
     "metadata": {},
     "output_type": "execute_result"
    }
   ],
   "source": [
    "%%sql\n",
    "SELECT Count(Price),Min(Price), Max(Price), AVG(Price), SUM(Price) FROM Products;"
   ]
  },
  {
   "cell_type": "markdown",
   "metadata": {},
   "source": [
    "# GROUP BY ve Aggregation Fonksiyonları"
   ]
  },
  {
   "cell_type": "code",
   "execution_count": 53,
   "metadata": {},
   "outputs": [
    {
     "name": "stdout",
     "output_type": "stream",
     "text": [
      " * sqlite:///kadirculha.db\n",
      "Done.\n"
     ]
    },
    {
     "data": {
      "text/html": [
       "<table>\n",
       "    <thead>\n",
       "        <tr>\n",
       "            <th>CustomerID</th>\n",
       "            <th>CustomerName</th>\n",
       "            <th>ContactName</th>\n",
       "            <th>Address</th>\n",
       "            <th>City</th>\n",
       "            <th>PostalCode</th>\n",
       "            <th>Country</th>\n",
       "        </tr>\n",
       "    </thead>\n",
       "    <tbody>\n",
       "        <tr>\n",
       "            <td>1</td>\n",
       "            <td>Alfreds Futterkiste</td>\n",
       "            <td>Maria Anders</td>\n",
       "            <td>Obere Str. 57</td>\n",
       "            <td>Berlin</td>\n",
       "            <td>12209</td>\n",
       "            <td>Germany</td>\n",
       "        </tr>\n",
       "        <tr>\n",
       "            <td>2</td>\n",
       "            <td>Ana Trujillo Emparedados y helados</td>\n",
       "            <td>Ana Trujillo</td>\n",
       "            <td>Avda. de la Constitución 2222</td>\n",
       "            <td>México D.F.</td>\n",
       "            <td>5021</td>\n",
       "            <td>Mexico</td>\n",
       "        </tr>\n",
       "        <tr>\n",
       "            <td>3</td>\n",
       "            <td>Antonio Moreno Taquería</td>\n",
       "            <td>Antonio Moreno</td>\n",
       "            <td>Mataderos 2312</td>\n",
       "            <td>México D.F.</td>\n",
       "            <td>5023</td>\n",
       "            <td>Mexico</td>\n",
       "        </tr>\n",
       "        <tr>\n",
       "            <td>4</td>\n",
       "            <td>Around the Horn</td>\n",
       "            <td>Thomas Hardy</td>\n",
       "            <td>120 Hanover Sq.</td>\n",
       "            <td>London</td>\n",
       "            <td>WA1 1DP</td>\n",
       "            <td>UK</td>\n",
       "        </tr>\n",
       "        <tr>\n",
       "            <td>5</td>\n",
       "            <td>Berglunds snabbköp</td>\n",
       "            <td>Christina Berglund</td>\n",
       "            <td>Berguvsvägen 8</td>\n",
       "            <td>Luleå</td>\n",
       "            <td>S-958 22</td>\n",
       "            <td>Sweden</td>\n",
       "        </tr>\n",
       "        <tr>\n",
       "            <td>6</td>\n",
       "            <td>Blauer See Delikatessen</td>\n",
       "            <td>Hanna Moos</td>\n",
       "            <td>Forsterstr. 57</td>\n",
       "            <td>Mannheim</td>\n",
       "            <td>68306</td>\n",
       "            <td>Germany</td>\n",
       "        </tr>\n",
       "        <tr>\n",
       "            <td>7</td>\n",
       "            <td>Blondel père et fils</td>\n",
       "            <td>Frédérique Citeaux</td>\n",
       "            <td>24, place Kléber</td>\n",
       "            <td>Strasbourg</td>\n",
       "            <td>67000</td>\n",
       "            <td>France</td>\n",
       "        </tr>\n",
       "        <tr>\n",
       "            <td>8</td>\n",
       "            <td>Bólido Comidas preparadas</td>\n",
       "            <td>Martín Sommer</td>\n",
       "            <td>C/ Araquil, 67</td>\n",
       "            <td>Madrid</td>\n",
       "            <td>28023</td>\n",
       "            <td>Spain</td>\n",
       "        </tr>\n",
       "        <tr>\n",
       "            <td>9</td>\n",
       "            <td>Bon app&#x27;</td>\n",
       "            <td>Laurence Lebihans</td>\n",
       "            <td>12, rue des Bouchers</td>\n",
       "            <td>Marseille</td>\n",
       "            <td>13008</td>\n",
       "            <td>France</td>\n",
       "        </tr>\n",
       "        <tr>\n",
       "            <td>10</td>\n",
       "            <td>Bottom-Dollar Marketse</td>\n",
       "            <td>Elizabeth Lincoln</td>\n",
       "            <td>23 Tsawassen Blvd.</td>\n",
       "            <td>Tsawassen</td>\n",
       "            <td>T2F 8M4</td>\n",
       "            <td>Canada</td>\n",
       "        </tr>\n",
       "    </tbody>\n",
       "</table>"
      ],
      "text/plain": [
       "[(1, 'Alfreds Futterkiste', 'Maria Anders', 'Obere Str. 57', 'Berlin', '12209', 'Germany'),\n",
       " (2, 'Ana Trujillo Emparedados y helados', 'Ana Trujillo', 'Avda. de la Constitución 2222', 'México D.F.', '5021', 'Mexico'),\n",
       " (3, 'Antonio Moreno Taquería', 'Antonio Moreno', 'Mataderos 2312', 'México D.F.', '5023', 'Mexico'),\n",
       " (4, 'Around the Horn', 'Thomas Hardy', '120 Hanover Sq.', 'London', 'WA1 1DP', 'UK'),\n",
       " (5, 'Berglunds snabbköp', 'Christina Berglund', 'Berguvsvägen 8', 'Luleå', 'S-958 22', 'Sweden'),\n",
       " (6, 'Blauer See Delikatessen', 'Hanna Moos', 'Forsterstr. 57', 'Mannheim', '68306', 'Germany'),\n",
       " (7, 'Blondel père et fils', 'Frédérique Citeaux', '24, place Kléber', 'Strasbourg', '67000', 'France'),\n",
       " (8, 'Bólido Comidas preparadas', 'Martín Sommer', 'C/ Araquil, 67', 'Madrid', '28023', 'Spain'),\n",
       " (9, \"Bon app'\", 'Laurence Lebihans', '12, rue des Bouchers', 'Marseille', '13008', 'France'),\n",
       " (10, 'Bottom-Dollar Marketse', 'Elizabeth Lincoln', '23 Tsawassen Blvd.', 'Tsawassen', 'T2F 8M4', 'Canada')]"
      ]
     },
     "execution_count": 53,
     "metadata": {},
     "output_type": "execute_result"
    }
   ],
   "source": [
    "%%sql\n",
    "SELECT * FROM Customers LIMIT 10;"
   ]
  },
  {
   "cell_type": "markdown",
   "metadata": {},
   "source": [
    "    hangi ülkeden kaç Customer var "
   ]
  },
  {
   "cell_type": "code",
   "execution_count": 54,
   "metadata": {},
   "outputs": [
    {
     "name": "stdout",
     "output_type": "stream",
     "text": [
      " * sqlite:///kadirculha.db\n",
      "Done.\n"
     ]
    },
    {
     "data": {
      "text/html": [
       "<table>\n",
       "    <thead>\n",
       "        <tr>\n",
       "            <th>Count(CustomerID)</th>\n",
       "            <th>Country</th>\n",
       "        </tr>\n",
       "    </thead>\n",
       "    <tbody>\n",
       "        <tr>\n",
       "            <td>3</td>\n",
       "            <td>Argentina</td>\n",
       "        </tr>\n",
       "        <tr>\n",
       "            <td>2</td>\n",
       "            <td>Austria</td>\n",
       "        </tr>\n",
       "        <tr>\n",
       "            <td>2</td>\n",
       "            <td>Belgium</td>\n",
       "        </tr>\n",
       "        <tr>\n",
       "            <td>9</td>\n",
       "            <td>Brazil</td>\n",
       "        </tr>\n",
       "        <tr>\n",
       "            <td>3</td>\n",
       "            <td>Canada</td>\n",
       "        </tr>\n",
       "        <tr>\n",
       "            <td>2</td>\n",
       "            <td>Denmark</td>\n",
       "        </tr>\n",
       "        <tr>\n",
       "            <td>2</td>\n",
       "            <td>Finland</td>\n",
       "        </tr>\n",
       "        <tr>\n",
       "            <td>11</td>\n",
       "            <td>France</td>\n",
       "        </tr>\n",
       "        <tr>\n",
       "            <td>11</td>\n",
       "            <td>Germany</td>\n",
       "        </tr>\n",
       "        <tr>\n",
       "            <td>1</td>\n",
       "            <td>Ireland</td>\n",
       "        </tr>\n",
       "    </tbody>\n",
       "</table>"
      ],
      "text/plain": [
       "[(3, 'Argentina'),\n",
       " (2, 'Austria'),\n",
       " (2, 'Belgium'),\n",
       " (9, 'Brazil'),\n",
       " (3, 'Canada'),\n",
       " (2, 'Denmark'),\n",
       " (2, 'Finland'),\n",
       " (11, 'France'),\n",
       " (11, 'Germany'),\n",
       " (1, 'Ireland')]"
      ]
     },
     "execution_count": 54,
     "metadata": {},
     "output_type": "execute_result"
    }
   ],
   "source": [
    "%%sql\n",
    "SELECT Count(CustomerID), Country FROM Customers GROUP BY Country LIMIT 10;"
   ]
  },
  {
   "cell_type": "code",
   "execution_count": 55,
   "metadata": {},
   "outputs": [
    {
     "name": "stdout",
     "output_type": "stream",
     "text": [
      " * sqlite:///kadirculha.db\n",
      "Done.\n"
     ]
    },
    {
     "data": {
      "text/html": [
       "<table>\n",
       "    <thead>\n",
       "        <tr>\n",
       "            <th>Count(*)</th>\n",
       "            <th>Country</th>\n",
       "        </tr>\n",
       "    </thead>\n",
       "    <tbody>\n",
       "        <tr>\n",
       "            <td>3</td>\n",
       "            <td>Argentina</td>\n",
       "        </tr>\n",
       "        <tr>\n",
       "            <td>2</td>\n",
       "            <td>Austria</td>\n",
       "        </tr>\n",
       "        <tr>\n",
       "            <td>2</td>\n",
       "            <td>Belgium</td>\n",
       "        </tr>\n",
       "        <tr>\n",
       "            <td>9</td>\n",
       "            <td>Brazil</td>\n",
       "        </tr>\n",
       "        <tr>\n",
       "            <td>3</td>\n",
       "            <td>Canada</td>\n",
       "        </tr>\n",
       "        <tr>\n",
       "            <td>2</td>\n",
       "            <td>Denmark</td>\n",
       "        </tr>\n",
       "        <tr>\n",
       "            <td>2</td>\n",
       "            <td>Finland</td>\n",
       "        </tr>\n",
       "        <tr>\n",
       "            <td>11</td>\n",
       "            <td>France</td>\n",
       "        </tr>\n",
       "        <tr>\n",
       "            <td>11</td>\n",
       "            <td>Germany</td>\n",
       "        </tr>\n",
       "        <tr>\n",
       "            <td>1</td>\n",
       "            <td>Ireland</td>\n",
       "        </tr>\n",
       "    </tbody>\n",
       "</table>"
      ],
      "text/plain": [
       "[(3, 'Argentina'),\n",
       " (2, 'Austria'),\n",
       " (2, 'Belgium'),\n",
       " (9, 'Brazil'),\n",
       " (3, 'Canada'),\n",
       " (2, 'Denmark'),\n",
       " (2, 'Finland'),\n",
       " (11, 'France'),\n",
       " (11, 'Germany'),\n",
       " (1, 'Ireland')]"
      ]
     },
     "execution_count": 55,
     "metadata": {},
     "output_type": "execute_result"
    }
   ],
   "source": [
    "%%sql\n",
    "SELECT Count(*), Country FROM Customers GROUP BY Country LIMIT 10;"
   ]
  },
  {
   "cell_type": "markdown",
   "metadata": {},
   "source": [
    "    hangi ülkeden kaç Customer var  + Musteri sayısına göre sırala"
   ]
  },
  {
   "cell_type": "code",
   "execution_count": 56,
   "metadata": {},
   "outputs": [
    {
     "name": "stdout",
     "output_type": "stream",
     "text": [
      " * sqlite:///kadirculha.db\n",
      "Done.\n"
     ]
    },
    {
     "data": {
      "text/html": [
       "<table>\n",
       "    <thead>\n",
       "        <tr>\n",
       "            <th>MUSTERI_SAYISI</th>\n",
       "            <th>Country</th>\n",
       "        </tr>\n",
       "    </thead>\n",
       "    <tbody>\n",
       "        <tr>\n",
       "            <td>13</td>\n",
       "            <td>USA</td>\n",
       "        </tr>\n",
       "        <tr>\n",
       "            <td>11</td>\n",
       "            <td>Germany</td>\n",
       "        </tr>\n",
       "        <tr>\n",
       "            <td>11</td>\n",
       "            <td>France</td>\n",
       "        </tr>\n",
       "        <tr>\n",
       "            <td>9</td>\n",
       "            <td>Brazil</td>\n",
       "        </tr>\n",
       "        <tr>\n",
       "            <td>7</td>\n",
       "            <td>UK</td>\n",
       "        </tr>\n",
       "        <tr>\n",
       "            <td>5</td>\n",
       "            <td>Spain</td>\n",
       "        </tr>\n",
       "        <tr>\n",
       "            <td>5</td>\n",
       "            <td>Mexico</td>\n",
       "        </tr>\n",
       "        <tr>\n",
       "            <td>4</td>\n",
       "            <td>Venezuela</td>\n",
       "        </tr>\n",
       "        <tr>\n",
       "            <td>3</td>\n",
       "            <td>Italy</td>\n",
       "        </tr>\n",
       "        <tr>\n",
       "            <td>3</td>\n",
       "            <td>Canada</td>\n",
       "        </tr>\n",
       "        <tr>\n",
       "            <td>3</td>\n",
       "            <td>Argentina</td>\n",
       "        </tr>\n",
       "        <tr>\n",
       "            <td>2</td>\n",
       "            <td>Switzerland</td>\n",
       "        </tr>\n",
       "        <tr>\n",
       "            <td>2</td>\n",
       "            <td>Sweden</td>\n",
       "        </tr>\n",
       "        <tr>\n",
       "            <td>2</td>\n",
       "            <td>Portugal</td>\n",
       "        </tr>\n",
       "        <tr>\n",
       "            <td>2</td>\n",
       "            <td>Finland</td>\n",
       "        </tr>\n",
       "        <tr>\n",
       "            <td>2</td>\n",
       "            <td>Denmark</td>\n",
       "        </tr>\n",
       "        <tr>\n",
       "            <td>2</td>\n",
       "            <td>Belgium</td>\n",
       "        </tr>\n",
       "        <tr>\n",
       "            <td>2</td>\n",
       "            <td>Austria</td>\n",
       "        </tr>\n",
       "        <tr>\n",
       "            <td>1</td>\n",
       "            <td>Poland</td>\n",
       "        </tr>\n",
       "        <tr>\n",
       "            <td>1</td>\n",
       "            <td>Norway</td>\n",
       "        </tr>\n",
       "        <tr>\n",
       "            <td>1</td>\n",
       "            <td>Ireland</td>\n",
       "        </tr>\n",
       "    </tbody>\n",
       "</table>"
      ],
      "text/plain": [
       "[(13, 'USA'),\n",
       " (11, 'Germany'),\n",
       " (11, 'France'),\n",
       " (9, 'Brazil'),\n",
       " (7, 'UK'),\n",
       " (5, 'Spain'),\n",
       " (5, 'Mexico'),\n",
       " (4, 'Venezuela'),\n",
       " (3, 'Italy'),\n",
       " (3, 'Canada'),\n",
       " (3, 'Argentina'),\n",
       " (2, 'Switzerland'),\n",
       " (2, 'Sweden'),\n",
       " (2, 'Portugal'),\n",
       " (2, 'Finland'),\n",
       " (2, 'Denmark'),\n",
       " (2, 'Belgium'),\n",
       " (2, 'Austria'),\n",
       " (1, 'Poland'),\n",
       " (1, 'Norway'),\n",
       " (1, 'Ireland')]"
      ]
     },
     "execution_count": 56,
     "metadata": {},
     "output_type": "execute_result"
    }
   ],
   "source": [
    "%%sql\n",
    "SELECT Count(CustomerID) AS MUSTERI_SAYISI, Country FROM Customers GROUP BY Country ORDER BY MUSTERI_SAYISI DESC;"
   ]
  },
  {
   "cell_type": "code",
   "execution_count": 57,
   "metadata": {},
   "outputs": [
    {
     "name": "stdout",
     "output_type": "stream",
     "text": [
      " * sqlite:///kadirculha.db\n",
      "Done.\n"
     ]
    },
    {
     "data": {
      "text/html": [
       "<table>\n",
       "    <thead>\n",
       "        <tr>\n",
       "            <th>ProductID</th>\n",
       "            <th>ProductName</th>\n",
       "            <th>SupplierID</th>\n",
       "            <th>CategoryID</th>\n",
       "            <th>Unit</th>\n",
       "            <th>Price</th>\n",
       "        </tr>\n",
       "    </thead>\n",
       "    <tbody>\n",
       "        <tr>\n",
       "            <td>1</td>\n",
       "            <td>Chais</td>\n",
       "            <td>1</td>\n",
       "            <td>1</td>\n",
       "            <td>10 boxes x 20 bags</td>\n",
       "            <td>18</td>\n",
       "        </tr>\n",
       "        <tr>\n",
       "            <td>2</td>\n",
       "            <td>Chang</td>\n",
       "            <td>1</td>\n",
       "            <td>1</td>\n",
       "            <td>24 - 12 oz bottles</td>\n",
       "            <td>19</td>\n",
       "        </tr>\n",
       "    </tbody>\n",
       "</table>"
      ],
      "text/plain": [
       "[(1, 'Chais', 1, 1, '10 boxes x 20 bags', 18),\n",
       " (2, 'Chang', 1, 1, '24 - 12 oz bottles', 19)]"
      ]
     },
     "execution_count": 57,
     "metadata": {},
     "output_type": "execute_result"
    }
   ],
   "source": [
    "%%sql\n",
    "SELECT * from Products LIMIT 2;"
   ]
  },
  {
   "cell_type": "markdown",
   "metadata": {},
   "source": [
    "    kategorilerin fiyat ortalaması"
   ]
  },
  {
   "cell_type": "code",
   "execution_count": 58,
   "metadata": {},
   "outputs": [
    {
     "name": "stdout",
     "output_type": "stream",
     "text": [
      " * sqlite:///kadirculha.db\n",
      "Done.\n"
     ]
    },
    {
     "data": {
      "text/html": [
       "<table>\n",
       "    <thead>\n",
       "        <tr>\n",
       "            <th>ort_fiyat</th>\n",
       "            <th>CategoryID</th>\n",
       "        </tr>\n",
       "    </thead>\n",
       "    <tbody>\n",
       "        <tr>\n",
       "            <td>42.75</td>\n",
       "            <td>1</td>\n",
       "        </tr>\n",
       "        <tr>\n",
       "            <td>28.25</td>\n",
       "            <td>2</td>\n",
       "        </tr>\n",
       "        <tr>\n",
       "            <td>33.76923076923077</td>\n",
       "            <td>3</td>\n",
       "        </tr>\n",
       "        <tr>\n",
       "            <td>74.9</td>\n",
       "            <td>4</td>\n",
       "        </tr>\n",
       "        <tr>\n",
       "            <td>23.571428571428573</td>\n",
       "            <td>5</td>\n",
       "        </tr>\n",
       "        <tr>\n",
       "            <td>55.166666666666664</td>\n",
       "            <td>6</td>\n",
       "        </tr>\n",
       "        <tr>\n",
       "            <td>32.2</td>\n",
       "            <td>7</td>\n",
       "        </tr>\n",
       "        <tr>\n",
       "            <td>26.5</td>\n",
       "            <td>8</td>\n",
       "        </tr>\n",
       "    </tbody>\n",
       "</table>"
      ],
      "text/plain": [
       "[(42.75, 1),\n",
       " (28.25, 2),\n",
       " (33.76923076923077, 3),\n",
       " (74.9, 4),\n",
       " (23.571428571428573, 5),\n",
       " (55.166666666666664, 6),\n",
       " (32.2, 7),\n",
       " (26.5, 8)]"
      ]
     },
     "execution_count": 58,
     "metadata": {},
     "output_type": "execute_result"
    }
   ],
   "source": [
    "%%sql \n",
    "SELECT AVG(Price)as ort_fiyat, CategoryID FROM Products group by CategoryID;"
   ]
  },
  {
   "cell_type": "code",
   "execution_count": 59,
   "metadata": {},
   "outputs": [
    {
     "name": "stdout",
     "output_type": "stream",
     "text": [
      " * sqlite:///kadirculha.db\n",
      "Done.\n"
     ]
    },
    {
     "data": {
      "text/html": [
       "<table>\n",
       "    <thead>\n",
       "        <tr>\n",
       "            <th>ort_fiyat</th>\n",
       "            <th>CategoryID</th>\n",
       "        </tr>\n",
       "    </thead>\n",
       "    <tbody>\n",
       "        <tr>\n",
       "            <td>74.9</td>\n",
       "            <td>4</td>\n",
       "        </tr>\n",
       "        <tr>\n",
       "            <td>55.166666666666664</td>\n",
       "            <td>6</td>\n",
       "        </tr>\n",
       "        <tr>\n",
       "            <td>42.75</td>\n",
       "            <td>1</td>\n",
       "        </tr>\n",
       "        <tr>\n",
       "            <td>33.76923076923077</td>\n",
       "            <td>3</td>\n",
       "        </tr>\n",
       "        <tr>\n",
       "            <td>32.2</td>\n",
       "            <td>7</td>\n",
       "        </tr>\n",
       "        <tr>\n",
       "            <td>28.25</td>\n",
       "            <td>2</td>\n",
       "        </tr>\n",
       "        <tr>\n",
       "            <td>26.5</td>\n",
       "            <td>8</td>\n",
       "        </tr>\n",
       "        <tr>\n",
       "            <td>23.571428571428573</td>\n",
       "            <td>5</td>\n",
       "        </tr>\n",
       "    </tbody>\n",
       "</table>"
      ],
      "text/plain": [
       "[(74.9, 4),\n",
       " (55.166666666666664, 6),\n",
       " (42.75, 1),\n",
       " (33.76923076923077, 3),\n",
       " (32.2, 7),\n",
       " (28.25, 2),\n",
       " (26.5, 8),\n",
       " (23.571428571428573, 5)]"
      ]
     },
     "execution_count": 59,
     "metadata": {},
     "output_type": "execute_result"
    }
   ],
   "source": [
    "%%sql \n",
    "SELECT AVG(Price)as ort_fiyat, CategoryID FROM Products group by CategoryID ORDER BY ort_fiyat DESC;"
   ]
  },
  {
   "cell_type": "markdown",
   "metadata": {},
   "source": [
    "# JOIN İşlemleri"
   ]
  },
  {
   "cell_type": "code",
   "execution_count": 60,
   "metadata": {},
   "outputs": [
    {
     "name": "stdout",
     "output_type": "stream",
     "text": [
      " * sqlite:///kadirculha.db\n",
      "Done.\n"
     ]
    },
    {
     "data": {
      "text/html": [
       "<table>\n",
       "    <thead>\n",
       "        <tr>\n",
       "            <th>name</th>\n",
       "        </tr>\n",
       "    </thead>\n",
       "    <tbody>\n",
       "        <tr>\n",
       "            <td>Categories</td>\n",
       "        </tr>\n",
       "        <tr>\n",
       "            <td>Customers</td>\n",
       "        </tr>\n",
       "        <tr>\n",
       "            <td>Employees</td>\n",
       "        </tr>\n",
       "        <tr>\n",
       "            <td>Orders</td>\n",
       "        </tr>\n",
       "        <tr>\n",
       "            <td>OrderDetails</td>\n",
       "        </tr>\n",
       "        <tr>\n",
       "            <td>Products</td>\n",
       "        </tr>\n",
       "        <tr>\n",
       "            <td>Shippers</td>\n",
       "        </tr>\n",
       "        <tr>\n",
       "            <td>Suppliers</td>\n",
       "        </tr>\n",
       "        <tr>\n",
       "            <td>yeni_tablo</td>\n",
       "        </tr>\n",
       "    </tbody>\n",
       "</table>"
      ],
      "text/plain": [
       "[('Categories',),\n",
       " ('Customers',),\n",
       " ('Employees',),\n",
       " ('Orders',),\n",
       " ('OrderDetails',),\n",
       " ('Products',),\n",
       " ('Shippers',),\n",
       " ('Suppliers',),\n",
       " ('yeni_tablo',)]"
      ]
     },
     "execution_count": 60,
     "metadata": {},
     "output_type": "execute_result"
    }
   ],
   "source": [
    "%%sql\n",
    "SELECT name FROM sqlite_master WHERE type='table';"
   ]
  },
  {
   "cell_type": "code",
   "execution_count": 61,
   "metadata": {},
   "outputs": [
    {
     "name": "stdout",
     "output_type": "stream",
     "text": [
      " * sqlite:///kadirculha.db\n",
      "Done.\n"
     ]
    },
    {
     "data": {
      "text/html": [
       "<table>\n",
       "    <thead>\n",
       "        <tr>\n",
       "            <th>CategoryID</th>\n",
       "            <th>CategoryName</th>\n",
       "            <th>Description</th>\n",
       "        </tr>\n",
       "    </thead>\n",
       "    <tbody>\n",
       "        <tr>\n",
       "            <td>1</td>\n",
       "            <td>Beverages</td>\n",
       "            <td>Soft drinks, coffees, teas, beers, and ales</td>\n",
       "        </tr>\n",
       "        <tr>\n",
       "            <td>2</td>\n",
       "            <td>Condiments</td>\n",
       "            <td>Sweet and savory sauces, relishes, spreads, and seasonings</td>\n",
       "        </tr>\n",
       "        <tr>\n",
       "            <td>3</td>\n",
       "            <td>Confections</td>\n",
       "            <td>Desserts, candies, and sweet breads</td>\n",
       "        </tr>\n",
       "    </tbody>\n",
       "</table>"
      ],
      "text/plain": [
       "[(1, 'Beverages', 'Soft drinks, coffees, teas, beers, and ales'),\n",
       " (2, 'Condiments', 'Sweet and savory sauces, relishes, spreads, and seasonings'),\n",
       " (3, 'Confections', 'Desserts, candies, and sweet breads')]"
      ]
     },
     "execution_count": 61,
     "metadata": {},
     "output_type": "execute_result"
    }
   ],
   "source": [
    "%%sql\n",
    "SELECT * FROM Categories LIMIT 3;"
   ]
  },
  {
   "cell_type": "markdown",
   "metadata": {},
   "source": [
    "    yukarıdaki ver aşağıdaki tabloları birleştirmek için join işlemleri kulllanılır "
   ]
  },
  {
   "cell_type": "code",
   "execution_count": 62,
   "metadata": {},
   "outputs": [
    {
     "name": "stdout",
     "output_type": "stream",
     "text": [
      " * sqlite:///kadirculha.db\n",
      "Done.\n"
     ]
    },
    {
     "data": {
      "text/html": [
       "<table>\n",
       "    <thead>\n",
       "        <tr>\n",
       "            <th>ProductID</th>\n",
       "            <th>ProductName</th>\n",
       "            <th>SupplierID</th>\n",
       "            <th>CategoryID</th>\n",
       "            <th>Unit</th>\n",
       "            <th>Price</th>\n",
       "        </tr>\n",
       "    </thead>\n",
       "    <tbody>\n",
       "        <tr>\n",
       "            <td>1</td>\n",
       "            <td>Chais</td>\n",
       "            <td>1</td>\n",
       "            <td>1</td>\n",
       "            <td>10 boxes x 20 bags</td>\n",
       "            <td>18</td>\n",
       "        </tr>\n",
       "        <tr>\n",
       "            <td>2</td>\n",
       "            <td>Chang</td>\n",
       "            <td>1</td>\n",
       "            <td>1</td>\n",
       "            <td>24 - 12 oz bottles</td>\n",
       "            <td>19</td>\n",
       "        </tr>\n",
       "        <tr>\n",
       "            <td>3</td>\n",
       "            <td>Aniseed Syrup</td>\n",
       "            <td>1</td>\n",
       "            <td>2</td>\n",
       "            <td>12 - 550 ml bottles</td>\n",
       "            <td>10</td>\n",
       "        </tr>\n",
       "    </tbody>\n",
       "</table>"
      ],
      "text/plain": [
       "[(1, 'Chais', 1, 1, '10 boxes x 20 bags', 18),\n",
       " (2, 'Chang', 1, 1, '24 - 12 oz bottles', 19),\n",
       " (3, 'Aniseed Syrup', 1, 2, '12 - 550 ml bottles', 10)]"
      ]
     },
     "execution_count": 62,
     "metadata": {},
     "output_type": "execute_result"
    }
   ],
   "source": [
    "%sql SELECT * FROM Products LIMIT 3;"
   ]
  },
  {
   "cell_type": "markdown",
   "metadata": {},
   "source": [
    "\n",
    "    LEFT JOIN, SQL'de iki tabloyu birleştirmek için kullanılan bir bağlantı türüdür. Sol tablodaki her bir satır için, sağ tablodaki eşleşen satırları getirir. Eğer sağ tabloda eşleşen bir satır yoksa, NULL değerler getirir. Bu sayede sol tablodaki tüm verileri alırken, sağ tablodaki verileri eşleşenlerle birlikte alabilirsiniz. Bu işlem, tablolar arasındaki ilişkiyi kullanarak verileri birleştirmenize olanak tanır."
   ]
  },
  {
   "cell_type": "code",
   "execution_count": 63,
   "metadata": {},
   "outputs": [
    {
     "name": "stdout",
     "output_type": "stream",
     "text": [
      " * sqlite:///kadirculha.db\n",
      "Done.\n"
     ]
    },
    {
     "data": {
      "text/html": [
       "<table>\n",
       "    <thead>\n",
       "        <tr>\n",
       "            <th>ProductID</th>\n",
       "            <th>ProductName</th>\n",
       "            <th>SupplierID</th>\n",
       "            <th>CategoryID</th>\n",
       "            <th>Unit</th>\n",
       "            <th>Price</th>\n",
       "            <th>CategoryID_1</th>\n",
       "            <th>CategoryName</th>\n",
       "            <th>Description</th>\n",
       "        </tr>\n",
       "    </thead>\n",
       "    <tbody>\n",
       "        <tr>\n",
       "            <td>1</td>\n",
       "            <td>Chais</td>\n",
       "            <td>1</td>\n",
       "            <td>1</td>\n",
       "            <td>10 boxes x 20 bags</td>\n",
       "            <td>18</td>\n",
       "            <td>1</td>\n",
       "            <td>Beverages</td>\n",
       "            <td>Soft drinks, coffees, teas, beers, and ales</td>\n",
       "        </tr>\n",
       "        <tr>\n",
       "            <td>1</td>\n",
       "            <td>Chais</td>\n",
       "            <td>1</td>\n",
       "            <td>1</td>\n",
       "            <td>10 boxes x 20 bags</td>\n",
       "            <td>18</td>\n",
       "            <td>1</td>\n",
       "            <td>Speedy Express</td>\n",
       "            <td>(503) 555-9831</td>\n",
       "        </tr>\n",
       "        <tr>\n",
       "            <td>2</td>\n",
       "            <td>Chang</td>\n",
       "            <td>1</td>\n",
       "            <td>1</td>\n",
       "            <td>24 - 12 oz bottles</td>\n",
       "            <td>19</td>\n",
       "            <td>1</td>\n",
       "            <td>Beverages</td>\n",
       "            <td>Soft drinks, coffees, teas, beers, and ales</td>\n",
       "        </tr>\n",
       "        <tr>\n",
       "            <td>2</td>\n",
       "            <td>Chang</td>\n",
       "            <td>1</td>\n",
       "            <td>1</td>\n",
       "            <td>24 - 12 oz bottles</td>\n",
       "            <td>19</td>\n",
       "            <td>1</td>\n",
       "            <td>Speedy Express</td>\n",
       "            <td>(503) 555-9831</td>\n",
       "        </tr>\n",
       "        <tr>\n",
       "            <td>3</td>\n",
       "            <td>Aniseed Syrup</td>\n",
       "            <td>1</td>\n",
       "            <td>2</td>\n",
       "            <td>12 - 550 ml bottles</td>\n",
       "            <td>10</td>\n",
       "            <td>2</td>\n",
       "            <td>Condiments</td>\n",
       "            <td>Sweet and savory sauces, relishes, spreads, and seasonings</td>\n",
       "        </tr>\n",
       "    </tbody>\n",
       "</table>"
      ],
      "text/plain": [
       "[(1, 'Chais', 1, 1, '10 boxes x 20 bags', 18, 1, 'Beverages', 'Soft drinks, coffees, teas, beers, and ales'),\n",
       " (1, 'Chais', 1, 1, '10 boxes x 20 bags', 18, 1, 'Speedy Express', '(503) 555-9831'),\n",
       " (2, 'Chang', 1, 1, '24 - 12 oz bottles', 19, 1, 'Beverages', 'Soft drinks, coffees, teas, beers, and ales'),\n",
       " (2, 'Chang', 1, 1, '24 - 12 oz bottles', 19, 1, 'Speedy Express', '(503) 555-9831'),\n",
       " (3, 'Aniseed Syrup', 1, 2, '12 - 550 ml bottles', 10, 2, 'Condiments', 'Sweet and savory sauces, relishes, spreads, and seasonings')]"
      ]
     },
     "execution_count": 63,
     "metadata": {},
     "output_type": "execute_result"
    }
   ],
   "source": [
    "%%sql \n",
    "SELECT * FROM Products LEFT JOIN Categories ON Products.CategoryID = Categories.CategoryID limit 5  ;"
   ]
  },
  {
   "cell_type": "code",
   "execution_count": 64,
   "metadata": {},
   "outputs": [
    {
     "name": "stdout",
     "output_type": "stream",
     "text": [
      " * sqlite:///kadirculha.db\n",
      "Done.\n"
     ]
    },
    {
     "data": {
      "text/html": [
       "<table>\n",
       "    <thead>\n",
       "        <tr>\n",
       "            <th>ProductName</th>\n",
       "            <th>CategoryID</th>\n",
       "            <th>CategoryName</th>\n",
       "        </tr>\n",
       "    </thead>\n",
       "    <tbody>\n",
       "        <tr>\n",
       "            <td>Chais</td>\n",
       "            <td>1</td>\n",
       "            <td>Beverages</td>\n",
       "        </tr>\n",
       "        <tr>\n",
       "            <td>Chais</td>\n",
       "            <td>1</td>\n",
       "            <td>Speedy Express</td>\n",
       "        </tr>\n",
       "        <tr>\n",
       "            <td>Chang</td>\n",
       "            <td>1</td>\n",
       "            <td>Beverages</td>\n",
       "        </tr>\n",
       "        <tr>\n",
       "            <td>Chang</td>\n",
       "            <td>1</td>\n",
       "            <td>Speedy Express</td>\n",
       "        </tr>\n",
       "        <tr>\n",
       "            <td>Aniseed Syrup</td>\n",
       "            <td>2</td>\n",
       "            <td>Condiments</td>\n",
       "        </tr>\n",
       "    </tbody>\n",
       "</table>"
      ],
      "text/plain": [
       "[('Chais', 1, 'Beverages'),\n",
       " ('Chais', 1, 'Speedy Express'),\n",
       " ('Chang', 1, 'Beverages'),\n",
       " ('Chang', 1, 'Speedy Express'),\n",
       " ('Aniseed Syrup', 2, 'Condiments')]"
      ]
     },
     "execution_count": 64,
     "metadata": {},
     "output_type": "execute_result"
    }
   ],
   "source": [
    "%%sql\n",
    "SELECT PR.ProductName, CA.CategoryID, CA.CategoryName FROM Products AS PR LEFT OUTER JOIN Categories AS CA ON PR.CategoryID = CA.CategoryID LIMIT 5;   \n"
   ]
  },
  {
   "cell_type": "code",
   "execution_count": 65,
   "metadata": {},
   "outputs": [
    {
     "name": "stdout",
     "output_type": "stream",
     "text": [
      " * sqlite:///kadirculha.db\n",
      "Done.\n"
     ]
    },
    {
     "data": {
      "text/html": [
       "<table>\n",
       "    <thead>\n",
       "        <tr>\n",
       "            <th>ProductName</th>\n",
       "            <th>CategoryID</th>\n",
       "            <th>CategoryName</th>\n",
       "        </tr>\n",
       "    </thead>\n",
       "    <tbody>\n",
       "        <tr>\n",
       "            <td>Chais</td>\n",
       "            <td>1</td>\n",
       "            <td>Beverages</td>\n",
       "        </tr>\n",
       "        <tr>\n",
       "            <td>Chais</td>\n",
       "            <td>1</td>\n",
       "            <td>Speedy Express</td>\n",
       "        </tr>\n",
       "        <tr>\n",
       "            <td>Chang</td>\n",
       "            <td>1</td>\n",
       "            <td>Beverages</td>\n",
       "        </tr>\n",
       "        <tr>\n",
       "            <td>Chang</td>\n",
       "            <td>1</td>\n",
       "            <td>Speedy Express</td>\n",
       "        </tr>\n",
       "        <tr>\n",
       "            <td>Aniseed Syrup</td>\n",
       "            <td>2</td>\n",
       "            <td>Condiments</td>\n",
       "        </tr>\n",
       "    </tbody>\n",
       "</table>"
      ],
      "text/plain": [
       "[('Chais', 1, 'Beverages'),\n",
       " ('Chais', 1, 'Speedy Express'),\n",
       " ('Chang', 1, 'Beverages'),\n",
       " ('Chang', 1, 'Speedy Express'),\n",
       " ('Aniseed Syrup', 2, 'Condiments')]"
      ]
     },
     "execution_count": 65,
     "metadata": {},
     "output_type": "execute_result"
    }
   ],
   "source": [
    "%%sql\n",
    "SELECT PR.ProductName, CA.CategoryID, CA.CategoryName FROM Products PR LEFT OUTER JOIN Categories CA ON PR.CategoryID = CA.CategoryID LIMIT 5;   \n"
   ]
  },
  {
   "cell_type": "markdown",
   "metadata": {},
   "source": [
    "    RIGHT JOIN, SQL'de iki tabloyu birleştirmek için kullanılan bir bağlantı türüdür. RIGHT JOIN, LEFT JOIN'in tam tersidir. Sağ tablodaki her bir satır için, sol tablodaki eşleşen satırları getirir. Eğer sol tabloda eşleşen bir satır yoksa, NULL değerler getirir. Bu sayede sağ tablodaki tüm verileri alırken, sol tablodaki verileri eşleşenlerle birlikte alabilirsiniz. Bu işlem, tablolar arasındaki ilişkiyi kullanarak verileri birleştirmenize olanak tanır.(sqlite için right join yoktur)"
   ]
  },
  {
   "cell_type": "markdown",
   "metadata": {},
   "source": [
    "    INNER JOIN, SQL'de en yaygın kullanılan birleştirme (join) türüdür. İki tabloyu birleştirirken, her iki tabloda da eşleşen satırları getirir. Eğer bir satırın karşılığı diğer tabloda yoksa, o satırı getirmez. INNER JOIN, birleştirilecek iki tablo arasındaki ortak bir sütunu kullanarak bu eşleştirmeyi yapar. Bu sayede, yalnızca iki tablodaki veriler arasındaki ortaklıkları bulabilir ve getirebilirsiniz."
   ]
  },
  {
   "cell_type": "code",
   "execution_count": 66,
   "metadata": {},
   "outputs": [
    {
     "name": "stdout",
     "output_type": "stream",
     "text": [
      " * sqlite:///kadirculha.db\n",
      "Done.\n"
     ]
    },
    {
     "data": {
      "text/html": [
       "<table>\n",
       "    <thead>\n",
       "        <tr>\n",
       "            <th>CustomerID</th>\n",
       "            <th>CustomerName</th>\n",
       "            <th>ContactName</th>\n",
       "            <th>Address</th>\n",
       "            <th>City</th>\n",
       "            <th>PostalCode</th>\n",
       "            <th>Country</th>\n",
       "        </tr>\n",
       "    </thead>\n",
       "    <tbody>\n",
       "        <tr>\n",
       "            <td>1</td>\n",
       "            <td>Alfreds Futterkiste</td>\n",
       "            <td>Maria Anders</td>\n",
       "            <td>Obere Str. 57</td>\n",
       "            <td>Berlin</td>\n",
       "            <td>12209</td>\n",
       "            <td>Germany</td>\n",
       "        </tr>\n",
       "        <tr>\n",
       "            <td>2</td>\n",
       "            <td>Ana Trujillo Emparedados y helados</td>\n",
       "            <td>Ana Trujillo</td>\n",
       "            <td>Avda. de la Constitución 2222</td>\n",
       "            <td>México D.F.</td>\n",
       "            <td>5021</td>\n",
       "            <td>Mexico</td>\n",
       "        </tr>\n",
       "        <tr>\n",
       "            <td>3</td>\n",
       "            <td>Antonio Moreno Taquería</td>\n",
       "            <td>Antonio Moreno</td>\n",
       "            <td>Mataderos 2312</td>\n",
       "            <td>México D.F.</td>\n",
       "            <td>5023</td>\n",
       "            <td>Mexico</td>\n",
       "        </tr>\n",
       "    </tbody>\n",
       "</table>"
      ],
      "text/plain": [
       "[(1, 'Alfreds Futterkiste', 'Maria Anders', 'Obere Str. 57', 'Berlin', '12209', 'Germany'),\n",
       " (2, 'Ana Trujillo Emparedados y helados', 'Ana Trujillo', 'Avda. de la Constitución 2222', 'México D.F.', '5021', 'Mexico'),\n",
       " (3, 'Antonio Moreno Taquería', 'Antonio Moreno', 'Mataderos 2312', 'México D.F.', '5023', 'Mexico')]"
      ]
     },
     "execution_count": 66,
     "metadata": {},
     "output_type": "execute_result"
    }
   ],
   "source": [
    "%%sql \n",
    "SELECT * FROM Customers  limit 3;"
   ]
  },
  {
   "cell_type": "code",
   "execution_count": 67,
   "metadata": {},
   "outputs": [
    {
     "name": "stdout",
     "output_type": "stream",
     "text": [
      " * sqlite:///kadirculha.db\n",
      "Done.\n"
     ]
    },
    {
     "data": {
      "text/html": [
       "<table>\n",
       "    <thead>\n",
       "        <tr>\n",
       "            <th>OrderID</th>\n",
       "            <th>CustomerID</th>\n",
       "            <th>EmployeeID</th>\n",
       "            <th>OrderDate</th>\n",
       "            <th>ShipperID</th>\n",
       "        </tr>\n",
       "    </thead>\n",
       "    <tbody>\n",
       "        <tr>\n",
       "            <td>10248</td>\n",
       "            <td>90</td>\n",
       "            <td>5</td>\n",
       "            <td>4.07.1996</td>\n",
       "            <td>3</td>\n",
       "        </tr>\n",
       "        <tr>\n",
       "            <td>10249</td>\n",
       "            <td>81</td>\n",
       "            <td>6</td>\n",
       "            <td>5.07.1996</td>\n",
       "            <td>1</td>\n",
       "        </tr>\n",
       "        <tr>\n",
       "            <td>10250</td>\n",
       "            <td>34</td>\n",
       "            <td>4</td>\n",
       "            <td>8.07.1996</td>\n",
       "            <td>2</td>\n",
       "        </tr>\n",
       "    </tbody>\n",
       "</table>"
      ],
      "text/plain": [
       "[(10248, 90, 5, '4.07.1996', 3),\n",
       " (10249, 81, 6, '5.07.1996', 1),\n",
       " (10250, 34, 4, '8.07.1996', 2)]"
      ]
     },
     "execution_count": 67,
     "metadata": {},
     "output_type": "execute_result"
    }
   ],
   "source": [
    "%%sql\n",
    "SELECT * FROM Orders limit 3;"
   ]
  },
  {
   "cell_type": "code",
   "execution_count": 68,
   "metadata": {},
   "outputs": [
    {
     "name": "stdout",
     "output_type": "stream",
     "text": [
      " * sqlite:///kadirculha.db\n",
      "Done.\n"
     ]
    },
    {
     "data": {
      "text/html": [
       "<table>\n",
       "    <thead>\n",
       "        <tr>\n",
       "            <th>OrderID</th>\n",
       "            <th>CustomerName</th>\n",
       "        </tr>\n",
       "    </thead>\n",
       "    <tbody>\n",
       "        <tr>\n",
       "            <td>10308</td>\n",
       "            <td>Ana Trujillo Emparedados y helados</td>\n",
       "        </tr>\n",
       "        <tr>\n",
       "            <td>10365</td>\n",
       "            <td>Antonio Moreno Taquería</td>\n",
       "        </tr>\n",
       "        <tr>\n",
       "            <td>10355</td>\n",
       "            <td>Around the Horn</td>\n",
       "        </tr>\n",
       "        <tr>\n",
       "            <td>10383</td>\n",
       "            <td>Around the Horn</td>\n",
       "        </tr>\n",
       "        <tr>\n",
       "            <td>10278</td>\n",
       "            <td>Berglunds snabbköp</td>\n",
       "        </tr>\n",
       "        <tr>\n",
       "            <td>10280</td>\n",
       "            <td>Berglunds snabbköp</td>\n",
       "        </tr>\n",
       "        <tr>\n",
       "            <td>10384</td>\n",
       "            <td>Berglunds snabbköp</td>\n",
       "        </tr>\n",
       "        <tr>\n",
       "            <td>10265</td>\n",
       "            <td>Blondel père et fils</td>\n",
       "        </tr>\n",
       "        <tr>\n",
       "            <td>10297</td>\n",
       "            <td>Blondel père et fils</td>\n",
       "        </tr>\n",
       "        <tr>\n",
       "            <td>10360</td>\n",
       "            <td>Blondel père et fils</td>\n",
       "        </tr>\n",
       "    </tbody>\n",
       "</table>"
      ],
      "text/plain": [
       "[(10308, 'Ana Trujillo Emparedados y helados'),\n",
       " (10365, 'Antonio Moreno Taquería'),\n",
       " (10355, 'Around the Horn'),\n",
       " (10383, 'Around the Horn'),\n",
       " (10278, 'Berglunds snabbköp'),\n",
       " (10280, 'Berglunds snabbköp'),\n",
       " (10384, 'Berglunds snabbköp'),\n",
       " (10265, 'Blondel père et fils'),\n",
       " (10297, 'Blondel père et fils'),\n",
       " (10360, 'Blondel père et fils')]"
      ]
     },
     "execution_count": 68,
     "metadata": {},
     "output_type": "execute_result"
    }
   ],
   "source": [
    "%%sql \n",
    "SELECT Orders.OrderID, Customers.CustomerName FROM Customers INNER JOIN Orders ON Customers.CustomerID = Orders.CustomerID limit 10;"
   ]
  },
  {
   "cell_type": "code",
   "execution_count": 69,
   "metadata": {},
   "outputs": [
    {
     "name": "stdout",
     "output_type": "stream",
     "text": [
      " * sqlite:///kadirculha.db\n",
      "Done.\n"
     ]
    },
    {
     "data": {
      "text/html": [
       "<table>\n",
       "    <thead>\n",
       "        <tr>\n",
       "            <th>COUNT(*)</th>\n",
       "        </tr>\n",
       "    </thead>\n",
       "    <tbody>\n",
       "        <tr>\n",
       "            <td>196</td>\n",
       "        </tr>\n",
       "    </tbody>\n",
       "</table>"
      ],
      "text/plain": [
       "[(196,)]"
      ]
     },
     "execution_count": 69,
     "metadata": {},
     "output_type": "execute_result"
    }
   ],
   "source": [
    "%%sql \n",
    "SELECT COUNT(*) FROM (SELECT Orders.OrderID, Customers.CustomerName FROM Customers INNER JOIN Orders ON Customers.CustomerID = Orders.CustomerID);"
   ]
  },
  {
   "cell_type": "markdown",
   "metadata": {},
   "source": [
    "# SQL ve Pandas DataFrame Operasyonları"
   ]
  },
  {
   "cell_type": "code",
   "execution_count": 70,
   "metadata": {},
   "outputs": [],
   "source": [
    "import pandas as pd"
   ]
  },
  {
   "cell_type": "code",
   "execution_count": 71,
   "metadata": {},
   "outputs": [
    {
     "name": "stdout",
     "output_type": "stream",
     "text": [
      "The sql extension is already loaded. To reload it, use:\n",
      "  %reload_ext sql\n"
     ]
    }
   ],
   "source": [
    "%load_ext sql"
   ]
  },
  {
   "cell_type": "code",
   "execution_count": 72,
   "metadata": {},
   "outputs": [],
   "source": [
    "%sql sqlite:///kadirculha.db"
   ]
  },
  {
   "cell_type": "code",
   "execution_count": 73,
   "metadata": {},
   "outputs": [
    {
     "name": "stdout",
     "output_type": "stream",
     "text": [
      " * sqlite:///kadirculha.db\n",
      "Done.\n"
     ]
    },
    {
     "data": {
      "text/html": [
       "<table>\n",
       "    <thead>\n",
       "        <tr>\n",
       "            <th>MUSTERI_SAYISI</th>\n",
       "            <th>Country</th>\n",
       "        </tr>\n",
       "    </thead>\n",
       "    <tbody>\n",
       "        <tr>\n",
       "            <td>13</td>\n",
       "            <td>USA</td>\n",
       "        </tr>\n",
       "        <tr>\n",
       "            <td>11</td>\n",
       "            <td>Germany</td>\n",
       "        </tr>\n",
       "        <tr>\n",
       "            <td>11</td>\n",
       "            <td>France</td>\n",
       "        </tr>\n",
       "        <tr>\n",
       "            <td>9</td>\n",
       "            <td>Brazil</td>\n",
       "        </tr>\n",
       "        <tr>\n",
       "            <td>7</td>\n",
       "            <td>UK</td>\n",
       "        </tr>\n",
       "        <tr>\n",
       "            <td>5</td>\n",
       "            <td>Spain</td>\n",
       "        </tr>\n",
       "        <tr>\n",
       "            <td>5</td>\n",
       "            <td>Mexico</td>\n",
       "        </tr>\n",
       "        <tr>\n",
       "            <td>4</td>\n",
       "            <td>Venezuela</td>\n",
       "        </tr>\n",
       "        <tr>\n",
       "            <td>3</td>\n",
       "            <td>Italy</td>\n",
       "        </tr>\n",
       "        <tr>\n",
       "            <td>3</td>\n",
       "            <td>Canada</td>\n",
       "        </tr>\n",
       "        <tr>\n",
       "            <td>3</td>\n",
       "            <td>Argentina</td>\n",
       "        </tr>\n",
       "        <tr>\n",
       "            <td>2</td>\n",
       "            <td>Switzerland</td>\n",
       "        </tr>\n",
       "        <tr>\n",
       "            <td>2</td>\n",
       "            <td>Sweden</td>\n",
       "        </tr>\n",
       "        <tr>\n",
       "            <td>2</td>\n",
       "            <td>Portugal</td>\n",
       "        </tr>\n",
       "        <tr>\n",
       "            <td>2</td>\n",
       "            <td>Finland</td>\n",
       "        </tr>\n",
       "        <tr>\n",
       "            <td>2</td>\n",
       "            <td>Denmark</td>\n",
       "        </tr>\n",
       "        <tr>\n",
       "            <td>2</td>\n",
       "            <td>Belgium</td>\n",
       "        </tr>\n",
       "        <tr>\n",
       "            <td>2</td>\n",
       "            <td>Austria</td>\n",
       "        </tr>\n",
       "        <tr>\n",
       "            <td>1</td>\n",
       "            <td>Poland</td>\n",
       "        </tr>\n",
       "        <tr>\n",
       "            <td>1</td>\n",
       "            <td>Norway</td>\n",
       "        </tr>\n",
       "        <tr>\n",
       "            <td>1</td>\n",
       "            <td>Ireland</td>\n",
       "        </tr>\n",
       "    </tbody>\n",
       "</table>"
      ],
      "text/plain": [
       "[(13, 'USA'),\n",
       " (11, 'Germany'),\n",
       " (11, 'France'),\n",
       " (9, 'Brazil'),\n",
       " (7, 'UK'),\n",
       " (5, 'Spain'),\n",
       " (5, 'Mexico'),\n",
       " (4, 'Venezuela'),\n",
       " (3, 'Italy'),\n",
       " (3, 'Canada'),\n",
       " (3, 'Argentina'),\n",
       " (2, 'Switzerland'),\n",
       " (2, 'Sweden'),\n",
       " (2, 'Portugal'),\n",
       " (2, 'Finland'),\n",
       " (2, 'Denmark'),\n",
       " (2, 'Belgium'),\n",
       " (2, 'Austria'),\n",
       " (1, 'Poland'),\n",
       " (1, 'Norway'),\n",
       " (1, 'Ireland')]"
      ]
     },
     "execution_count": 73,
     "metadata": {},
     "output_type": "execute_result"
    }
   ],
   "source": [
    "%sql SELECT COUNT(CustomerID) AS MUSTERI_SAYISI, Country FROM Customers GROUP BY Country ORDER BY MUSTERI_SAYISI DESC;\n"
   ]
  },
  {
   "cell_type": "code",
   "execution_count": 74,
   "metadata": {},
   "outputs": [
    {
     "name": "stdout",
     "output_type": "stream",
     "text": [
      " * sqlite:///kadirculha.db\n",
      "Done.\n"
     ]
    }
   ],
   "source": [
    "df = %sql SELECT COUNT(CustomerID) AS MUSTERI_SAYISI, Country FROM Customers GROUP BY Country ORDER BY MUSTERI_SAYISI DESC;\n"
   ]
  },
  {
   "cell_type": "code",
   "execution_count": 75,
   "metadata": {},
   "outputs": [
    {
     "data": {
      "text/html": [
       "<table>\n",
       "    <thead>\n",
       "        <tr>\n",
       "            <th>MUSTERI_SAYISI</th>\n",
       "            <th>Country</th>\n",
       "        </tr>\n",
       "    </thead>\n",
       "    <tbody>\n",
       "        <tr>\n",
       "            <td>13</td>\n",
       "            <td>USA</td>\n",
       "        </tr>\n",
       "        <tr>\n",
       "            <td>11</td>\n",
       "            <td>Germany</td>\n",
       "        </tr>\n",
       "        <tr>\n",
       "            <td>11</td>\n",
       "            <td>France</td>\n",
       "        </tr>\n",
       "        <tr>\n",
       "            <td>9</td>\n",
       "            <td>Brazil</td>\n",
       "        </tr>\n",
       "        <tr>\n",
       "            <td>7</td>\n",
       "            <td>UK</td>\n",
       "        </tr>\n",
       "        <tr>\n",
       "            <td>5</td>\n",
       "            <td>Spain</td>\n",
       "        </tr>\n",
       "        <tr>\n",
       "            <td>5</td>\n",
       "            <td>Mexico</td>\n",
       "        </tr>\n",
       "        <tr>\n",
       "            <td>4</td>\n",
       "            <td>Venezuela</td>\n",
       "        </tr>\n",
       "        <tr>\n",
       "            <td>3</td>\n",
       "            <td>Italy</td>\n",
       "        </tr>\n",
       "        <tr>\n",
       "            <td>3</td>\n",
       "            <td>Canada</td>\n",
       "        </tr>\n",
       "        <tr>\n",
       "            <td>3</td>\n",
       "            <td>Argentina</td>\n",
       "        </tr>\n",
       "        <tr>\n",
       "            <td>2</td>\n",
       "            <td>Switzerland</td>\n",
       "        </tr>\n",
       "        <tr>\n",
       "            <td>2</td>\n",
       "            <td>Sweden</td>\n",
       "        </tr>\n",
       "        <tr>\n",
       "            <td>2</td>\n",
       "            <td>Portugal</td>\n",
       "        </tr>\n",
       "        <tr>\n",
       "            <td>2</td>\n",
       "            <td>Finland</td>\n",
       "        </tr>\n",
       "        <tr>\n",
       "            <td>2</td>\n",
       "            <td>Denmark</td>\n",
       "        </tr>\n",
       "        <tr>\n",
       "            <td>2</td>\n",
       "            <td>Belgium</td>\n",
       "        </tr>\n",
       "        <tr>\n",
       "            <td>2</td>\n",
       "            <td>Austria</td>\n",
       "        </tr>\n",
       "        <tr>\n",
       "            <td>1</td>\n",
       "            <td>Poland</td>\n",
       "        </tr>\n",
       "        <tr>\n",
       "            <td>1</td>\n",
       "            <td>Norway</td>\n",
       "        </tr>\n",
       "        <tr>\n",
       "            <td>1</td>\n",
       "            <td>Ireland</td>\n",
       "        </tr>\n",
       "    </tbody>\n",
       "</table>"
      ],
      "text/plain": [
       "[(13, 'USA'),\n",
       " (11, 'Germany'),\n",
       " (11, 'France'),\n",
       " (9, 'Brazil'),\n",
       " (7, 'UK'),\n",
       " (5, 'Spain'),\n",
       " (5, 'Mexico'),\n",
       " (4, 'Venezuela'),\n",
       " (3, 'Italy'),\n",
       " (3, 'Canada'),\n",
       " (3, 'Argentina'),\n",
       " (2, 'Switzerland'),\n",
       " (2, 'Sweden'),\n",
       " (2, 'Portugal'),\n",
       " (2, 'Finland'),\n",
       " (2, 'Denmark'),\n",
       " (2, 'Belgium'),\n",
       " (2, 'Austria'),\n",
       " (1, 'Poland'),\n",
       " (1, 'Norway'),\n",
       " (1, 'Ireland')]"
      ]
     },
     "execution_count": 75,
     "metadata": {},
     "output_type": "execute_result"
    }
   ],
   "source": [
    "df"
   ]
  },
  {
   "cell_type": "code",
   "execution_count": 76,
   "metadata": {},
   "outputs": [
    {
     "ename": "AttributeError",
     "evalue": "'ResultSet' object has no attribute 'head'",
     "output_type": "error",
     "traceback": [
      "\u001b[0;31m---------------------------------------------------------------------------\u001b[0m",
      "\u001b[0;31mAttributeError\u001b[0m                            Traceback (most recent call last)",
      "Cell \u001b[0;32mIn[76], line 1\u001b[0m\n\u001b[0;32m----> 1\u001b[0m \u001b[43mdf\u001b[49m\u001b[38;5;241;43m.\u001b[39;49m\u001b[43mhead\u001b[49m()\n",
      "\u001b[0;31mAttributeError\u001b[0m: 'ResultSet' object has no attribute 'head'"
     ]
    }
   ],
   "source": [
    "df.head()"
   ]
  },
  {
   "cell_type": "code",
   "execution_count": 77,
   "metadata": {},
   "outputs": [
    {
     "data": {
      "text/plain": [
       "sql.run.ResultSet"
      ]
     },
     "execution_count": 77,
     "metadata": {},
     "output_type": "execute_result"
    }
   ],
   "source": [
    "type(df)"
   ]
  },
  {
   "cell_type": "code",
   "execution_count": 78,
   "metadata": {},
   "outputs": [],
   "source": [
    "dff = pd.DataFrame(df, columns = [\"MUS_SAY\",\"ULKE\"])"
   ]
  },
  {
   "cell_type": "code",
   "execution_count": 79,
   "metadata": {},
   "outputs": [
    {
     "data": {
      "text/html": [
       "<div>\n",
       "<style scoped>\n",
       "    .dataframe tbody tr th:only-of-type {\n",
       "        vertical-align: middle;\n",
       "    }\n",
       "\n",
       "    .dataframe tbody tr th {\n",
       "        vertical-align: top;\n",
       "    }\n",
       "\n",
       "    .dataframe thead th {\n",
       "        text-align: right;\n",
       "    }\n",
       "</style>\n",
       "<table border=\"1\" class=\"dataframe\">\n",
       "  <thead>\n",
       "    <tr style=\"text-align: right;\">\n",
       "      <th></th>\n",
       "      <th>MUS_SAY</th>\n",
       "      <th>ULKE</th>\n",
       "    </tr>\n",
       "  </thead>\n",
       "  <tbody>\n",
       "    <tr>\n",
       "      <th>0</th>\n",
       "      <td>13</td>\n",
       "      <td>USA</td>\n",
       "    </tr>\n",
       "    <tr>\n",
       "      <th>1</th>\n",
       "      <td>11</td>\n",
       "      <td>Germany</td>\n",
       "    </tr>\n",
       "    <tr>\n",
       "      <th>2</th>\n",
       "      <td>11</td>\n",
       "      <td>France</td>\n",
       "    </tr>\n",
       "    <tr>\n",
       "      <th>3</th>\n",
       "      <td>9</td>\n",
       "      <td>Brazil</td>\n",
       "    </tr>\n",
       "    <tr>\n",
       "      <th>4</th>\n",
       "      <td>7</td>\n",
       "      <td>UK</td>\n",
       "    </tr>\n",
       "    <tr>\n",
       "      <th>5</th>\n",
       "      <td>5</td>\n",
       "      <td>Spain</td>\n",
       "    </tr>\n",
       "    <tr>\n",
       "      <th>6</th>\n",
       "      <td>5</td>\n",
       "      <td>Mexico</td>\n",
       "    </tr>\n",
       "    <tr>\n",
       "      <th>7</th>\n",
       "      <td>4</td>\n",
       "      <td>Venezuela</td>\n",
       "    </tr>\n",
       "    <tr>\n",
       "      <th>8</th>\n",
       "      <td>3</td>\n",
       "      <td>Italy</td>\n",
       "    </tr>\n",
       "    <tr>\n",
       "      <th>9</th>\n",
       "      <td>3</td>\n",
       "      <td>Canada</td>\n",
       "    </tr>\n",
       "    <tr>\n",
       "      <th>10</th>\n",
       "      <td>3</td>\n",
       "      <td>Argentina</td>\n",
       "    </tr>\n",
       "    <tr>\n",
       "      <th>11</th>\n",
       "      <td>2</td>\n",
       "      <td>Switzerland</td>\n",
       "    </tr>\n",
       "    <tr>\n",
       "      <th>12</th>\n",
       "      <td>2</td>\n",
       "      <td>Sweden</td>\n",
       "    </tr>\n",
       "    <tr>\n",
       "      <th>13</th>\n",
       "      <td>2</td>\n",
       "      <td>Portugal</td>\n",
       "    </tr>\n",
       "    <tr>\n",
       "      <th>14</th>\n",
       "      <td>2</td>\n",
       "      <td>Finland</td>\n",
       "    </tr>\n",
       "    <tr>\n",
       "      <th>15</th>\n",
       "      <td>2</td>\n",
       "      <td>Denmark</td>\n",
       "    </tr>\n",
       "    <tr>\n",
       "      <th>16</th>\n",
       "      <td>2</td>\n",
       "      <td>Belgium</td>\n",
       "    </tr>\n",
       "    <tr>\n",
       "      <th>17</th>\n",
       "      <td>2</td>\n",
       "      <td>Austria</td>\n",
       "    </tr>\n",
       "    <tr>\n",
       "      <th>18</th>\n",
       "      <td>1</td>\n",
       "      <td>Poland</td>\n",
       "    </tr>\n",
       "    <tr>\n",
       "      <th>19</th>\n",
       "      <td>1</td>\n",
       "      <td>Norway</td>\n",
       "    </tr>\n",
       "    <tr>\n",
       "      <th>20</th>\n",
       "      <td>1</td>\n",
       "      <td>Ireland</td>\n",
       "    </tr>\n",
       "  </tbody>\n",
       "</table>\n",
       "</div>"
      ],
      "text/plain": [
       "    MUS_SAY         ULKE\n",
       "0        13          USA\n",
       "1        11      Germany\n",
       "2        11       France\n",
       "3         9       Brazil\n",
       "4         7           UK\n",
       "5         5        Spain\n",
       "6         5       Mexico\n",
       "7         4    Venezuela\n",
       "8         3        Italy\n",
       "9         3       Canada\n",
       "10        3    Argentina\n",
       "11        2  Switzerland\n",
       "12        2       Sweden\n",
       "13        2     Portugal\n",
       "14        2      Finland\n",
       "15        2      Denmark\n",
       "16        2      Belgium\n",
       "17        2      Austria\n",
       "18        1       Poland\n",
       "19        1       Norway\n",
       "20        1      Ireland"
      ]
     },
     "execution_count": 79,
     "metadata": {},
     "output_type": "execute_result"
    }
   ],
   "source": [
    "dff"
   ]
  },
  {
   "cell_type": "code",
   "execution_count": 80,
   "metadata": {},
   "outputs": [
    {
     "data": {
      "text/html": [
       "<div>\n",
       "<style scoped>\n",
       "    .dataframe tbody tr th:only-of-type {\n",
       "        vertical-align: middle;\n",
       "    }\n",
       "\n",
       "    .dataframe tbody tr th {\n",
       "        vertical-align: top;\n",
       "    }\n",
       "\n",
       "    .dataframe thead th {\n",
       "        text-align: right;\n",
       "    }\n",
       "</style>\n",
       "<table border=\"1\" class=\"dataframe\">\n",
       "  <thead>\n",
       "    <tr style=\"text-align: right;\">\n",
       "      <th></th>\n",
       "      <th>MUS_SAY</th>\n",
       "      <th>ULKE</th>\n",
       "    </tr>\n",
       "  </thead>\n",
       "  <tbody>\n",
       "    <tr>\n",
       "      <th>0</th>\n",
       "      <td>13</td>\n",
       "      <td>USA</td>\n",
       "    </tr>\n",
       "    <tr>\n",
       "      <th>1</th>\n",
       "      <td>11</td>\n",
       "      <td>Germany</td>\n",
       "    </tr>\n",
       "    <tr>\n",
       "      <th>2</th>\n",
       "      <td>11</td>\n",
       "      <td>France</td>\n",
       "    </tr>\n",
       "    <tr>\n",
       "      <th>3</th>\n",
       "      <td>9</td>\n",
       "      <td>Brazil</td>\n",
       "    </tr>\n",
       "    <tr>\n",
       "      <th>4</th>\n",
       "      <td>7</td>\n",
       "      <td>UK</td>\n",
       "    </tr>\n",
       "  </tbody>\n",
       "</table>\n",
       "</div>"
      ],
      "text/plain": [
       "   MUS_SAY     ULKE\n",
       "0       13      USA\n",
       "1       11  Germany\n",
       "2       11   France\n",
       "3        9   Brazil\n",
       "4        7       UK"
      ]
     },
     "execution_count": 80,
     "metadata": {},
     "output_type": "execute_result"
    }
   ],
   "source": [
    "dff.head()"
   ]
  },
  {
   "cell_type": "code",
   "execution_count": 81,
   "metadata": {},
   "outputs": [
    {
     "data": {
      "image/png": "[encoded data removed]",
      "text/plain": [
       "<Figure size 640x480 with 1 Axes>"
      ]
     },
     "metadata": {},
     "output_type": "display_data"
    }
   ],
   "source": [
    "dff.plot.barh(x = \"ULKE\", y = \"MUS_SAY\");"
   ]
  },
  {
   "cell_type": "code",
   "execution_count": 86,
   "metadata": {},
   "outputs": [
    {
     "data": {
      "image/png": "[encoded data removed]",
      "text/plain": [
       "<Figure size 640x480 with 1 Axes>"
      ]
     },
     "metadata": {},
     "output_type": "display_data"
    }
   ],
   "source": [
    "dff.plot.bar(x = \"ULKE\", y = \"MUS_SAY\");"
   ]
  },
  {
   "cell_type": "code",
   "execution_count": null,
   "metadata": {},
   "outputs": [],
   "source": []
  },
  {
   "cell_type": "markdown",
   "metadata": {},
   "source": [
    "# sqlite3"
   ]
  },
  {
   "cell_type": "code",
   "execution_count": 87,
   "metadata": {},
   "outputs": [],
   "source": [
    "import sqlite3"
   ]
  },
  {
   "cell_type": "code",
   "execution_count": 89,
   "metadata": {},
   "outputs": [],
   "source": [
    "conn = sqlite3.connect('kadirculha.db')"
   ]
  },
  {
   "cell_type": "code",
   "execution_count": 90,
   "metadata": {},
   "outputs": [
    {
     "name": "stdout",
     "output_type": "stream",
     "text": [
      "\u001b[0;31mCall signature:\u001b[0m \u001b[0mconn\u001b[0m\u001b[0;34m(\u001b[0m\u001b[0;34m*\u001b[0m\u001b[0margs\u001b[0m\u001b[0;34m,\u001b[0m \u001b[0;34m**\u001b[0m\u001b[0mkwargs\u001b[0m\u001b[0;34m)\u001b[0m\u001b[0;34m\u001b[0m\u001b[0;34m\u001b[0m\u001b[0m\n",
      "\u001b[0;31mType:\u001b[0m           Connection\n",
      "\u001b[0;31mString form:\u001b[0m    <sqlite3.Connection object at 0x7ebd80e98b40>\n",
      "\u001b[0;31mFile:\u001b[0m           /usr/lib/python3.10/sqlite3/__init__.py\n",
      "\u001b[0;31mDocstring:\u001b[0m      SQLite database connection object."
     ]
    }
   ],
   "source": [
    "?conn"
   ]
  },
  {
   "cell_type": "code",
   "execution_count": 91,
   "metadata": {},
   "outputs": [],
   "source": [
    "c = conn.cursor()"
   ]
  },
  {
   "cell_type": "code",
   "execution_count": 92,
   "metadata": {},
   "outputs": [
    {
     "name": "stdout",
     "output_type": "stream",
     "text": [
      "\u001b[0;31mType:\u001b[0m        Cursor\n",
      "\u001b[0;31mString form:\u001b[0m <sqlite3.Cursor object at 0x7ebd8103c040>\n",
      "\u001b[0;31mFile:\u001b[0m        /usr/lib/python3.10/sqlite3/__init__.py\n",
      "\u001b[0;31mDocstring:\u001b[0m   SQLite database cursor class."
     ]
    }
   ],
   "source": [
    "?c"
   ]
  },
  {
   "cell_type": "code",
   "execution_count": 93,
   "metadata": {},
   "outputs": [
    {
     "name": "stdout",
     "output_type": "stream",
     "text": [
      "\u001b[0;31mSignature:\u001b[0m\n",
      "\u001b[0mpd\u001b[0m\u001b[0;34m.\u001b[0m\u001b[0mread_sql\u001b[0m\u001b[0;34m(\u001b[0m\u001b[0;34m\u001b[0m\n",
      "\u001b[0;34m\u001b[0m    \u001b[0msql\u001b[0m\u001b[0;34m,\u001b[0m\u001b[0;34m\u001b[0m\n",
      "\u001b[0;34m\u001b[0m    \u001b[0mcon\u001b[0m\u001b[0;34m,\u001b[0m\u001b[0;34m\u001b[0m\n",
      "\u001b[0;34m\u001b[0m    \u001b[0mindex_col\u001b[0m\u001b[0;34m:\u001b[0m \u001b[0;34m'str | list[str] | None'\u001b[0m \u001b[0;34m=\u001b[0m \u001b[0;32mNone\u001b[0m\u001b[0;34m,\u001b[0m\u001b[0;34m\u001b[0m\n",
      "\u001b[0;34m\u001b[0m    \u001b[0mcoerce_float\u001b[0m\u001b[0;34m:\u001b[0m \u001b[0;34m'bool'\u001b[0m \u001b[0;34m=\u001b[0m \u001b[0;32mTrue\u001b[0m\u001b[0;34m,\u001b[0m\u001b[0;34m\u001b[0m\n",
      "\u001b[0;34m\u001b[0m    \u001b[0mparams\u001b[0m\u001b[0;34m=\u001b[0m\u001b[0;32mNone\u001b[0m\u001b[0;34m,\u001b[0m\u001b[0;34m\u001b[0m\n",
      "\u001b[0;34m\u001b[0m    \u001b[0mparse_dates\u001b[0m\u001b[0;34m=\u001b[0m\u001b[0;32mNone\u001b[0m\u001b[0;34m,\u001b[0m\u001b[0;34m\u001b[0m\n",
      "\u001b[0;34m\u001b[0m    \u001b[0mcolumns\u001b[0m\u001b[0;34m:\u001b[0m \u001b[0;34m'list[str] | None'\u001b[0m \u001b[0;34m=\u001b[0m \u001b[0;32mNone\u001b[0m\u001b[0;34m,\u001b[0m\u001b[0;34m\u001b[0m\n",
      "\u001b[0;34m\u001b[0m    \u001b[0mchunksize\u001b[0m\u001b[0;34m:\u001b[0m \u001b[0;34m'int | None'\u001b[0m \u001b[0;34m=\u001b[0m \u001b[0;32mNone\u001b[0m\u001b[0;34m,\u001b[0m\u001b[0;34m\u001b[0m\n",
      "\u001b[0;34m\u001b[0m    \u001b[0mdtype_backend\u001b[0m\u001b[0;34m:\u001b[0m \u001b[0;34m'DtypeBackend | lib.NoDefault'\u001b[0m \u001b[0;34m=\u001b[0m \u001b[0;34m<\u001b[0m\u001b[0mno_default\u001b[0m\u001b[0;34m>\u001b[0m\u001b[0;34m,\u001b[0m\u001b[0;34m\u001b[0m\n",
      "\u001b[0;34m\u001b[0m    \u001b[0mdtype\u001b[0m\u001b[0;34m:\u001b[0m \u001b[0;34m'DtypeArg | None'\u001b[0m \u001b[0;34m=\u001b[0m \u001b[0;32mNone\u001b[0m\u001b[0;34m,\u001b[0m\u001b[0;34m\u001b[0m\n",
      "\u001b[0;34m\u001b[0m\u001b[0;34m)\u001b[0m \u001b[0;34m->\u001b[0m \u001b[0;34m'DataFrame | Iterator[DataFrame]'\u001b[0m\u001b[0;34m\u001b[0m\u001b[0;34m\u001b[0m\u001b[0m\n",
      "\u001b[0;31mDocstring:\u001b[0m\n",
      "Read SQL query or database table into a DataFrame.\n",
      "\n",
      "This function is a convenience wrapper around ``read_sql_table`` and\n",
      "``read_sql_query`` (for backward compatibility). It will delegate\n",
      "to the specific function depending on the provided input. A SQL query\n",
      "will be routed to ``read_sql_query``, while a database table name will\n",
      "be routed to ``read_sql_table``. Note that the delegated function might\n",
      "have more specific notes about their functionality not listed here.\n",
      "\n",
      "Parameters\n",
      "----------\n",
      "sql : str or SQLAlchemy Selectable (select or text object)\n",
      "    SQL query to be executed or a table name.\n",
      "con : ADBC Connection, SQLAlchemy connectable, str, or sqlite3 connection\n",
      "    ADBC provides high performance I/O with native type support, where available.\n",
      "    Using SQLAlchemy makes it possible to use any DB supported by that\n",
      "    library. If a DBAPI2 object, only sqlite3 is supported. The user is responsible\n",
      "    for engine disposal and connection closure for the ADBC connection and\n",
      "    SQLAlchemy connectable; str connections are closed automatically. See\n",
      "    `here <https://docs.sqlalchemy.org/en/20/core/connections.html>`_.\n",
      "index_col : str or list of str, optional, default: None\n",
      "    Column(s) to set as index(MultiIndex).\n",
      "coerce_float : bool, default True\n",
      "    Attempts to convert values of non-string, non-numeric objects (like\n",
      "    decimal.Decimal) to floating point, useful for SQL result sets.\n",
      "params : list, tuple or dict, optional, default: None\n",
      "    List of parameters to pass to execute method.  The syntax used\n",
      "    to pass parameters is database driver dependent. Check your\n",
      "    database driver documentation for which of the five syntax styles,\n",
      "    described in PEP 249's paramstyle, is supported.\n",
      "    Eg. for psycopg2, uses %(name)s so use params={'name' : 'value'}.\n",
      "parse_dates : list or dict, default: None\n",
      "    - List of column names to parse as dates.\n",
      "    - Dict of ``{column_name: format string}`` where format string is\n",
      "      strftime compatible in case of parsing string times, or is one of\n",
      "      (D, s, ns, ms, us) in case of parsing integer timestamps.\n",
      "    - Dict of ``{column_name: arg dict}``, where the arg dict corresponds\n",
      "      to the keyword arguments of :func:`pandas.to_datetime`\n",
      "      Especially useful with databases without native Datetime support,\n",
      "      such as SQLite.\n",
      "columns : list, default: None\n",
      "    List of column names to select from SQL table (only used when reading\n",
      "    a table).\n",
      "chunksize : int, default None\n",
      "    If specified, return an iterator where `chunksize` is the\n",
      "    number of rows to include in each chunk.\n",
      "dtype_backend : {'numpy_nullable', 'pyarrow'}, default 'numpy_nullable'\n",
      "    Back-end data type applied to the resultant :class:`DataFrame`\n",
      "    (still experimental). Behaviour is as follows:\n",
      "\n",
      "    * ``\"numpy_nullable\"``: returns nullable-dtype-backed :class:`DataFrame`\n",
      "      (default).\n",
      "    * ``\"pyarrow\"``: returns pyarrow-backed nullable :class:`ArrowDtype`\n",
      "      DataFrame.\n",
      "\n",
      "    .. versionadded:: 2.0\n",
      "dtype : Type name or dict of columns\n",
      "    Data type for data or columns. E.g. np.float64 or\n",
      "    {'a': np.float64, 'b': np.int32, 'c': 'Int64'}.\n",
      "    The argument is ignored if a table is passed instead of a query.\n",
      "\n",
      "    .. versionadded:: 2.0.0\n",
      "\n",
      "Returns\n",
      "-------\n",
      "DataFrame or Iterator[DataFrame]\n",
      "\n",
      "See Also\n",
      "--------\n",
      "read_sql_table : Read SQL database table into a DataFrame.\n",
      "read_sql_query : Read SQL query into a DataFrame.\n",
      "\n",
      "Examples\n",
      "--------\n",
      "Read data from SQL via either a SQL query or a SQL tablename.\n",
      "When using a SQLite database only SQL queries are accepted,\n",
      "providing only the SQL tablename will result in an error.\n",
      "\n",
      ">>> from sqlite3 import connect\n",
      ">>> conn = connect(':memory:')\n",
      ">>> df = pd.DataFrame(data=[[0, '10/11/12'], [1, '12/11/10']],\n",
      "...                   columns=['int_column', 'date_column'])\n",
      ">>> df.to_sql(name='test_data', con=conn)\n",
      "2\n",
      "\n",
      ">>> pd.read_sql('SELECT int_column, date_column FROM test_data', conn)\n",
      "   int_column date_column\n",
      "0           0    10/11/12\n",
      "1           1    12/11/10\n",
      "\n",
      ">>> pd.read_sql('test_data', 'postgres:///db_name')  # doctest:+SKIP\n",
      "\n",
      "Apply date parsing to columns through the ``parse_dates`` argument\n",
      "The ``parse_dates`` argument calls ``pd.to_datetime`` on the provided columns.\n",
      "Custom argument values for applying ``pd.to_datetime`` on a column are specified\n",
      "via a dictionary format:\n",
      "\n",
      ">>> pd.read_sql('SELECT int_column, date_column FROM test_data',\n",
      "...             conn,\n",
      "...             parse_dates={\"date_column\": {\"format\": \"%d/%m/%y\"}})\n",
      "   int_column date_column\n",
      "0           0  2012-11-10\n",
      "1           1  2010-11-12\n",
      "\n",
      ".. versionadded:: 2.2.0\n",
      "\n",
      "   pandas now supports reading via ADBC drivers\n",
      "\n",
      ">>> from adbc_driver_postgresql import dbapi  # doctest:+SKIP\n",
      ">>> with dbapi.connect('postgres:///db_name') as conn:  # doctest:+SKIP\n",
      "...     pd.read_sql('SELECT int_column FROM test_data', conn)\n",
      "   int_column\n",
      "0           0\n",
      "1           1\n",
      "\u001b[0;31mFile:\u001b[0m      ~/.local/lib/python3.10/site-packages/pandas/io/sql.py\n",
      "\u001b[0;31mType:\u001b[0m      function"
     ]
    }
   ],
   "source": [
    "?pd.read_sql"
   ]
  },
  {
   "cell_type": "code",
   "execution_count": 94,
   "metadata": {},
   "outputs": [],
   "source": [
    "#read_sql"
   ]
  },
  {
   "cell_type": "code",
   "execution_count": 98,
   "metadata": {},
   "outputs": [
    {
     "data": {
      "text/html": [
       "<div>\n",
       "<style scoped>\n",
       "    .dataframe tbody tr th:only-of-type {\n",
       "        vertical-align: middle;\n",
       "    }\n",
       "\n",
       "    .dataframe tbody tr th {\n",
       "        vertical-align: top;\n",
       "    }\n",
       "\n",
       "    .dataframe thead th {\n",
       "        text-align: right;\n",
       "    }\n",
       "</style>\n",
       "<table border=\"1\" class=\"dataframe\">\n",
       "  <thead>\n",
       "    <tr style=\"text-align: right;\">\n",
       "      <th></th>\n",
       "      <th>MUSTERI_SAYISI</th>\n",
       "      <th>Country</th>\n",
       "    </tr>\n",
       "  </thead>\n",
       "  <tbody>\n",
       "    <tr>\n",
       "      <th>0</th>\n",
       "      <td>3</td>\n",
       "      <td>Argentina</td>\n",
       "    </tr>\n",
       "    <tr>\n",
       "      <th>1</th>\n",
       "      <td>2</td>\n",
       "      <td>Austria</td>\n",
       "    </tr>\n",
       "    <tr>\n",
       "      <th>2</th>\n",
       "      <td>2</td>\n",
       "      <td>Belgium</td>\n",
       "    </tr>\n",
       "    <tr>\n",
       "      <th>3</th>\n",
       "      <td>9</td>\n",
       "      <td>Brazil</td>\n",
       "    </tr>\n",
       "    <tr>\n",
       "      <th>4</th>\n",
       "      <td>3</td>\n",
       "      <td>Canada</td>\n",
       "    </tr>\n",
       "    <tr>\n",
       "      <th>5</th>\n",
       "      <td>2</td>\n",
       "      <td>Denmark</td>\n",
       "    </tr>\n",
       "    <tr>\n",
       "      <th>6</th>\n",
       "      <td>2</td>\n",
       "      <td>Finland</td>\n",
       "    </tr>\n",
       "    <tr>\n",
       "      <th>7</th>\n",
       "      <td>11</td>\n",
       "      <td>France</td>\n",
       "    </tr>\n",
       "    <tr>\n",
       "      <th>8</th>\n",
       "      <td>11</td>\n",
       "      <td>Germany</td>\n",
       "    </tr>\n",
       "    <tr>\n",
       "      <th>9</th>\n",
       "      <td>1</td>\n",
       "      <td>Ireland</td>\n",
       "    </tr>\n",
       "    <tr>\n",
       "      <th>10</th>\n",
       "      <td>3</td>\n",
       "      <td>Italy</td>\n",
       "    </tr>\n",
       "    <tr>\n",
       "      <th>11</th>\n",
       "      <td>5</td>\n",
       "      <td>Mexico</td>\n",
       "    </tr>\n",
       "    <tr>\n",
       "      <th>12</th>\n",
       "      <td>1</td>\n",
       "      <td>Norway</td>\n",
       "    </tr>\n",
       "    <tr>\n",
       "      <th>13</th>\n",
       "      <td>1</td>\n",
       "      <td>Poland</td>\n",
       "    </tr>\n",
       "    <tr>\n",
       "      <th>14</th>\n",
       "      <td>2</td>\n",
       "      <td>Portugal</td>\n",
       "    </tr>\n",
       "    <tr>\n",
       "      <th>15</th>\n",
       "      <td>5</td>\n",
       "      <td>Spain</td>\n",
       "    </tr>\n",
       "    <tr>\n",
       "      <th>16</th>\n",
       "      <td>2</td>\n",
       "      <td>Sweden</td>\n",
       "    </tr>\n",
       "    <tr>\n",
       "      <th>17</th>\n",
       "      <td>2</td>\n",
       "      <td>Switzerland</td>\n",
       "    </tr>\n",
       "    <tr>\n",
       "      <th>18</th>\n",
       "      <td>7</td>\n",
       "      <td>UK</td>\n",
       "    </tr>\n",
       "    <tr>\n",
       "      <th>19</th>\n",
       "      <td>13</td>\n",
       "      <td>USA</td>\n",
       "    </tr>\n",
       "    <tr>\n",
       "      <th>20</th>\n",
       "      <td>4</td>\n",
       "      <td>Venezuela</td>\n",
       "    </tr>\n",
       "  </tbody>\n",
       "</table>\n",
       "</div>"
      ],
      "text/plain": [
       "    MUSTERI_SAYISI      Country\n",
       "0                3    Argentina\n",
       "1                2      Austria\n",
       "2                2      Belgium\n",
       "3                9       Brazil\n",
       "4                3       Canada\n",
       "5                2      Denmark\n",
       "6                2      Finland\n",
       "7               11       France\n",
       "8               11      Germany\n",
       "9                1      Ireland\n",
       "10               3        Italy\n",
       "11               5       Mexico\n",
       "12               1       Norway\n",
       "13               1       Poland\n",
       "14               2     Portugal\n",
       "15               5        Spain\n",
       "16               2       Sweden\n",
       "17               2  Switzerland\n",
       "18               7           UK\n",
       "19              13          USA\n",
       "20               4    Venezuela"
      ]
     },
     "execution_count": 98,
     "metadata": {},
     "output_type": "execute_result"
    }
   ],
   "source": [
    "pd.read_sql(\"SELECT COUNT(CustomerID) AS MUSTERI_SAYISI, Country FROM Customers GROUP BY Country;\", conn)"
   ]
  },
  {
   "cell_type": "code",
   "execution_count": 99,
   "metadata": {},
   "outputs": [
    {
     "data": {
      "text/html": [
       "<div>\n",
       "<style scoped>\n",
       "    .dataframe tbody tr th:only-of-type {\n",
       "        vertical-align: middle;\n",
       "    }\n",
       "\n",
       "    .dataframe tbody tr th {\n",
       "        vertical-align: top;\n",
       "    }\n",
       "\n",
       "    .dataframe thead th {\n",
       "        text-align: right;\n",
       "    }\n",
       "</style>\n",
       "<table border=\"1\" class=\"dataframe\">\n",
       "  <thead>\n",
       "    <tr style=\"text-align: right;\">\n",
       "      <th></th>\n",
       "      <th>MUSTERI_SAYISI</th>\n",
       "      <th>Country</th>\n",
       "    </tr>\n",
       "  </thead>\n",
       "  <tbody>\n",
       "    <tr>\n",
       "      <th>0</th>\n",
       "      <td>3</td>\n",
       "      <td>Argentina</td>\n",
       "    </tr>\n",
       "    <tr>\n",
       "      <th>1</th>\n",
       "      <td>2</td>\n",
       "      <td>Austria</td>\n",
       "    </tr>\n",
       "    <tr>\n",
       "      <th>2</th>\n",
       "      <td>2</td>\n",
       "      <td>Belgium</td>\n",
       "    </tr>\n",
       "    <tr>\n",
       "      <th>3</th>\n",
       "      <td>9</td>\n",
       "      <td>Brazil</td>\n",
       "    </tr>\n",
       "    <tr>\n",
       "      <th>4</th>\n",
       "      <td>3</td>\n",
       "      <td>Canada</td>\n",
       "    </tr>\n",
       "    <tr>\n",
       "      <th>5</th>\n",
       "      <td>2</td>\n",
       "      <td>Denmark</td>\n",
       "    </tr>\n",
       "    <tr>\n",
       "      <th>6</th>\n",
       "      <td>2</td>\n",
       "      <td>Finland</td>\n",
       "    </tr>\n",
       "    <tr>\n",
       "      <th>7</th>\n",
       "      <td>11</td>\n",
       "      <td>France</td>\n",
       "    </tr>\n",
       "    <tr>\n",
       "      <th>8</th>\n",
       "      <td>11</td>\n",
       "      <td>Germany</td>\n",
       "    </tr>\n",
       "    <tr>\n",
       "      <th>9</th>\n",
       "      <td>1</td>\n",
       "      <td>Ireland</td>\n",
       "    </tr>\n",
       "    <tr>\n",
       "      <th>10</th>\n",
       "      <td>3</td>\n",
       "      <td>Italy</td>\n",
       "    </tr>\n",
       "    <tr>\n",
       "      <th>11</th>\n",
       "      <td>5</td>\n",
       "      <td>Mexico</td>\n",
       "    </tr>\n",
       "    <tr>\n",
       "      <th>12</th>\n",
       "      <td>1</td>\n",
       "      <td>Norway</td>\n",
       "    </tr>\n",
       "    <tr>\n",
       "      <th>13</th>\n",
       "      <td>1</td>\n",
       "      <td>Poland</td>\n",
       "    </tr>\n",
       "    <tr>\n",
       "      <th>14</th>\n",
       "      <td>2</td>\n",
       "      <td>Portugal</td>\n",
       "    </tr>\n",
       "    <tr>\n",
       "      <th>15</th>\n",
       "      <td>5</td>\n",
       "      <td>Spain</td>\n",
       "    </tr>\n",
       "    <tr>\n",
       "      <th>16</th>\n",
       "      <td>2</td>\n",
       "      <td>Sweden</td>\n",
       "    </tr>\n",
       "    <tr>\n",
       "      <th>17</th>\n",
       "      <td>2</td>\n",
       "      <td>Switzerland</td>\n",
       "    </tr>\n",
       "    <tr>\n",
       "      <th>18</th>\n",
       "      <td>7</td>\n",
       "      <td>UK</td>\n",
       "    </tr>\n",
       "    <tr>\n",
       "      <th>19</th>\n",
       "      <td>13</td>\n",
       "      <td>USA</td>\n",
       "    </tr>\n",
       "    <tr>\n",
       "      <th>20</th>\n",
       "      <td>4</td>\n",
       "      <td>Venezuela</td>\n",
       "    </tr>\n",
       "  </tbody>\n",
       "</table>\n",
       "</div>"
      ],
      "text/plain": [
       "    MUSTERI_SAYISI      Country\n",
       "0                3    Argentina\n",
       "1                2      Austria\n",
       "2                2      Belgium\n",
       "3                9       Brazil\n",
       "4                3       Canada\n",
       "5                2      Denmark\n",
       "6                2      Finland\n",
       "7               11       France\n",
       "8               11      Germany\n",
       "9                1      Ireland\n",
       "10               3        Italy\n",
       "11               5       Mexico\n",
       "12               1       Norway\n",
       "13               1       Poland\n",
       "14               2     Portugal\n",
       "15               5        Spain\n",
       "16               2       Sweden\n",
       "17               2  Switzerland\n",
       "18               7           UK\n",
       "19              13          USA\n",
       "20               4    Venezuela"
      ]
     },
     "execution_count": 99,
     "metadata": {},
     "output_type": "execute_result"
    }
   ],
   "source": [
    "pd.read_sql(\"\"\"SELECT \n",
    "COUNT(CustomerID) AS MUSTERI_SAYISI, Country \n",
    "FROM \n",
    "Customers \n",
    "GROUP BY Country;\"\"\", conn)"
   ]
  },
  {
   "cell_type": "code",
   "execution_count": 100,
   "metadata": {},
   "outputs": [],
   "source": [
    "ab = pd.read_sql(\"\"\"SELECT \n",
    "COUNT(CustomerID) AS MUSTERI_SAYISI, Country \n",
    "FROM \n",
    "Customers \n",
    "GROUP BY Country;\"\"\", conn)"
   ]
  },
  {
   "cell_type": "code",
   "execution_count": null,
   "metadata": {},
   "outputs": [
    {
     "data": {
      "text/html": [
       "<div>\n",
       "<style scoped>\n",
       "    .dataframe tbody tr th:only-of-type {\n",
       "        vertical-align: middle;\n",
       "    }\n",
       "\n",
       "    .dataframe tbody tr th {\n",
       "        vertical-align: top;\n",
       "    }\n",
       "\n",
       "    .dataframe thead th {\n",
       "        text-align: right;\n",
       "    }\n",
       "</style>\n",
       "<table border=\"1\" class=\"dataframe\">\n",
       "  <thead>\n",
       "    <tr style=\"text-align: right;\">\n",
       "      <th></th>\n",
       "      <th>MUSTERI_SAYISI</th>\n",
       "      <th>Country</th>\n",
       "    </tr>\n",
       "  </thead>\n",
       "  <tbody>\n",
       "    <tr>\n",
       "      <th>0</th>\n",
       "      <td>3</td>\n",
       "      <td>Argentina</td>\n",
       "    </tr>\n",
       "    <tr>\n",
       "      <th>1</th>\n",
       "      <td>2</td>\n",
       "      <td>Austria</td>\n",
       "    </tr>\n",
       "    <tr>\n",
       "      <th>2</th>\n",
       "      <td>2</td>\n",
       "      <td>Belgium</td>\n",
       "    </tr>\n",
       "    <tr>\n",
       "      <th>3</th>\n",
       "      <td>9</td>\n",
       "      <td>Brazil</td>\n",
       "    </tr>\n",
       "    <tr>\n",
       "      <th>4</th>\n",
       "      <td>3</td>\n",
       "      <td>Canada</td>\n",
       "    </tr>\n",
       "    <tr>\n",
       "      <th>5</th>\n",
       "      <td>2</td>\n",
       "      <td>Denmark</td>\n",
       "    </tr>\n",
       "    <tr>\n",
       "      <th>6</th>\n",
       "      <td>2</td>\n",
       "      <td>Finland</td>\n",
       "    </tr>\n",
       "    <tr>\n",
       "      <th>7</th>\n",
       "      <td>11</td>\n",
       "      <td>France</td>\n",
       "    </tr>\n",
       "    <tr>\n",
       "      <th>8</th>\n",
       "      <td>11</td>\n",
       "      <td>Germany</td>\n",
       "    </tr>\n",
       "    <tr>\n",
       "      <th>9</th>\n",
       "      <td>1</td>\n",
       "      <td>Ireland</td>\n",
       "    </tr>\n",
       "    <tr>\n",
       "      <th>10</th>\n",
       "      <td>3</td>\n",
       "      <td>Italy</td>\n",
       "    </tr>\n",
       "    <tr>\n",
       "      <th>11</th>\n",
       "      <td>5</td>\n",
       "      <td>Mexico</td>\n",
       "    </tr>\n",
       "    <tr>\n",
       "      <th>12</th>\n",
       "      <td>1</td>\n",
       "      <td>Norway</td>\n",
       "    </tr>\n",
       "    <tr>\n",
       "      <th>13</th>\n",
       "      <td>1</td>\n",
       "      <td>Poland</td>\n",
       "    </tr>\n",
       "    <tr>\n",
       "      <th>14</th>\n",
       "      <td>2</td>\n",
       "      <td>Portugal</td>\n",
       "    </tr>\n",
       "    <tr>\n",
       "      <th>15</th>\n",
       "      <td>5</td>\n",
       "      <td>Spain</td>\n",
       "    </tr>\n",
       "    <tr>\n",
       "      <th>16</th>\n",
       "      <td>2</td>\n",
       "      <td>Sweden</td>\n",
       "    </tr>\n",
       "    <tr>\n",
       "      <th>17</th>\n",
       "      <td>2</td>\n",
       "      <td>Switzerland</td>\n",
       "    </tr>\n",
       "    <tr>\n",
       "      <th>18</th>\n",
       "      <td>7</td>\n",
       "      <td>UK</td>\n",
       "    </tr>\n",
       "    <tr>\n",
       "      <th>19</th>\n",
       "      <td>13</td>\n",
       "      <td>USA</td>\n",
       "    </tr>\n",
       "    <tr>\n",
       "      <th>20</th>\n",
       "      <td>4</td>\n",
       "      <td>Venezuela</td>\n",
       "    </tr>\n",
       "  </tbody>\n",
       "</table>\n",
       "</div>"
      ],
      "text/plain": [
       "    MUSTERI_SAYISI      Country\n",
       "0                3    Argentina\n",
       "1                2      Austria\n",
       "2                2      Belgium\n",
       "3                9       Brazil\n",
       "4                3       Canada\n",
       "5                2      Denmark\n",
       "6                2      Finland\n",
       "7               11       France\n",
       "8               11      Germany\n",
       "9                1      Ireland\n",
       "10               3        Italy\n",
       "11               5       Mexico\n",
       "12               1       Norway\n",
       "13               1       Poland\n",
       "14               2     Portugal\n",
       "15               5        Spain\n",
       "16               2       Sweden\n",
       "17               2  Switzerland\n",
       "18               7           UK\n",
       "19              13          USA\n",
       "20               4    Venezuela"
      ]
     },
     "metadata": {},
     "output_type": "display_data"
    }
   ],
   "source": [
    "ab"
   ]
  },
  {
   "cell_type": "code",
   "execution_count": 101,
   "metadata": {},
   "outputs": [
    {
     "data": {
      "text/plain": [
       "pandas.core.frame.DataFrame"
      ]
     },
     "execution_count": 101,
     "metadata": {},
     "output_type": "execute_result"
    }
   ],
   "source": [
    "type(ab)"
   ]
  },
  {
   "cell_type": "code",
   "execution_count": null,
   "metadata": {},
   "outputs": [],
   "source": [
    "#conn.close()"
   ]
  },
  {
   "cell_type": "code",
   "execution_count": 102,
   "metadata": {},
   "outputs": [
    {
     "data": {
      "text/plain": [
       "<sqlite3.Cursor at 0x7ebd8103c040>"
      ]
     },
     "execution_count": 102,
     "metadata": {},
     "output_type": "execute_result"
    }
   ],
   "source": [
    "c.execute(\"SELECT CustomerName FROM Customers LIMIT 5;\")"
   ]
  },
  {
   "cell_type": "code",
   "execution_count": 103,
   "metadata": {},
   "outputs": [
    {
     "data": {
      "text/plain": [
       "('Alfreds Futterkiste',)"
      ]
     },
     "execution_count": 103,
     "metadata": {},
     "output_type": "execute_result"
    }
   ],
   "source": [
    "c.fetchone()"
   ]
  },
  {
   "cell_type": "code",
   "execution_count": 104,
   "metadata": {},
   "outputs": [
    {
     "data": {
      "text/plain": [
       "[('Ana Trujillo Emparedados y helados',),\n",
       " ('Antonio Moreno Taquería',),\n",
       " ('Around the Horn',),\n",
       " ('Berglunds snabbköp',)]"
      ]
     },
     "execution_count": 104,
     "metadata": {},
     "output_type": "execute_result"
    }
   ],
   "source": [
    "c.fetchall()"
   ]
  },
  {
   "cell_type": "code",
   "execution_count": 105,
   "metadata": {},
   "outputs": [
    {
     "name": "stdout",
     "output_type": "stream",
     "text": [
      "('Alfreds Futterkiste',)\n",
      "('Ana Trujillo Emparedados y helados',)\n",
      "('Antonio Moreno Taquería',)\n",
      "('Around the Horn',)\n",
      "('Berglunds snabbköp',)\n"
     ]
    }
   ],
   "source": [
    "for row in c.execute('SELECT CustomerName FROM Customers LIMIT 5;'):\n",
    "                     print(row)"
   ]
  },
  {
   "cell_type": "code",
   "execution_count": 106,
   "metadata": {},
   "outputs": [],
   "source": [
    "conn.close()"
   ]
  },
  {
   "cell_type": "code",
   "execution_count": null,
   "metadata": {},
   "outputs": [],
   "source": []
  },
  {
   "cell_type": "markdown",
   "metadata": {},
   "source": [
    "# SQL ALIŞTIRMALARI 1"
   ]
  },
  {
   "cell_type": "code",
   "execution_count": 1,
   "metadata": {},
   "outputs": [],
   "source": [
    "%load_ext sql"
   ]
  },
  {
   "cell_type": "code",
   "execution_count": 2,
   "metadata": {},
   "outputs": [],
   "source": [
    "%sql sqlite:///kadirculha.db"
   ]
  },
  {
   "cell_type": "code",
   "execution_count": 3,
   "metadata": {},
   "outputs": [
    {
     "name": "stdout",
     "output_type": "stream",
     "text": [
      " * sqlite:///kadirculha.db\n",
      "Done.\n"
     ]
    },
    {
     "data": {
      "text/html": [
       "<table>\n",
       "    <thead>\n",
       "        <tr>\n",
       "            <th>CustomerID</th>\n",
       "            <th>CustomerName</th>\n",
       "            <th>ContactName</th>\n",
       "            <th>Address</th>\n",
       "            <th>City</th>\n",
       "            <th>PostalCode</th>\n",
       "            <th>Country</th>\n",
       "        </tr>\n",
       "    </thead>\n",
       "    <tbody>\n",
       "        <tr>\n",
       "            <td>1</td>\n",
       "            <td>Alfreds Futterkiste</td>\n",
       "            <td>Maria Anders</td>\n",
       "            <td>Obere Str. 57</td>\n",
       "            <td>Berlin</td>\n",
       "            <td>12209</td>\n",
       "            <td>Germany</td>\n",
       "        </tr>\n",
       "        <tr>\n",
       "            <td>2</td>\n",
       "            <td>Ana Trujillo Emparedados y helados</td>\n",
       "            <td>Ana Trujillo</td>\n",
       "            <td>Avda. de la Constitución 2222</td>\n",
       "            <td>México D.F.</td>\n",
       "            <td>5021</td>\n",
       "            <td>Mexico</td>\n",
       "        </tr>\n",
       "        <tr>\n",
       "            <td>3</td>\n",
       "            <td>Antonio Moreno Taquería</td>\n",
       "            <td>Antonio Moreno</td>\n",
       "            <td>Mataderos 2312</td>\n",
       "            <td>México D.F.</td>\n",
       "            <td>5023</td>\n",
       "            <td>Mexico</td>\n",
       "        </tr>\n",
       "    </tbody>\n",
       "</table>"
      ],
      "text/plain": [
       "[(1, 'Alfreds Futterkiste', 'Maria Anders', 'Obere Str. 57', 'Berlin', '12209', 'Germany'),\n",
       " (2, 'Ana Trujillo Emparedados y helados', 'Ana Trujillo', 'Avda. de la Constitución 2222', 'México D.F.', '5021', 'Mexico'),\n",
       " (3, 'Antonio Moreno Taquería', 'Antonio Moreno', 'Mataderos 2312', 'México D.F.', '5023', 'Mexico')]"
      ]
     },
     "execution_count": 3,
     "metadata": {},
     "output_type": "execute_result"
    }
   ],
   "source": [
    "%%sql\n",
    "SELECT * FROM Customers LIMIT 3;"
   ]
  },
  {
   "cell_type": "markdown",
   "metadata": {},
   "source": [
    "## 1. Orders tablosunda kaç müşteri oldugunu bulunuz."
   ]
  },
  {
   "cell_type": "code",
   "execution_count": 4,
   "metadata": {},
   "outputs": [
    {
     "name": "stdout",
     "output_type": "stream",
     "text": [
      " * sqlite:///kadirculha.db\n",
      "Done.\n"
     ]
    },
    {
     "data": {
      "text/html": [
       "<table>\n",
       "    <thead>\n",
       "        <tr>\n",
       "            <th>customer_count</th>\n",
       "        </tr>\n",
       "    </thead>\n",
       "    <tbody>\n",
       "        <tr>\n",
       "            <td>196</td>\n",
       "        </tr>\n",
       "    </tbody>\n",
       "</table>"
      ],
      "text/plain": [
       "[(196,)]"
      ]
     },
     "execution_count": 4,
     "metadata": {},
     "output_type": "execute_result"
    }
   ],
   "source": [
    "%sql SELECT count(*) as customer_count FROM Orders;"
   ]
  },
  {
   "cell_type": "markdown",
   "metadata": {},
   "source": [
    "## 2. Orders tablosunda kaç tane eşsiz müşteri olduğunu bulunuz."
   ]
  },
  {
   "cell_type": "code",
   "execution_count": 5,
   "metadata": {},
   "outputs": [
    {
     "name": "stdout",
     "output_type": "stream",
     "text": [
      " * sqlite:///kadirculha.db\n",
      "Done.\n"
     ]
    },
    {
     "data": {
      "text/html": [
       "<table>\n",
       "    <thead>\n",
       "        <tr>\n",
       "            <th>customer_count</th>\n",
       "        </tr>\n",
       "    </thead>\n",
       "    <tbody>\n",
       "        <tr>\n",
       "            <td>74</td>\n",
       "        </tr>\n",
       "    </tbody>\n",
       "</table>"
      ],
      "text/plain": [
       "[(74,)]"
      ]
     },
     "execution_count": 5,
     "metadata": {},
     "output_type": "execute_result"
    }
   ],
   "source": [
    "%sql SELECT count(DISTINCT CustomerID) as customer_count FROM Orders;"
   ]
  },
  {
   "cell_type": "markdown",
   "metadata": {},
   "source": [
    "## 3. Customers tablosunda hangi ülkeden kaçar tane müşteri olduğunu bulunuz.\n"
   ]
  },
  {
   "cell_type": "code",
   "execution_count": 6,
   "metadata": {},
   "outputs": [
    {
     "name": "stdout",
     "output_type": "stream",
     "text": [
      " * sqlite:///kadirculha.db\n",
      "Done.\n"
     ]
    },
    {
     "data": {
      "text/html": [
       "<table>\n",
       "    <thead>\n",
       "        <tr>\n",
       "            <th>CustomerID</th>\n",
       "            <th>CustomerName</th>\n",
       "            <th>ContactName</th>\n",
       "            <th>Address</th>\n",
       "            <th>City</th>\n",
       "            <th>PostalCode</th>\n",
       "            <th>Country</th>\n",
       "        </tr>\n",
       "    </thead>\n",
       "    <tbody>\n",
       "        <tr>\n",
       "            <td>1</td>\n",
       "            <td>Alfreds Futterkiste</td>\n",
       "            <td>Maria Anders</td>\n",
       "            <td>Obere Str. 57</td>\n",
       "            <td>Berlin</td>\n",
       "            <td>12209</td>\n",
       "            <td>Germany</td>\n",
       "        </tr>\n",
       "        <tr>\n",
       "            <td>2</td>\n",
       "            <td>Ana Trujillo Emparedados y helados</td>\n",
       "            <td>Ana Trujillo</td>\n",
       "            <td>Avda. de la Constitución 2222</td>\n",
       "            <td>México D.F.</td>\n",
       "            <td>5021</td>\n",
       "            <td>Mexico</td>\n",
       "        </tr>\n",
       "        <tr>\n",
       "            <td>3</td>\n",
       "            <td>Antonio Moreno Taquería</td>\n",
       "            <td>Antonio Moreno</td>\n",
       "            <td>Mataderos 2312</td>\n",
       "            <td>México D.F.</td>\n",
       "            <td>5023</td>\n",
       "            <td>Mexico</td>\n",
       "        </tr>\n",
       "        <tr>\n",
       "            <td>4</td>\n",
       "            <td>Around the Horn</td>\n",
       "            <td>Thomas Hardy</td>\n",
       "            <td>120 Hanover Sq.</td>\n",
       "            <td>London</td>\n",
       "            <td>WA1 1DP</td>\n",
       "            <td>UK</td>\n",
       "        </tr>\n",
       "        <tr>\n",
       "            <td>5</td>\n",
       "            <td>Berglunds snabbköp</td>\n",
       "            <td>Christina Berglund</td>\n",
       "            <td>Berguvsvägen 8</td>\n",
       "            <td>Luleå</td>\n",
       "            <td>S-958 22</td>\n",
       "            <td>Sweden</td>\n",
       "        </tr>\n",
       "    </tbody>\n",
       "</table>"
      ],
      "text/plain": [
       "[(1, 'Alfreds Futterkiste', 'Maria Anders', 'Obere Str. 57', 'Berlin', '12209', 'Germany'),\n",
       " (2, 'Ana Trujillo Emparedados y helados', 'Ana Trujillo', 'Avda. de la Constitución 2222', 'México D.F.', '5021', 'Mexico'),\n",
       " (3, 'Antonio Moreno Taquería', 'Antonio Moreno', 'Mataderos 2312', 'México D.F.', '5023', 'Mexico'),\n",
       " (4, 'Around the Horn', 'Thomas Hardy', '120 Hanover Sq.', 'London', 'WA1 1DP', 'UK'),\n",
       " (5, 'Berglunds snabbköp', 'Christina Berglund', 'Berguvsvägen 8', 'Luleå', 'S-958 22', 'Sweden')]"
      ]
     },
     "execution_count": 6,
     "metadata": {},
     "output_type": "execute_result"
    }
   ],
   "source": [
    "%sql SELECT * FROM Customers limit 5;"
   ]
  },
  {
   "cell_type": "code",
   "execution_count": 7,
   "metadata": {},
   "outputs": [
    {
     "name": "stdout",
     "output_type": "stream",
     "text": [
      " * sqlite:///kadirculha.db\n",
      "Done.\n"
     ]
    },
    {
     "data": {
      "text/html": [
       "<table>\n",
       "    <thead>\n",
       "        <tr>\n",
       "            <th>Country</th>\n",
       "            <th>cst_</th>\n",
       "        </tr>\n",
       "    </thead>\n",
       "    <tbody>\n",
       "        <tr>\n",
       "            <td>USA</td>\n",
       "            <td>13</td>\n",
       "        </tr>\n",
       "        <tr>\n",
       "            <td>Germany</td>\n",
       "            <td>11</td>\n",
       "        </tr>\n",
       "        <tr>\n",
       "            <td>France</td>\n",
       "            <td>11</td>\n",
       "        </tr>\n",
       "        <tr>\n",
       "            <td>Brazil</td>\n",
       "            <td>9</td>\n",
       "        </tr>\n",
       "        <tr>\n",
       "            <td>UK</td>\n",
       "            <td>7</td>\n",
       "        </tr>\n",
       "        <tr>\n",
       "            <td>Spain</td>\n",
       "            <td>5</td>\n",
       "        </tr>\n",
       "        <tr>\n",
       "            <td>Mexico</td>\n",
       "            <td>5</td>\n",
       "        </tr>\n",
       "        <tr>\n",
       "            <td>Venezuela</td>\n",
       "            <td>4</td>\n",
       "        </tr>\n",
       "        <tr>\n",
       "            <td>Italy</td>\n",
       "            <td>3</td>\n",
       "        </tr>\n",
       "        <tr>\n",
       "            <td>Canada</td>\n",
       "            <td>3</td>\n",
       "        </tr>\n",
       "        <tr>\n",
       "            <td>Argentina</td>\n",
       "            <td>3</td>\n",
       "        </tr>\n",
       "        <tr>\n",
       "            <td>Switzerland</td>\n",
       "            <td>2</td>\n",
       "        </tr>\n",
       "        <tr>\n",
       "            <td>Sweden</td>\n",
       "            <td>2</td>\n",
       "        </tr>\n",
       "        <tr>\n",
       "            <td>Portugal</td>\n",
       "            <td>2</td>\n",
       "        </tr>\n",
       "        <tr>\n",
       "            <td>Finland</td>\n",
       "            <td>2</td>\n",
       "        </tr>\n",
       "        <tr>\n",
       "            <td>Denmark</td>\n",
       "            <td>2</td>\n",
       "        </tr>\n",
       "        <tr>\n",
       "            <td>Belgium</td>\n",
       "            <td>2</td>\n",
       "        </tr>\n",
       "        <tr>\n",
       "            <td>Austria</td>\n",
       "            <td>2</td>\n",
       "        </tr>\n",
       "        <tr>\n",
       "            <td>Poland</td>\n",
       "            <td>1</td>\n",
       "        </tr>\n",
       "        <tr>\n",
       "            <td>Norway</td>\n",
       "            <td>1</td>\n",
       "        </tr>\n",
       "        <tr>\n",
       "            <td>Ireland</td>\n",
       "            <td>1</td>\n",
       "        </tr>\n",
       "    </tbody>\n",
       "</table>"
      ],
      "text/plain": [
       "[('USA', 13),\n",
       " ('Germany', 11),\n",
       " ('France', 11),\n",
       " ('Brazil', 9),\n",
       " ('UK', 7),\n",
       " ('Spain', 5),\n",
       " ('Mexico', 5),\n",
       " ('Venezuela', 4),\n",
       " ('Italy', 3),\n",
       " ('Canada', 3),\n",
       " ('Argentina', 3),\n",
       " ('Switzerland', 2),\n",
       " ('Sweden', 2),\n",
       " ('Portugal', 2),\n",
       " ('Finland', 2),\n",
       " ('Denmark', 2),\n",
       " ('Belgium', 2),\n",
       " ('Austria', 2),\n",
       " ('Poland', 1),\n",
       " ('Norway', 1),\n",
       " ('Ireland', 1)]"
      ]
     },
     "execution_count": 7,
     "metadata": {},
     "output_type": "execute_result"
    }
   ],
   "source": [
    "%sql SELECT Country, count(CustomerID) as cst_ FROM Customers GROUP BY Country order by cst_ desc;"
   ]
  },
  {
   "cell_type": "markdown",
   "metadata": {},
   "source": [
    "## 4. Müşterilerin ülkesi Brazil ya da USA olanlarını bulunuz."
   ]
  },
  {
   "cell_type": "code",
   "execution_count": 8,
   "metadata": {},
   "outputs": [
    {
     "name": "stdout",
     "output_type": "stream",
     "text": [
      " * sqlite:///kadirculha.db\n",
      "Done.\n"
     ]
    },
    {
     "data": {
      "text/html": [
       "<table>\n",
       "    <thead>\n",
       "        <tr>\n",
       "            <th>CustomerID</th>\n",
       "            <th>CustomerName</th>\n",
       "            <th>ContactName</th>\n",
       "            <th>Address</th>\n",
       "            <th>City</th>\n",
       "            <th>PostalCode</th>\n",
       "            <th>Country</th>\n",
       "        </tr>\n",
       "    </thead>\n",
       "    <tbody>\n",
       "        <tr>\n",
       "            <td>1</td>\n",
       "            <td>Alfreds Futterkiste</td>\n",
       "            <td>Maria Anders</td>\n",
       "            <td>Obere Str. 57</td>\n",
       "            <td>Berlin</td>\n",
       "            <td>12209</td>\n",
       "            <td>Germany</td>\n",
       "        </tr>\n",
       "        <tr>\n",
       "            <td>2</td>\n",
       "            <td>Ana Trujillo Emparedados y helados</td>\n",
       "            <td>Ana Trujillo</td>\n",
       "            <td>Avda. de la Constitución 2222</td>\n",
       "            <td>México D.F.</td>\n",
       "            <td>5021</td>\n",
       "            <td>Mexico</td>\n",
       "        </tr>\n",
       "        <tr>\n",
       "            <td>3</td>\n",
       "            <td>Antonio Moreno Taquería</td>\n",
       "            <td>Antonio Moreno</td>\n",
       "            <td>Mataderos 2312</td>\n",
       "            <td>México D.F.</td>\n",
       "            <td>5023</td>\n",
       "            <td>Mexico</td>\n",
       "        </tr>\n",
       "        <tr>\n",
       "            <td>4</td>\n",
       "            <td>Around the Horn</td>\n",
       "            <td>Thomas Hardy</td>\n",
       "            <td>120 Hanover Sq.</td>\n",
       "            <td>London</td>\n",
       "            <td>WA1 1DP</td>\n",
       "            <td>UK</td>\n",
       "        </tr>\n",
       "        <tr>\n",
       "            <td>5</td>\n",
       "            <td>Berglunds snabbköp</td>\n",
       "            <td>Christina Berglund</td>\n",
       "            <td>Berguvsvägen 8</td>\n",
       "            <td>Luleå</td>\n",
       "            <td>S-958 22</td>\n",
       "            <td>Sweden</td>\n",
       "        </tr>\n",
       "    </tbody>\n",
       "</table>"
      ],
      "text/plain": [
       "[(1, 'Alfreds Futterkiste', 'Maria Anders', 'Obere Str. 57', 'Berlin', '12209', 'Germany'),\n",
       " (2, 'Ana Trujillo Emparedados y helados', 'Ana Trujillo', 'Avda. de la Constitución 2222', 'México D.F.', '5021', 'Mexico'),\n",
       " (3, 'Antonio Moreno Taquería', 'Antonio Moreno', 'Mataderos 2312', 'México D.F.', '5023', 'Mexico'),\n",
       " (4, 'Around the Horn', 'Thomas Hardy', '120 Hanover Sq.', 'London', 'WA1 1DP', 'UK'),\n",
       " (5, 'Berglunds snabbköp', 'Christina Berglund', 'Berguvsvägen 8', 'Luleå', 'S-958 22', 'Sweden')]"
      ]
     },
     "execution_count": 8,
     "metadata": {},
     "output_type": "execute_result"
    }
   ],
   "source": [
    "%sql SELECT * FROM Customers limit 5;"
   ]
  },
  {
   "cell_type": "code",
   "execution_count": 9,
   "metadata": {},
   "outputs": [
    {
     "name": "stdout",
     "output_type": "stream",
     "text": [
      " * sqlite:///kadirculha.db\n",
      "Done.\n"
     ]
    },
    {
     "data": {
      "text/html": [
       "<table>\n",
       "    <thead>\n",
       "        <tr>\n",
       "            <th>CustomerName</th>\n",
       "            <th>Country</th>\n",
       "        </tr>\n",
       "    </thead>\n",
       "    <tbody>\n",
       "        <tr>\n",
       "            <td>Comércio Mineiro</td>\n",
       "            <td>Brazil</td>\n",
       "        </tr>\n",
       "        <tr>\n",
       "            <td>Familia Arquibaldo</td>\n",
       "            <td>Brazil</td>\n",
       "        </tr>\n",
       "        <tr>\n",
       "            <td>Gourmet Lanchonetes</td>\n",
       "            <td>Brazil</td>\n",
       "        </tr>\n",
       "        <tr>\n",
       "            <td>Great Lakes Food Market</td>\n",
       "            <td>USA</td>\n",
       "        </tr>\n",
       "        <tr>\n",
       "            <td>Hanari Carnes</td>\n",
       "            <td>Brazil</td>\n",
       "        </tr>\n",
       "        <tr>\n",
       "            <td>Hungry Coyote Import Store</td>\n",
       "            <td>USA</td>\n",
       "        </tr>\n",
       "        <tr>\n",
       "            <td>Lazy K Kountry Store</td>\n",
       "            <td>USA</td>\n",
       "        </tr>\n",
       "        <tr>\n",
       "            <td>Let&#x27;s Stop N Shop</td>\n",
       "            <td>USA</td>\n",
       "        </tr>\n",
       "        <tr>\n",
       "            <td>Lonesome Pine Restaurant</td>\n",
       "            <td>USA</td>\n",
       "        </tr>\n",
       "        <tr>\n",
       "            <td>Old World Delicatessen</td>\n",
       "            <td>USA</td>\n",
       "        </tr>\n",
       "        <tr>\n",
       "            <td>Que Delícia</td>\n",
       "            <td>Brazil</td>\n",
       "        </tr>\n",
       "        <tr>\n",
       "            <td>Queen Cozinha</td>\n",
       "            <td>Brazil</td>\n",
       "        </tr>\n",
       "        <tr>\n",
       "            <td>Rattlesnake Canyon Grocery</td>\n",
       "            <td>USA</td>\n",
       "        </tr>\n",
       "        <tr>\n",
       "            <td>Ricardo Adocicados</td>\n",
       "            <td>Brazil</td>\n",
       "        </tr>\n",
       "        <tr>\n",
       "            <td>Save-a-lot Markets</td>\n",
       "            <td>USA</td>\n",
       "        </tr>\n",
       "        <tr>\n",
       "            <td>Split Rail Beer &amp; Ale</td>\n",
       "            <td>USA</td>\n",
       "        </tr>\n",
       "        <tr>\n",
       "            <td>The Big Cheese</td>\n",
       "            <td>USA</td>\n",
       "        </tr>\n",
       "        <tr>\n",
       "            <td>The Cracker Box</td>\n",
       "            <td>USA</td>\n",
       "        </tr>\n",
       "        <tr>\n",
       "            <td>Tradição Hipermercados</td>\n",
       "            <td>Brazil</td>\n",
       "        </tr>\n",
       "        <tr>\n",
       "            <td>Trail&#x27;s Head Gourmet Provisioners</td>\n",
       "            <td>USA</td>\n",
       "        </tr>\n",
       "        <tr>\n",
       "            <td>Wellington Importadora</td>\n",
       "            <td>Brazil</td>\n",
       "        </tr>\n",
       "        <tr>\n",
       "            <td>White Clover Markets</td>\n",
       "            <td>USA</td>\n",
       "        </tr>\n",
       "    </tbody>\n",
       "</table>"
      ],
      "text/plain": [
       "[('Comércio Mineiro', 'Brazil'),\n",
       " ('Familia Arquibaldo', 'Brazil'),\n",
       " ('Gourmet Lanchonetes', 'Brazil'),\n",
       " ('Great Lakes Food Market', 'USA'),\n",
       " ('Hanari Carnes', 'Brazil'),\n",
       " ('Hungry Coyote Import Store', 'USA'),\n",
       " ('Lazy K Kountry Store', 'USA'),\n",
       " (\"Let's Stop N Shop\", 'USA'),\n",
       " ('Lonesome Pine Restaurant', 'USA'),\n",
       " ('Old World Delicatessen', 'USA'),\n",
       " ('Que Delícia', 'Brazil'),\n",
       " ('Queen Cozinha', 'Brazil'),\n",
       " ('Rattlesnake Canyon Grocery', 'USA'),\n",
       " ('Ricardo Adocicados', 'Brazil'),\n",
       " ('Save-a-lot Markets', 'USA'),\n",
       " ('Split Rail Beer & Ale', 'USA'),\n",
       " ('The Big Cheese', 'USA'),\n",
       " ('The Cracker Box', 'USA'),\n",
       " ('Tradição Hipermercados', 'Brazil'),\n",
       " (\"Trail's Head Gourmet Provisioners\", 'USA'),\n",
       " ('Wellington Importadora', 'Brazil'),\n",
       " ('White Clover Markets', 'USA')]"
      ]
     },
     "execution_count": 9,
     "metadata": {},
     "output_type": "execute_result"
    }
   ],
   "source": [
    "%sql SELECT CustomerName, Country FROM Customers WHERE  Country='USA' OR Country='Brazil';\n"
   ]
  },
  {
   "cell_type": "code",
   "execution_count": 10,
   "metadata": {},
   "outputs": [
    {
     "name": "stdout",
     "output_type": "stream",
     "text": [
      " * sqlite:///kadirculha.db\n",
      "Done.\n"
     ]
    },
    {
     "data": {
      "text/html": [
       "<table>\n",
       "    <thead>\n",
       "        <tr>\n",
       "            <th>CustomerName</th>\n",
       "            <th>Country</th>\n",
       "        </tr>\n",
       "    </thead>\n",
       "    <tbody>\n",
       "        <tr>\n",
       "            <td>Comércio Mineiro</td>\n",
       "            <td>Brazil</td>\n",
       "        </tr>\n",
       "        <tr>\n",
       "            <td>Familia Arquibaldo</td>\n",
       "            <td>Brazil</td>\n",
       "        </tr>\n",
       "        <tr>\n",
       "            <td>Gourmet Lanchonetes</td>\n",
       "            <td>Brazil</td>\n",
       "        </tr>\n",
       "        <tr>\n",
       "            <td>Great Lakes Food Market</td>\n",
       "            <td>USA</td>\n",
       "        </tr>\n",
       "        <tr>\n",
       "            <td>Hanari Carnes</td>\n",
       "            <td>Brazil</td>\n",
       "        </tr>\n",
       "        <tr>\n",
       "            <td>Hungry Coyote Import Store</td>\n",
       "            <td>USA</td>\n",
       "        </tr>\n",
       "        <tr>\n",
       "            <td>Lazy K Kountry Store</td>\n",
       "            <td>USA</td>\n",
       "        </tr>\n",
       "        <tr>\n",
       "            <td>Let&#x27;s Stop N Shop</td>\n",
       "            <td>USA</td>\n",
       "        </tr>\n",
       "        <tr>\n",
       "            <td>Lonesome Pine Restaurant</td>\n",
       "            <td>USA</td>\n",
       "        </tr>\n",
       "        <tr>\n",
       "            <td>Old World Delicatessen</td>\n",
       "            <td>USA</td>\n",
       "        </tr>\n",
       "        <tr>\n",
       "            <td>Que Delícia</td>\n",
       "            <td>Brazil</td>\n",
       "        </tr>\n",
       "        <tr>\n",
       "            <td>Queen Cozinha</td>\n",
       "            <td>Brazil</td>\n",
       "        </tr>\n",
       "        <tr>\n",
       "            <td>Rattlesnake Canyon Grocery</td>\n",
       "            <td>USA</td>\n",
       "        </tr>\n",
       "        <tr>\n",
       "            <td>Ricardo Adocicados</td>\n",
       "            <td>Brazil</td>\n",
       "        </tr>\n",
       "        <tr>\n",
       "            <td>Save-a-lot Markets</td>\n",
       "            <td>USA</td>\n",
       "        </tr>\n",
       "        <tr>\n",
       "            <td>Split Rail Beer &amp; Ale</td>\n",
       "            <td>USA</td>\n",
       "        </tr>\n",
       "        <tr>\n",
       "            <td>The Big Cheese</td>\n",
       "            <td>USA</td>\n",
       "        </tr>\n",
       "        <tr>\n",
       "            <td>The Cracker Box</td>\n",
       "            <td>USA</td>\n",
       "        </tr>\n",
       "        <tr>\n",
       "            <td>Tradição Hipermercados</td>\n",
       "            <td>Brazil</td>\n",
       "        </tr>\n",
       "        <tr>\n",
       "            <td>Trail&#x27;s Head Gourmet Provisioners</td>\n",
       "            <td>USA</td>\n",
       "        </tr>\n",
       "        <tr>\n",
       "            <td>Wellington Importadora</td>\n",
       "            <td>Brazil</td>\n",
       "        </tr>\n",
       "        <tr>\n",
       "            <td>White Clover Markets</td>\n",
       "            <td>USA</td>\n",
       "        </tr>\n",
       "    </tbody>\n",
       "</table>"
      ],
      "text/plain": [
       "[('Comércio Mineiro', 'Brazil'),\n",
       " ('Familia Arquibaldo', 'Brazil'),\n",
       " ('Gourmet Lanchonetes', 'Brazil'),\n",
       " ('Great Lakes Food Market', 'USA'),\n",
       " ('Hanari Carnes', 'Brazil'),\n",
       " ('Hungry Coyote Import Store', 'USA'),\n",
       " ('Lazy K Kountry Store', 'USA'),\n",
       " (\"Let's Stop N Shop\", 'USA'),\n",
       " ('Lonesome Pine Restaurant', 'USA'),\n",
       " ('Old World Delicatessen', 'USA'),\n",
       " ('Que Delícia', 'Brazil'),\n",
       " ('Queen Cozinha', 'Brazil'),\n",
       " ('Rattlesnake Canyon Grocery', 'USA'),\n",
       " ('Ricardo Adocicados', 'Brazil'),\n",
       " ('Save-a-lot Markets', 'USA'),\n",
       " ('Split Rail Beer & Ale', 'USA'),\n",
       " ('The Big Cheese', 'USA'),\n",
       " ('The Cracker Box', 'USA'),\n",
       " ('Tradição Hipermercados', 'Brazil'),\n",
       " (\"Trail's Head Gourmet Provisioners\", 'USA'),\n",
       " ('Wellington Importadora', 'Brazil'),\n",
       " ('White Clover Markets', 'USA')]"
      ]
     },
     "execution_count": 10,
     "metadata": {},
     "output_type": "execute_result"
    }
   ],
   "source": [
    "%sql SELECT CustomerName, Country FROM Customers WHERE  Country in ('USA','Brazil');"
   ]
  },
  {
   "cell_type": "markdown",
   "metadata": {},
   "source": [
    "## 5. Önce ülkeye sonra şehre göre group by işlemi yapıp bu kırılımda müşteri sayısını bulunuz."
   ]
  },
  {
   "cell_type": "code",
   "execution_count": 11,
   "metadata": {},
   "outputs": [
    {
     "name": "stdout",
     "output_type": "stream",
     "text": [
      " * sqlite:///kadirculha.db\n",
      "Done.\n"
     ]
    },
    {
     "data": {
      "text/html": [
       "<table>\n",
       "    <thead>\n",
       "        <tr>\n",
       "            <th>CustomerID</th>\n",
       "            <th>CustomerName</th>\n",
       "            <th>ContactName</th>\n",
       "            <th>Address</th>\n",
       "            <th>City</th>\n",
       "            <th>PostalCode</th>\n",
       "            <th>Country</th>\n",
       "        </tr>\n",
       "    </thead>\n",
       "    <tbody>\n",
       "        <tr>\n",
       "            <td>12</td>\n",
       "            <td>Cactus Comidas para llevar</td>\n",
       "            <td>Patricio Simpson</td>\n",
       "            <td>Cerrito 333</td>\n",
       "            <td>Buenos Aires</td>\n",
       "            <td>1010</td>\n",
       "            <td>Argentina</td>\n",
       "        </tr>\n",
       "        <tr>\n",
       "            <td>20</td>\n",
       "            <td>Ernst Handel</td>\n",
       "            <td>Roland Mendel</td>\n",
       "            <td>Kirchgasse 6</td>\n",
       "            <td>Graz</td>\n",
       "            <td>8010</td>\n",
       "            <td>Austria</td>\n",
       "        </tr>\n",
       "        <tr>\n",
       "            <td>50</td>\n",
       "            <td>Maison Dewey</td>\n",
       "            <td>Catherine Dewey</td>\n",
       "            <td>Rue Joseph-Bens 532</td>\n",
       "            <td>Bruxelles</td>\n",
       "            <td>B-1180</td>\n",
       "            <td>Belgium</td>\n",
       "        </tr>\n",
       "    </tbody>\n",
       "</table>"
      ],
      "text/plain": [
       "[(12, 'Cactus Comidas para llevar', 'Patricio Simpson', 'Cerrito 333', 'Buenos Aires', '1010', 'Argentina'),\n",
       " (20, 'Ernst Handel', 'Roland Mendel', 'Kirchgasse 6', 'Graz', '8010', 'Austria'),\n",
       " (50, 'Maison Dewey', 'Catherine Dewey', 'Rue Joseph-Bens 532', 'Bruxelles', 'B-1180', 'Belgium')]"
      ]
     },
     "execution_count": 11,
     "metadata": {},
     "output_type": "execute_result"
    }
   ],
   "source": [
    "%sql SELECT * FROM Customers GROUP BY Country limit 3;"
   ]
  },
  {
   "cell_type": "code",
   "execution_count": 12,
   "metadata": {},
   "outputs": [
    {
     "name": "stdout",
     "output_type": "stream",
     "text": [
      " * sqlite:///kadirculha.db\n",
      "Done.\n"
     ]
    },
    {
     "data": {
      "text/html": [
       "<table>\n",
       "    <thead>\n",
       "        <tr>\n",
       "            <th>CustomerID</th>\n",
       "            <th>CustomerName</th>\n",
       "            <th>ContactName</th>\n",
       "            <th>Address</th>\n",
       "            <th>City</th>\n",
       "            <th>PostalCode</th>\n",
       "            <th>Country</th>\n",
       "        </tr>\n",
       "    </thead>\n",
       "    <tbody>\n",
       "        <tr>\n",
       "            <td>17</td>\n",
       "            <td>Drachenblut Delikatessend</td>\n",
       "            <td>Sven Ottlieb</td>\n",
       "            <td>Walserweg 21</td>\n",
       "            <td>Aachen</td>\n",
       "            <td>52066</td>\n",
       "            <td>Germany</td>\n",
       "        </tr>\n",
       "        <tr>\n",
       "            <td>65</td>\n",
       "            <td>Rattlesnake Canyon Grocery</td>\n",
       "            <td>Paula Wilson</td>\n",
       "            <td>2817 Milton Dr.</td>\n",
       "            <td>Albuquerque</td>\n",
       "            <td>87110</td>\n",
       "            <td>USA</td>\n",
       "        </tr>\n",
       "        <tr>\n",
       "            <td>55</td>\n",
       "            <td>Old World Delicatessen</td>\n",
       "            <td>Rene Phillips</td>\n",
       "            <td>2743 Bering St.</td>\n",
       "            <td>Anchorage</td>\n",
       "            <td>99508</td>\n",
       "            <td>USA</td>\n",
       "        </tr>\n",
       "    </tbody>\n",
       "</table>"
      ],
      "text/plain": [
       "[(17, 'Drachenblut Delikatessend', 'Sven Ottlieb', 'Walserweg 21', 'Aachen', '52066', 'Germany'),\n",
       " (65, 'Rattlesnake Canyon Grocery', 'Paula Wilson', '2817 Milton Dr.', 'Albuquerque', '87110', 'USA'),\n",
       " (55, 'Old World Delicatessen', 'Rene Phillips', '2743 Bering St.', 'Anchorage', '99508', 'USA')]"
      ]
     },
     "execution_count": 12,
     "metadata": {},
     "output_type": "execute_result"
    }
   ],
   "source": [
    "%sql SELECT * FROM Customers GROUP BY City limit 3;"
   ]
  },
  {
   "cell_type": "code",
   "execution_count": 13,
   "metadata": {},
   "outputs": [
    {
     "name": "stdout",
     "output_type": "stream",
     "text": [
      " * sqlite:///kadirculha.db\n",
      "Done.\n"
     ]
    },
    {
     "data": {
      "text/html": [
       "<table>\n",
       "    <thead>\n",
       "        <tr>\n",
       "            <th>count(CustomerID)</th>\n",
       "            <th>Country</th>\n",
       "            <th>City</th>\n",
       "        </tr>\n",
       "    </thead>\n",
       "    <tbody>\n",
       "        <tr>\n",
       "            <td>3</td>\n",
       "            <td>Argentina</td>\n",
       "            <td>Buenos Aires</td>\n",
       "        </tr>\n",
       "        <tr>\n",
       "            <td>1</td>\n",
       "            <td>Austria</td>\n",
       "            <td>Graz</td>\n",
       "        </tr>\n",
       "        <tr>\n",
       "            <td>1</td>\n",
       "            <td>Austria</td>\n",
       "            <td>Salzburg</td>\n",
       "        </tr>\n",
       "        <tr>\n",
       "            <td>1</td>\n",
       "            <td>Belgium</td>\n",
       "            <td>Bruxelles</td>\n",
       "        </tr>\n",
       "    </tbody>\n",
       "</table>"
      ],
      "text/plain": [
       "[(3, 'Argentina', 'Buenos Aires'),\n",
       " (1, 'Austria', 'Graz'),\n",
       " (1, 'Austria', 'Salzburg'),\n",
       " (1, 'Belgium', 'Bruxelles')]"
      ]
     },
     "execution_count": 13,
     "metadata": {},
     "output_type": "execute_result"
    }
   ],
   "source": [
    "%sql SELECT count(CustomerID),Country,City FROM Customers GROUP BY Country ,City limit 4;"
   ]
  },
  {
   "cell_type": "markdown",
   "metadata": {},
   "source": [
    "# SQL ALIŞTIRMALARI II"
   ]
  },
  {
   "cell_type": "markdown",
   "metadata": {},
   "source": [
    "## 6. Müşterileri adreslerinin herhangi bir yerinde \"da\" ifadesi geçen tüm adresleri bulunuz."
   ]
  },
  {
   "cell_type": "code",
   "execution_count": 14,
   "metadata": {},
   "outputs": [
    {
     "name": "stdout",
     "output_type": "stream",
     "text": [
      " * sqlite:///kadirculha.db\n",
      "Done.\n"
     ]
    },
    {
     "data": {
      "text/html": [
       "<table>\n",
       "    <thead>\n",
       "        <tr>\n",
       "            <th>CustomerID</th>\n",
       "            <th>CustomerName</th>\n",
       "            <th>ContactName</th>\n",
       "            <th>Address</th>\n",
       "            <th>City</th>\n",
       "            <th>PostalCode</th>\n",
       "            <th>Country</th>\n",
       "        </tr>\n",
       "    </thead>\n",
       "    <tbody>\n",
       "        <tr>\n",
       "            <td>1</td>\n",
       "            <td>Alfreds Futterkiste</td>\n",
       "            <td>Maria Anders</td>\n",
       "            <td>Obere Str. 57</td>\n",
       "            <td>Berlin</td>\n",
       "            <td>12209</td>\n",
       "            <td>Germany</td>\n",
       "        </tr>\n",
       "        <tr>\n",
       "            <td>2</td>\n",
       "            <td>Ana Trujillo Emparedados y helados</td>\n",
       "            <td>Ana Trujillo</td>\n",
       "            <td>Avda. de la Constitución 2222</td>\n",
       "            <td>México D.F.</td>\n",
       "            <td>5021</td>\n",
       "            <td>Mexico</td>\n",
       "        </tr>\n",
       "        <tr>\n",
       "            <td>3</td>\n",
       "            <td>Antonio Moreno Taquería</td>\n",
       "            <td>Antonio Moreno</td>\n",
       "            <td>Mataderos 2312</td>\n",
       "            <td>México D.F.</td>\n",
       "            <td>5023</td>\n",
       "            <td>Mexico</td>\n",
       "        </tr>\n",
       "        <tr>\n",
       "            <td>4</td>\n",
       "            <td>Around the Horn</td>\n",
       "            <td>Thomas Hardy</td>\n",
       "            <td>120 Hanover Sq.</td>\n",
       "            <td>London</td>\n",
       "            <td>WA1 1DP</td>\n",
       "            <td>UK</td>\n",
       "        </tr>\n",
       "        <tr>\n",
       "            <td>5</td>\n",
       "            <td>Berglunds snabbköp</td>\n",
       "            <td>Christina Berglund</td>\n",
       "            <td>Berguvsvägen 8</td>\n",
       "            <td>Luleå</td>\n",
       "            <td>S-958 22</td>\n",
       "            <td>Sweden</td>\n",
       "        </tr>\n",
       "    </tbody>\n",
       "</table>"
      ],
      "text/plain": [
       "[(1, 'Alfreds Futterkiste', 'Maria Anders', 'Obere Str. 57', 'Berlin', '12209', 'Germany'),\n",
       " (2, 'Ana Trujillo Emparedados y helados', 'Ana Trujillo', 'Avda. de la Constitución 2222', 'México D.F.', '5021', 'Mexico'),\n",
       " (3, 'Antonio Moreno Taquería', 'Antonio Moreno', 'Mataderos 2312', 'México D.F.', '5023', 'Mexico'),\n",
       " (4, 'Around the Horn', 'Thomas Hardy', '120 Hanover Sq.', 'London', 'WA1 1DP', 'UK'),\n",
       " (5, 'Berglunds snabbköp', 'Christina Berglund', 'Berguvsvägen 8', 'Luleå', 'S-958 22', 'Sweden')]"
      ]
     },
     "execution_count": 14,
     "metadata": {},
     "output_type": "execute_result"
    }
   ],
   "source": [
    "%sql SELECT * FROM Customers Limit 5;"
   ]
  },
  {
   "cell_type": "code",
   "execution_count": 15,
   "metadata": {},
   "outputs": [
    {
     "name": "stdout",
     "output_type": "stream",
     "text": [
      " * sqlite:///kadirculha.db\n",
      "Done.\n"
     ]
    },
    {
     "data": {
      "text/html": [
       "<table>\n",
       "    <thead>\n",
       "        <tr>\n",
       "            <th>CustomerID</th>\n",
       "            <th>CustomerName</th>\n",
       "            <th>ContactName</th>\n",
       "            <th>Address</th>\n",
       "            <th>City</th>\n",
       "            <th>PostalCode</th>\n",
       "            <th>Country</th>\n",
       "        </tr>\n",
       "    </thead>\n",
       "    <tbody>\n",
       "        <tr>\n",
       "            <td>2</td>\n",
       "            <td>Ana Trujillo Emparedados y helados</td>\n",
       "            <td>Ana Trujillo</td>\n",
       "            <td>Avda. de la Constitución 2222</td>\n",
       "            <td>México D.F.</td>\n",
       "            <td>5021</td>\n",
       "            <td>Mexico</td>\n",
       "        </tr>\n",
       "        <tr>\n",
       "            <td>13</td>\n",
       "            <td>Centro comercial Moctezuma</td>\n",
       "            <td>Francisco Chang</td>\n",
       "            <td>Sierras de Granada 9993</td>\n",
       "            <td>México D.F.</td>\n",
       "            <td>5022</td>\n",
       "            <td>Mexico</td>\n",
       "        </tr>\n",
       "        <tr>\n",
       "            <td>15</td>\n",
       "            <td>Comércio Mineiro</td>\n",
       "            <td>Pedro Afonso</td>\n",
       "            <td>Av. dos Lusíadas, 23</td>\n",
       "            <td>São Paulo</td>\n",
       "            <td>05432-043</td>\n",
       "            <td>Brazil</td>\n",
       "        </tr>\n",
       "        <tr>\n",
       "            <td>28</td>\n",
       "            <td>Furia Bacalhau e Frutos do Mar</td>\n",
       "            <td>Lino Rodriguez</td>\n",
       "            <td>Jardim das rosas n. 32</td>\n",
       "            <td>Lisboa</td>\n",
       "            <td>1675</td>\n",
       "            <td>Portugal</td>\n",
       "        </tr>\n",
       "        <tr>\n",
       "            <td>54</td>\n",
       "            <td>Océano Atlántico Ltda.</td>\n",
       "            <td>Yvonne Moncada</td>\n",
       "            <td>Ing. Gustavo Moncada 8585 Piso 20-A</td>\n",
       "            <td>Buenos Aires</td>\n",
       "            <td>1010</td>\n",
       "            <td>Argentina</td>\n",
       "        </tr>\n",
       "        <tr>\n",
       "            <td>60</td>\n",
       "            <td>Princesa Isabel Vinhoss</td>\n",
       "            <td>Isabel de Castro</td>\n",
       "            <td>Estrada da saúde n. 58</td>\n",
       "            <td>Lisboa</td>\n",
       "            <td>1756</td>\n",
       "            <td>Portugal</td>\n",
       "        </tr>\n",
       "        <tr>\n",
       "            <td>61</td>\n",
       "            <td>Que Delícia</td>\n",
       "            <td>Bernardo Batista</td>\n",
       "            <td>Rua da Panificadora, 12</td>\n",
       "            <td>Rio de Janeiro</td>\n",
       "            <td>02389-673</td>\n",
       "            <td>Brazil</td>\n",
       "        </tr>\n",
       "        <tr>\n",
       "            <td>62</td>\n",
       "            <td>Queen Cozinha</td>\n",
       "            <td>Lúcia Carvalho</td>\n",
       "            <td>Alameda dos Canàrios, 891</td>\n",
       "            <td>São Paulo</td>\n",
       "            <td>05487-020</td>\n",
       "            <td>Brazil</td>\n",
       "        </tr>\n",
       "        <tr>\n",
       "            <td>66</td>\n",
       "            <td>Reggiani Caseifici</td>\n",
       "            <td>Maurizio Moroni</td>\n",
       "            <td>Strada Provinciale 124</td>\n",
       "            <td>Reggio Emilia</td>\n",
       "            <td>42100</td>\n",
       "            <td>Italy</td>\n",
       "        </tr>\n",
       "        <tr>\n",
       "            <td>80</td>\n",
       "            <td>Tortuga Restaurante</td>\n",
       "            <td>Miguel Angel Paolino</td>\n",
       "            <td>Avda. Azteca 123</td>\n",
       "            <td>México D.F.</td>\n",
       "            <td>5033</td>\n",
       "            <td>Mexico</td>\n",
       "        </tr>\n",
       "        <tr>\n",
       "            <td>82</td>\n",
       "            <td>Trail&#x27;s Head Gourmet Provisioners</td>\n",
       "            <td>Helvetius Nagy</td>\n",
       "            <td>722 DaVinci Blvd.</td>\n",
       "            <td>Kirkland</td>\n",
       "            <td>98034</td>\n",
       "            <td>USA</td>\n",
       "        </tr>\n",
       "    </tbody>\n",
       "</table>"
      ],
      "text/plain": [
       "[(2, 'Ana Trujillo Emparedados y helados', 'Ana Trujillo', 'Avda. de la Constitución 2222', 'México D.F.', '5021', 'Mexico'),\n",
       " (13, 'Centro comercial Moctezuma', 'Francisco Chang', 'Sierras de Granada 9993', 'México D.F.', '5022', 'Mexico'),\n",
       " (15, 'Comércio Mineiro', 'Pedro Afonso', 'Av. dos Lusíadas, 23', 'São Paulo', '05432-043', 'Brazil'),\n",
       " (28, 'Furia Bacalhau e Frutos do Mar', 'Lino Rodriguez', 'Jardim das rosas n. 32', 'Lisboa', '1675', 'Portugal'),\n",
       " (54, 'Océano Atlántico Ltda.', 'Yvonne Moncada', 'Ing. Gustavo Moncada 8585 Piso 20-A', 'Buenos Aires', '1010', 'Argentina'),\n",
       " (60, 'Princesa Isabel Vinhoss', 'Isabel de Castro', 'Estrada da saúde n. 58', 'Lisboa', '1756', 'Portugal'),\n",
       " (61, 'Que Delícia', 'Bernardo Batista', 'Rua da Panificadora, 12', 'Rio de Janeiro', '02389-673', 'Brazil'),\n",
       " (62, 'Queen Cozinha', 'Lúcia Carvalho', 'Alameda dos Canàrios, 891', 'São Paulo', '05487-020', 'Brazil'),\n",
       " (66, 'Reggiani Caseifici', 'Maurizio Moroni', 'Strada Provinciale 124', 'Reggio Emilia', '42100', 'Italy'),\n",
       " (80, 'Tortuga Restaurante', 'Miguel Angel Paolino', 'Avda. Azteca 123', 'México D.F.', '5033', 'Mexico'),\n",
       " (82, \"Trail's Head Gourmet Provisioners\", 'Helvetius Nagy', '722 DaVinci Blvd.', 'Kirkland', '98034', 'USA')]"
      ]
     },
     "execution_count": 15,
     "metadata": {},
     "output_type": "execute_result"
    }
   ],
   "source": [
    "%sql SELECT * FROM Customers WHERE Address like '%da%';"
   ]
  },
  {
   "cell_type": "markdown",
   "metadata": {},
   "source": [
    "## 7. Germany-Berlin'de yaşayan müşteri/müşterilerin isimleri nelerdir?"
   ]
  },
  {
   "cell_type": "code",
   "execution_count": 163,
   "metadata": {},
   "outputs": [
    {
     "name": "stdout",
     "output_type": "stream",
     "text": [
      " * sqlite:///kadirculha.db\n",
      "Done.\n"
     ]
    },
    {
     "data": {
      "text/html": [
       "<table>\n",
       "    <thead>\n",
       "        <tr>\n",
       "            <th>CustomerName</th>\n",
       "            <th>Country</th>\n",
       "            <th>City</th>\n",
       "        </tr>\n",
       "    </thead>\n",
       "    <tbody>\n",
       "        <tr>\n",
       "            <td>Alfreds Futterkiste</td>\n",
       "            <td>Germany</td>\n",
       "            <td>Berlin</td>\n",
       "        </tr>\n",
       "    </tbody>\n",
       "</table>"
      ],
      "text/plain": [
       "[('Alfreds Futterkiste', 'Germany', 'Berlin')]"
      ]
     },
     "execution_count": 163,
     "metadata": {},
     "output_type": "execute_result"
    }
   ],
   "source": [
    "%sql SELECT CustomerName, Country, City FROM Customers Where Country='Germany' and City='Berlin';"
   ]
  },
  {
   "cell_type": "markdown",
   "metadata": {},
   "source": [
    "## 8. Canada'da yaşayıp isimlerinde \"in\" ifadesi geçen müşteri/müşterileri bulunuz."
   ]
  },
  {
   "cell_type": "code",
   "execution_count": 165,
   "metadata": {},
   "outputs": [
    {
     "name": "stdout",
     "output_type": "stream",
     "text": [
      " * sqlite:///kadirculha.db\n",
      "Done.\n"
     ]
    },
    {
     "data": {
      "text/html": [
       "<table>\n",
       "    <thead>\n",
       "        <tr>\n",
       "            <th>CustomerName</th>\n",
       "            <th>Country</th>\n",
       "        </tr>\n",
       "    </thead>\n",
       "    <tbody>\n",
       "        <tr>\n",
       "            <td>Laughing Bacchus Wine Cellars</td>\n",
       "            <td>Canada</td>\n",
       "        </tr>\n",
       "    </tbody>\n",
       "</table>"
      ],
      "text/plain": [
       "[('Laughing Bacchus Wine Cellars', 'Canada')]"
      ]
     },
     "execution_count": 165,
     "metadata": {},
     "output_type": "execute_result"
    }
   ],
   "source": [
    "%sql SELECT CustomerName, Country FROM Customers Where Country='Canada' and CustomerName like '%in%';"
   ]
  },
  {
   "cell_type": "markdown",
   "metadata": {},
   "source": [
    "## 9. Fiyatı 40 TL ile 90 TL arasında olan ürünlerin isimleri ve fiyatları nelerdir?"
   ]
  },
  {
   "cell_type": "code",
   "execution_count": 16,
   "metadata": {},
   "outputs": [
    {
     "name": "stdout",
     "output_type": "stream",
     "text": [
      " * sqlite:///kadirculha.db\n",
      "Done.\n"
     ]
    },
    {
     "data": {
      "text/html": [
       "<table>\n",
       "    <thead>\n",
       "        <tr>\n",
       "            <th>ProductID</th>\n",
       "            <th>ProductName</th>\n",
       "            <th>SupplierID</th>\n",
       "            <th>CategoryID</th>\n",
       "            <th>Unit</th>\n",
       "            <th>Price</th>\n",
       "        </tr>\n",
       "    </thead>\n",
       "    <tbody>\n",
       "        <tr>\n",
       "            <td>1</td>\n",
       "            <td>Chais</td>\n",
       "            <td>1</td>\n",
       "            <td>1</td>\n",
       "            <td>10 boxes x 20 bags</td>\n",
       "            <td>18</td>\n",
       "        </tr>\n",
       "        <tr>\n",
       "            <td>2</td>\n",
       "            <td>Chang</td>\n",
       "            <td>1</td>\n",
       "            <td>1</td>\n",
       "            <td>24 - 12 oz bottles</td>\n",
       "            <td>19</td>\n",
       "        </tr>\n",
       "        <tr>\n",
       "            <td>3</td>\n",
       "            <td>Aniseed Syrup</td>\n",
       "            <td>1</td>\n",
       "            <td>2</td>\n",
       "            <td>12 - 550 ml bottles</td>\n",
       "            <td>10</td>\n",
       "        </tr>\n",
       "    </tbody>\n",
       "</table>"
      ],
      "text/plain": [
       "[(1, 'Chais', 1, 1, '10 boxes x 20 bags', 18),\n",
       " (2, 'Chang', 1, 1, '24 - 12 oz bottles', 19),\n",
       " (3, 'Aniseed Syrup', 1, 2, '12 - 550 ml bottles', 10)]"
      ]
     },
     "execution_count": 16,
     "metadata": {},
     "output_type": "execute_result"
    }
   ],
   "source": [
    "%%sql \n",
    "SELECT * FROM Products limit 3;"
   ]
  },
  {
   "cell_type": "code",
   "execution_count": 18,
   "metadata": {},
   "outputs": [
    {
     "name": "stdout",
     "output_type": "stream",
     "text": [
      " * sqlite:///kadirculha.db\n",
      "Done.\n"
     ]
    },
    {
     "data": {
      "text/html": [
       "<table>\n",
       "    <thead>\n",
       "        <tr>\n",
       "            <th>ProductName</th>\n",
       "            <th>Price</th>\n",
       "        </tr>\n",
       "    </thead>\n",
       "    <tbody>\n",
       "        <tr>\n",
       "            <td>Northwoods Cranberry Sauce</td>\n",
       "            <td>40</td>\n",
       "        </tr>\n",
       "        <tr>\n",
       "            <td>Genen Shouyu</td>\n",
       "            <td>43</td>\n",
       "        </tr>\n",
       "        <tr>\n",
       "            <td>Carnarvon Tigers</td>\n",
       "            <td>62</td>\n",
       "        </tr>\n",
       "        <tr>\n",
       "            <td>Teatime Chocolate Biscuits</td>\n",
       "            <td>43</td>\n",
       "        </tr>\n",
       "        <tr>\n",
       "            <td>Sir Rodney&#x27;s Marmalade</td>\n",
       "            <td>81</td>\n",
       "        </tr>\n",
       "        <tr>\n",
       "            <td>Guaraná Fantástica</td>\n",
       "            <td>43</td>\n",
       "        </tr>\n",
       "        <tr>\n",
       "            <td>Schoggi Schokolade</td>\n",
       "            <td>43</td>\n",
       "        </tr>\n",
       "        <tr>\n",
       "            <td>Rössle Sauerkraut</td>\n",
       "            <td>45</td>\n",
       "        </tr>\n",
       "        <tr>\n",
       "            <td>Geitost</td>\n",
       "            <td>43</td>\n",
       "        </tr>\n",
       "        <tr>\n",
       "            <td>Boston Crab Meat</td>\n",
       "            <td>43</td>\n",
       "        </tr>\n",
       "        <tr>\n",
       "            <td>Ipoh Coffee</td>\n",
       "            <td>46</td>\n",
       "        </tr>\n",
       "        <tr>\n",
       "            <td>Røgede sild</td>\n",
       "            <td>43</td>\n",
       "        </tr>\n",
       "        <tr>\n",
       "            <td>Zaanse koeken</td>\n",
       "            <td>43</td>\n",
       "        </tr>\n",
       "        <tr>\n",
       "            <td>Manjimup Dried Apples</td>\n",
       "            <td>53</td>\n",
       "        </tr>\n",
       "        <tr>\n",
       "            <td>Ravioli Angelo</td>\n",
       "            <td>43</td>\n",
       "        </tr>\n",
       "        <tr>\n",
       "            <td>Raclette Courdavault</td>\n",
       "            <td>55</td>\n",
       "        </tr>\n",
       "        <tr>\n",
       "            <td>Sirop d&#x27;érable</td>\n",
       "            <td>43</td>\n",
       "        </tr>\n",
       "        <tr>\n",
       "            <td>Tarte au sucre</td>\n",
       "            <td>49</td>\n",
       "        </tr>\n",
       "        <tr>\n",
       "            <td>Vegie-spread</td>\n",
       "            <td>43</td>\n",
       "        </tr>\n",
       "        <tr>\n",
       "            <td>Louisiana Fiery Hot Pepper Sauce</td>\n",
       "            <td>43</td>\n",
       "        </tr>\n",
       "        <tr>\n",
       "            <td>Scottish Longbreads</td>\n",
       "            <td>45</td>\n",
       "        </tr>\n",
       "    </tbody>\n",
       "</table>"
      ],
      "text/plain": [
       "[('Northwoods Cranberry Sauce', 40),\n",
       " ('Genen Shouyu', 43),\n",
       " ('Carnarvon Tigers', 62),\n",
       " ('Teatime Chocolate Biscuits', 43),\n",
       " (\"Sir Rodney's Marmalade\", 81),\n",
       " ('Guaraná Fantástica', 43),\n",
       " ('Schoggi Schokolade', 43),\n",
       " ('Rössle Sauerkraut', 45),\n",
       " ('Geitost', 43),\n",
       " ('Boston Crab Meat', 43),\n",
       " ('Ipoh Coffee', 46),\n",
       " ('Røgede sild', 43),\n",
       " ('Zaanse koeken', 43),\n",
       " ('Manjimup Dried Apples', 53),\n",
       " ('Ravioli Angelo', 43),\n",
       " ('Raclette Courdavault', 55),\n",
       " (\"Sirop d'érable\", 43),\n",
       " ('Tarte au sucre', 49),\n",
       " ('Vegie-spread', 43),\n",
       " ('Louisiana Fiery Hot Pepper Sauce', 43),\n",
       " ('Scottish Longbreads', 45)]"
      ]
     },
     "execution_count": 18,
     "metadata": {},
     "output_type": "execute_result"
    }
   ],
   "source": [
    "%%sql\n",
    "SELECT ProductName, Price FROM Products WHERE Price BETWEEN 40 AND 90;"
   ]
  },
  {
   "cell_type": "markdown",
   "metadata": {},
   "source": [
    "## 10. Fiyatı 30 TL'den büyük olan ürünlerin isimlerini, fiyatlarini ve fiyatlarinin karesini bulunuz ve tüm değişkenlerin isimlendirmelerini aşağıdaki şekilde yapınız:\n",
    "\n",
    "urun ismi, urun_fiyati, ürün_fiyatinin_karesi"
   ]
  },
  {
   "cell_type": "code",
   "execution_count": 19,
   "metadata": {},
   "outputs": [
    {
     "name": "stdout",
     "output_type": "stream",
     "text": [
      " * sqlite:///kadirculha.db\n",
      "Done.\n"
     ]
    },
    {
     "data": {
      "text/html": [
       "<table>\n",
       "    <thead>\n",
       "        <tr>\n",
       "            <th>urun_ismi</th>\n",
       "            <th>urun_fiyati</th>\n",
       "            <th>urun_fiyatinin_karesi</th>\n",
       "        </tr>\n",
       "    </thead>\n",
       "    <tbody>\n",
       "        <tr>\n",
       "            <td>Northwoods Cranberry Sauce</td>\n",
       "            <td>40</td>\n",
       "            <td>1600</td>\n",
       "        </tr>\n",
       "        <tr>\n",
       "            <td>Mishi Kobe Niku</td>\n",
       "            <td>97</td>\n",
       "            <td>9409</td>\n",
       "        </tr>\n",
       "        <tr>\n",
       "            <td>Ikura</td>\n",
       "            <td>31</td>\n",
       "            <td>961</td>\n",
       "        </tr>\n",
       "        <tr>\n",
       "            <td>Queso Manchego La Pastora</td>\n",
       "            <td>38</td>\n",
       "            <td>1444</td>\n",
       "        </tr>\n",
       "        <tr>\n",
       "            <td>Genen Shouyu</td>\n",
       "            <td>43</td>\n",
       "            <td>1849</td>\n",
       "        </tr>\n",
       "        <tr>\n",
       "            <td>Alice Mutton</td>\n",
       "            <td>39</td>\n",
       "            <td>1521</td>\n",
       "        </tr>\n",
       "        <tr>\n",
       "            <td>Carnarvon Tigers</td>\n",
       "            <td>62</td>\n",
       "            <td>3844</td>\n",
       "        </tr>\n",
       "        <tr>\n",
       "            <td>Teatime Chocolate Biscuits</td>\n",
       "            <td>43</td>\n",
       "            <td>1849</td>\n",
       "        </tr>\n",
       "        <tr>\n",
       "            <td>Sir Rodney&#x27;s Marmalade</td>\n",
       "            <td>81</td>\n",
       "            <td>6561</td>\n",
       "        </tr>\n",
       "        <tr>\n",
       "            <td>Guaraná Fantástica</td>\n",
       "            <td>43</td>\n",
       "            <td>1849</td>\n",
       "        </tr>\n",
       "        <tr>\n",
       "            <td>Gumbär Gummibärchen</td>\n",
       "            <td>31</td>\n",
       "            <td>961</td>\n",
       "        </tr>\n",
       "        <tr>\n",
       "            <td>Schoggi Schokolade</td>\n",
       "            <td>43</td>\n",
       "            <td>1849</td>\n",
       "        </tr>\n",
       "        <tr>\n",
       "            <td>Rössle Sauerkraut</td>\n",
       "            <td>45</td>\n",
       "            <td>2025</td>\n",
       "        </tr>\n",
       "        <tr>\n",
       "            <td>Thüringer Rostbratwurst</td>\n",
       "            <td>123</td>\n",
       "            <td>15129</td>\n",
       "        </tr>\n",
       "        <tr>\n",
       "            <td>Gorgonzola Telino</td>\n",
       "            <td>435</td>\n",
       "            <td>189225</td>\n",
       "        </tr>\n",
       "        <tr>\n",
       "            <td>Mascarpone Fabioli</td>\n",
       "            <td>32</td>\n",
       "            <td>1024</td>\n",
       "        </tr>\n",
       "        <tr>\n",
       "            <td>Geitost</td>\n",
       "            <td>43</td>\n",
       "            <td>1849</td>\n",
       "        </tr>\n",
       "        <tr>\n",
       "            <td>Côte de Blaye</td>\n",
       "            <td>263</td>\n",
       "            <td>69169</td>\n",
       "        </tr>\n",
       "        <tr>\n",
       "            <td>Boston Crab Meat</td>\n",
       "            <td>43</td>\n",
       "            <td>1849</td>\n",
       "        </tr>\n",
       "        <tr>\n",
       "            <td>Ipoh Coffee</td>\n",
       "            <td>46</td>\n",
       "            <td>2116</td>\n",
       "        </tr>\n",
       "        <tr>\n",
       "            <td>Røgede sild</td>\n",
       "            <td>43</td>\n",
       "            <td>1849</td>\n",
       "        </tr>\n",
       "        <tr>\n",
       "            <td>Zaanse koeken</td>\n",
       "            <td>43</td>\n",
       "            <td>1849</td>\n",
       "        </tr>\n",
       "        <tr>\n",
       "            <td>Manjimup Dried Apples</td>\n",
       "            <td>53</td>\n",
       "            <td>2809</td>\n",
       "        </tr>\n",
       "        <tr>\n",
       "            <td>Perth Pasties</td>\n",
       "            <td>32</td>\n",
       "            <td>1024</td>\n",
       "        </tr>\n",
       "        <tr>\n",
       "            <td>Gnocchi di nonna Alice</td>\n",
       "            <td>38</td>\n",
       "            <td>1444</td>\n",
       "        </tr>\n",
       "        <tr>\n",
       "            <td>Ravioli Angelo</td>\n",
       "            <td>43</td>\n",
       "            <td>1849</td>\n",
       "        </tr>\n",
       "        <tr>\n",
       "            <td>Raclette Courdavault</td>\n",
       "            <td>55</td>\n",
       "            <td>3025</td>\n",
       "        </tr>\n",
       "        <tr>\n",
       "            <td>Camembert Pierrot</td>\n",
       "            <td>34</td>\n",
       "            <td>1156</td>\n",
       "        </tr>\n",
       "        <tr>\n",
       "            <td>Sirop d&#x27;érable</td>\n",
       "            <td>43</td>\n",
       "            <td>1849</td>\n",
       "        </tr>\n",
       "        <tr>\n",
       "            <td>Tarte au sucre</td>\n",
       "            <td>49</td>\n",
       "            <td>2401</td>\n",
       "        </tr>\n",
       "        <tr>\n",
       "            <td>Vegie-spread</td>\n",
       "            <td>43</td>\n",
       "            <td>1849</td>\n",
       "        </tr>\n",
       "        <tr>\n",
       "            <td>Wimmers gute Semmelknödel</td>\n",
       "            <td>33</td>\n",
       "            <td>1089</td>\n",
       "        </tr>\n",
       "        <tr>\n",
       "            <td>Louisiana Fiery Hot Pepper Sauce</td>\n",
       "            <td>43</td>\n",
       "            <td>1849</td>\n",
       "        </tr>\n",
       "        <tr>\n",
       "            <td>Scottish Longbreads</td>\n",
       "            <td>45</td>\n",
       "            <td>2025</td>\n",
       "        </tr>\n",
       "        <tr>\n",
       "            <td>Gudbrandsdalsost</td>\n",
       "            <td>36</td>\n",
       "            <td>1296</td>\n",
       "        </tr>\n",
       "        <tr>\n",
       "            <td>Mozzarella di Giovanni</td>\n",
       "            <td>34</td>\n",
       "            <td>1156</td>\n",
       "        </tr>\n",
       "    </tbody>\n",
       "</table>"
      ],
      "text/plain": [
       "[('Northwoods Cranberry Sauce', 40, 1600),\n",
       " ('Mishi Kobe Niku', 97, 9409),\n",
       " ('Ikura', 31, 961),\n",
       " ('Queso Manchego La Pastora', 38, 1444),\n",
       " ('Genen Shouyu', 43, 1849),\n",
       " ('Alice Mutton', 39, 1521),\n",
       " ('Carnarvon Tigers', 62, 3844),\n",
       " ('Teatime Chocolate Biscuits', 43, 1849),\n",
       " (\"Sir Rodney's Marmalade\", 81, 6561),\n",
       " ('Guaraná Fantástica', 43, 1849),\n",
       " ('Gumbär Gummibärchen', 31, 961),\n",
       " ('Schoggi Schokolade', 43, 1849),\n",
       " ('Rössle Sauerkraut', 45, 2025),\n",
       " ('Thüringer Rostbratwurst', 123, 15129),\n",
       " ('Gorgonzola Telino', 435, 189225),\n",
       " ('Mascarpone Fabioli', 32, 1024),\n",
       " ('Geitost', 43, 1849),\n",
       " ('Côte de Blaye', 263, 69169),\n",
       " ('Boston Crab Meat', 43, 1849),\n",
       " ('Ipoh Coffee', 46, 2116),\n",
       " ('Røgede sild', 43, 1849),\n",
       " ('Zaanse koeken', 43, 1849),\n",
       " ('Manjimup Dried Apples', 53, 2809),\n",
       " ('Perth Pasties', 32, 1024),\n",
       " ('Gnocchi di nonna Alice', 38, 1444),\n",
       " ('Ravioli Angelo', 43, 1849),\n",
       " ('Raclette Courdavault', 55, 3025),\n",
       " ('Camembert Pierrot', 34, 1156),\n",
       " (\"Sirop d'érable\", 43, 1849),\n",
       " ('Tarte au sucre', 49, 2401),\n",
       " ('Vegie-spread', 43, 1849),\n",
       " ('Wimmers gute Semmelknödel', 33, 1089),\n",
       " ('Louisiana Fiery Hot Pepper Sauce', 43, 1849),\n",
       " ('Scottish Longbreads', 45, 2025),\n",
       " ('Gudbrandsdalsost', 36, 1296),\n",
       " ('Mozzarella di Giovanni', 34, 1156)]"
      ]
     },
     "execution_count": 19,
     "metadata": {},
     "output_type": "execute_result"
    }
   ],
   "source": [
    "%%sql\n",
    "SELECT ProductName urun_ismi, Price urun_fiyati, (Price*Price) urun_fiyatinin_karesi FROM Products WHERE Price > 30;"
   ]
  },
  {
   "cell_type": "markdown",
   "metadata": {},
   "source": [
    "# SQL ALIŞTIRMALARI III"
   ]
  },
  {
   "cell_type": "markdown",
   "metadata": {},
   "source": [
    "## 11. Products tablosundaki CategoryID’lerin yani kategorilerin isimleri nelerdir? "
   ]
  },
  {
   "cell_type": "code",
   "execution_count": 29,
   "metadata": {},
   "outputs": [
    {
     "name": "stdout",
     "output_type": "stream",
     "text": [
      " * sqlite:///kadirculha.db\n",
      "Done.\n"
     ]
    },
    {
     "data": {
      "text/html": [
       "<table>\n",
       "    <thead>\n",
       "        <tr>\n",
       "            <th>ProductID</th>\n",
       "            <th>ProductName</th>\n",
       "            <th>SupplierID</th>\n",
       "            <th>CategoryID</th>\n",
       "            <th>Unit</th>\n",
       "            <th>Price</th>\n",
       "        </tr>\n",
       "    </thead>\n",
       "    <tbody>\n",
       "        <tr>\n",
       "            <td>1</td>\n",
       "            <td>Chais</td>\n",
       "            <td>1</td>\n",
       "            <td>1</td>\n",
       "            <td>10 boxes x 20 bags</td>\n",
       "            <td>18</td>\n",
       "        </tr>\n",
       "        <tr>\n",
       "            <td>2</td>\n",
       "            <td>Chang</td>\n",
       "            <td>1</td>\n",
       "            <td>1</td>\n",
       "            <td>24 - 12 oz bottles</td>\n",
       "            <td>19</td>\n",
       "        </tr>\n",
       "        <tr>\n",
       "            <td>3</td>\n",
       "            <td>Aniseed Syrup</td>\n",
       "            <td>1</td>\n",
       "            <td>2</td>\n",
       "            <td>12 - 550 ml bottles</td>\n",
       "            <td>10</td>\n",
       "        </tr>\n",
       "        <tr>\n",
       "            <td>4</td>\n",
       "            <td>Chef Anton&#x27;s Cajun Seasoning</td>\n",
       "            <td>2</td>\n",
       "            <td>2</td>\n",
       "            <td>48 - 6 oz jars</td>\n",
       "            <td>22</td>\n",
       "        </tr>\n",
       "    </tbody>\n",
       "</table>"
      ],
      "text/plain": [
       "[(1, 'Chais', 1, 1, '10 boxes x 20 bags', 18),\n",
       " (2, 'Chang', 1, 1, '24 - 12 oz bottles', 19),\n",
       " (3, 'Aniseed Syrup', 1, 2, '12 - 550 ml bottles', 10),\n",
       " (4, \"Chef Anton's Cajun Seasoning\", 2, 2, '48 - 6 oz jars', 22)]"
      ]
     },
     "execution_count": 29,
     "metadata": {},
     "output_type": "execute_result"
    }
   ],
   "source": [
    "%%sql\n",
    "SELECT * FROM Products limit 4;"
   ]
  },
  {
   "cell_type": "code",
   "execution_count": 23,
   "metadata": {},
   "outputs": [
    {
     "name": "stdout",
     "output_type": "stream",
     "text": [
      " * sqlite:///kadirculha.db\n",
      "Done.\n"
     ]
    },
    {
     "data": {
      "text/html": [
       "<table>\n",
       "    <thead>\n",
       "        <tr>\n",
       "            <th>CategoryID</th>\n",
       "            <th>CategoryName</th>\n",
       "            <th>Description</th>\n",
       "        </tr>\n",
       "    </thead>\n",
       "    <tbody>\n",
       "        <tr>\n",
       "            <td>1</td>\n",
       "            <td>Beverages</td>\n",
       "            <td>Soft drinks, coffees, teas, beers, and ales</td>\n",
       "        </tr>\n",
       "        <tr>\n",
       "            <td>2</td>\n",
       "            <td>Condiments</td>\n",
       "            <td>Sweet and savory sauces, relishes, spreads, and seasonings</td>\n",
       "        </tr>\n",
       "        <tr>\n",
       "            <td>3</td>\n",
       "            <td>Confections</td>\n",
       "            <td>Desserts, candies, and sweet breads</td>\n",
       "        </tr>\n",
       "        <tr>\n",
       "            <td>4</td>\n",
       "            <td>Dairy Products</td>\n",
       "            <td>Cheeses</td>\n",
       "        </tr>\n",
       "    </tbody>\n",
       "</table>"
      ],
      "text/plain": [
       "[(1, 'Beverages', 'Soft drinks, coffees, teas, beers, and ales'),\n",
       " (2, 'Condiments', 'Sweet and savory sauces, relishes, spreads, and seasonings'),\n",
       " (3, 'Confections', 'Desserts, candies, and sweet breads'),\n",
       " (4, 'Dairy Products', 'Cheeses')]"
      ]
     },
     "execution_count": 23,
     "metadata": {},
     "output_type": "execute_result"
    }
   ],
   "source": [
    "%%sql\n",
    "SELECT * FROM Categories limit 4;"
   ]
  },
  {
   "cell_type": "code",
   "execution_count": 33,
   "metadata": {},
   "outputs": [
    {
     "name": "stdout",
     "output_type": "stream",
     "text": [
      " * sqlite:///kadirculha.db\n",
      "Done.\n"
     ]
    },
    {
     "data": {
      "text/html": [
       "<table>\n",
       "    <thead>\n",
       "        <tr>\n",
       "            <th>ProductID</th>\n",
       "            <th>ProductName</th>\n",
       "            <th>SupplierID</th>\n",
       "            <th>CategoryID</th>\n",
       "            <th>Unit</th>\n",
       "            <th>Price</th>\n",
       "            <th>CategoryID_1</th>\n",
       "            <th>CategoryName</th>\n",
       "            <th>Description</th>\n",
       "        </tr>\n",
       "    </thead>\n",
       "    <tbody>\n",
       "        <tr>\n",
       "            <td>1</td>\n",
       "            <td>Chais</td>\n",
       "            <td>1</td>\n",
       "            <td>1</td>\n",
       "            <td>10 boxes x 20 bags</td>\n",
       "            <td>18</td>\n",
       "            <td>1</td>\n",
       "            <td>Beverages</td>\n",
       "            <td>Soft drinks, coffees, teas, beers, and ales</td>\n",
       "        </tr>\n",
       "        <tr>\n",
       "            <td>1</td>\n",
       "            <td>Chais</td>\n",
       "            <td>1</td>\n",
       "            <td>1</td>\n",
       "            <td>10 boxes x 20 bags</td>\n",
       "            <td>18</td>\n",
       "            <td>1</td>\n",
       "            <td>Speedy Express</td>\n",
       "            <td>(503) 555-9831</td>\n",
       "        </tr>\n",
       "        <tr>\n",
       "            <td>2</td>\n",
       "            <td>Chang</td>\n",
       "            <td>1</td>\n",
       "            <td>1</td>\n",
       "            <td>24 - 12 oz bottles</td>\n",
       "            <td>19</td>\n",
       "            <td>1</td>\n",
       "            <td>Beverages</td>\n",
       "            <td>Soft drinks, coffees, teas, beers, and ales</td>\n",
       "        </tr>\n",
       "        <tr>\n",
       "            <td>2</td>\n",
       "            <td>Chang</td>\n",
       "            <td>1</td>\n",
       "            <td>1</td>\n",
       "            <td>24 - 12 oz bottles</td>\n",
       "            <td>19</td>\n",
       "            <td>1</td>\n",
       "            <td>Speedy Express</td>\n",
       "            <td>(503) 555-9831</td>\n",
       "        </tr>\n",
       "        <tr>\n",
       "            <td>3</td>\n",
       "            <td>Aniseed Syrup</td>\n",
       "            <td>1</td>\n",
       "            <td>2</td>\n",
       "            <td>12 - 550 ml bottles</td>\n",
       "            <td>10</td>\n",
       "            <td>2</td>\n",
       "            <td>Condiments</td>\n",
       "            <td>Sweet and savory sauces, relishes, spreads, and seasonings</td>\n",
       "        </tr>\n",
       "    </tbody>\n",
       "</table>"
      ],
      "text/plain": [
       "[(1, 'Chais', 1, 1, '10 boxes x 20 bags', 18, 1, 'Beverages', 'Soft drinks, coffees, teas, beers, and ales'),\n",
       " (1, 'Chais', 1, 1, '10 boxes x 20 bags', 18, 1, 'Speedy Express', '(503) 555-9831'),\n",
       " (2, 'Chang', 1, 1, '24 - 12 oz bottles', 19, 1, 'Beverages', 'Soft drinks, coffees, teas, beers, and ales'),\n",
       " (2, 'Chang', 1, 1, '24 - 12 oz bottles', 19, 1, 'Speedy Express', '(503) 555-9831'),\n",
       " (3, 'Aniseed Syrup', 1, 2, '12 - 550 ml bottles', 10, 2, 'Condiments', 'Sweet and savory sauces, relishes, spreads, and seasonings')]"
      ]
     },
     "execution_count": 33,
     "metadata": {},
     "output_type": "execute_result"
    }
   ],
   "source": [
    "%%sql\n",
    "SELECT * FROM Products prd LEFT JOIN Categories cat ON prd.CategoryID= cat.CategoryID limit 5;"
   ]
  },
  {
   "cell_type": "markdown",
   "metadata": {},
   "source": [
    "## 12. beverages ürün kategorisindeki ürünlerin fiyat ortalaması nedir?"
   ]
  },
  {
   "cell_type": "code",
   "execution_count": 35,
   "metadata": {},
   "outputs": [
    {
     "name": "stdout",
     "output_type": "stream",
     "text": [
      " * sqlite:///kadirculha.db\n",
      "Done.\n"
     ]
    },
    {
     "data": {
      "text/html": [
       "<table>\n",
       "    <thead>\n",
       "        <tr>\n",
       "            <th>AVG(prd.Price)</th>\n",
       "        </tr>\n",
       "    </thead>\n",
       "    <tbody>\n",
       "        <tr>\n",
       "            <td>42.75</td>\n",
       "        </tr>\n",
       "    </tbody>\n",
       "</table>"
      ],
      "text/plain": [
       "[(42.75,)]"
      ]
     },
     "execution_count": 35,
     "metadata": {},
     "output_type": "execute_result"
    }
   ],
   "source": [
    "%%sql\n",
    "SELECT AVG(prd.Price) FROM (Products prd LEFT JOIN Categories cat ON prd.CategoryID= cat.CategoryID) where cat.CategoryName=\"Beverages\";"
   ]
  },
  {
   "cell_type": "markdown",
   "metadata": {},
   "source": [
    "## 13. USA'de yaşayan müşterilerin kazandırdığı toplam kazancı bulunuz."
   ]
  },
  {
   "cell_type": "code",
   "execution_count": 37,
   "metadata": {},
   "outputs": [
    {
     "name": "stdout",
     "output_type": "stream",
     "text": [
      " * sqlite:///kadirculha.db\n",
      "Done.\n"
     ]
    },
    {
     "data": {
      "text/html": [
       "<table>\n",
       "    <thead>\n",
       "        <tr>\n",
       "            <th>OrderID</th>\n",
       "            <th>CustomerID</th>\n",
       "            <th>EmployeeID</th>\n",
       "            <th>OrderDate</th>\n",
       "            <th>ShipperID</th>\n",
       "        </tr>\n",
       "    </thead>\n",
       "    <tbody>\n",
       "        <tr>\n",
       "            <td>10248</td>\n",
       "            <td>90</td>\n",
       "            <td>5</td>\n",
       "            <td>4.07.1996</td>\n",
       "            <td>3</td>\n",
       "        </tr>\n",
       "        <tr>\n",
       "            <td>10249</td>\n",
       "            <td>81</td>\n",
       "            <td>6</td>\n",
       "            <td>5.07.1996</td>\n",
       "            <td>1</td>\n",
       "        </tr>\n",
       "        <tr>\n",
       "            <td>10250</td>\n",
       "            <td>34</td>\n",
       "            <td>4</td>\n",
       "            <td>8.07.1996</td>\n",
       "            <td>2</td>\n",
       "        </tr>\n",
       "    </tbody>\n",
       "</table>"
      ],
      "text/plain": [
       "[(10248, 90, 5, '4.07.1996', 3),\n",
       " (10249, 81, 6, '5.07.1996', 1),\n",
       " (10250, 34, 4, '8.07.1996', 2)]"
      ]
     },
     "execution_count": 37,
     "metadata": {},
     "output_type": "execute_result"
    }
   ],
   "source": [
    "%%sql\n",
    "SELECT * FROM Orders o limit 3;"
   ]
  },
  {
   "cell_type": "code",
   "execution_count": 39,
   "metadata": {},
   "outputs": [
    {
     "name": "stdout",
     "output_type": "stream",
     "text": [
      " * sqlite:///kadirculha.db\n",
      "Done.\n"
     ]
    },
    {
     "data": {
      "text/html": [
       "<table>\n",
       "    <thead>\n",
       "        <tr>\n",
       "            <th>OrderDetailID</th>\n",
       "            <th>OrderID</th>\n",
       "            <th>ProductID</th>\n",
       "            <th>Quantity</th>\n",
       "        </tr>\n",
       "    </thead>\n",
       "    <tbody>\n",
       "        <tr>\n",
       "            <td>1</td>\n",
       "            <td>10248</td>\n",
       "            <td>11</td>\n",
       "            <td>12</td>\n",
       "        </tr>\n",
       "        <tr>\n",
       "            <td>2</td>\n",
       "            <td>10248</td>\n",
       "            <td>42</td>\n",
       "            <td>10</td>\n",
       "        </tr>\n",
       "        <tr>\n",
       "            <td>3</td>\n",
       "            <td>10248</td>\n",
       "            <td>72</td>\n",
       "            <td>5</td>\n",
       "        </tr>\n",
       "    </tbody>\n",
       "</table>"
      ],
      "text/plain": [
       "[(1, 10248, 11, 12), (2, 10248, 42, 10), (3, 10248, 72, 5)]"
      ]
     },
     "execution_count": 39,
     "metadata": {},
     "output_type": "execute_result"
    }
   ],
   "source": [
    "%%sql\n",
    "SELECT * FROM OrderDetails limit 3;"
   ]
  },
  {
   "cell_type": "code",
   "execution_count": 40,
   "metadata": {},
   "outputs": [
    {
     "name": "stdout",
     "output_type": "stream",
     "text": [
      " * sqlite:///kadirculha.db\n",
      "Done.\n"
     ]
    },
    {
     "data": {
      "text/html": [
       "<table>\n",
       "    <thead>\n",
       "        <tr>\n",
       "            <th>ProductID</th>\n",
       "            <th>ProductName</th>\n",
       "            <th>SupplierID</th>\n",
       "            <th>CategoryID</th>\n",
       "            <th>Unit</th>\n",
       "            <th>Price</th>\n",
       "        </tr>\n",
       "    </thead>\n",
       "    <tbody>\n",
       "        <tr>\n",
       "            <td>1</td>\n",
       "            <td>Chais</td>\n",
       "            <td>1</td>\n",
       "            <td>1</td>\n",
       "            <td>10 boxes x 20 bags</td>\n",
       "            <td>18</td>\n",
       "        </tr>\n",
       "        <tr>\n",
       "            <td>2</td>\n",
       "            <td>Chang</td>\n",
       "            <td>1</td>\n",
       "            <td>1</td>\n",
       "            <td>24 - 12 oz bottles</td>\n",
       "            <td>19</td>\n",
       "        </tr>\n",
       "        <tr>\n",
       "            <td>3</td>\n",
       "            <td>Aniseed Syrup</td>\n",
       "            <td>1</td>\n",
       "            <td>2</td>\n",
       "            <td>12 - 550 ml bottles</td>\n",
       "            <td>10</td>\n",
       "        </tr>\n",
       "    </tbody>\n",
       "</table>"
      ],
      "text/plain": [
       "[(1, 'Chais', 1, 1, '10 boxes x 20 bags', 18),\n",
       " (2, 'Chang', 1, 1, '24 - 12 oz bottles', 19),\n",
       " (3, 'Aniseed Syrup', 1, 2, '12 - 550 ml bottles', 10)]"
      ]
     },
     "execution_count": 40,
     "metadata": {},
     "output_type": "execute_result"
    }
   ],
   "source": [
    "%%sql\n",
    "SELECT * FROM Products limit 3;"
   ]
  },
  {
   "cell_type": "code",
   "execution_count": 41,
   "metadata": {},
   "outputs": [
    {
     "name": "stdout",
     "output_type": "stream",
     "text": [
      " * sqlite:///kadirculha.db\n",
      "Done.\n"
     ]
    },
    {
     "data": {
      "text/html": [
       "<table>\n",
       "    <thead>\n",
       "        <tr>\n",
       "            <th>CustomerID</th>\n",
       "            <th>CustomerName</th>\n",
       "            <th>ContactName</th>\n",
       "            <th>Address</th>\n",
       "            <th>City</th>\n",
       "            <th>PostalCode</th>\n",
       "            <th>Country</th>\n",
       "        </tr>\n",
       "    </thead>\n",
       "    <tbody>\n",
       "        <tr>\n",
       "            <td>1</td>\n",
       "            <td>Alfreds Futterkiste</td>\n",
       "            <td>Maria Anders</td>\n",
       "            <td>Obere Str. 57</td>\n",
       "            <td>Berlin</td>\n",
       "            <td>12209</td>\n",
       "            <td>Germany</td>\n",
       "        </tr>\n",
       "        <tr>\n",
       "            <td>2</td>\n",
       "            <td>Ana Trujillo Emparedados y helados</td>\n",
       "            <td>Ana Trujillo</td>\n",
       "            <td>Avda. de la Constitución 2222</td>\n",
       "            <td>México D.F.</td>\n",
       "            <td>5021</td>\n",
       "            <td>Mexico</td>\n",
       "        </tr>\n",
       "        <tr>\n",
       "            <td>3</td>\n",
       "            <td>Antonio Moreno Taquería</td>\n",
       "            <td>Antonio Moreno</td>\n",
       "            <td>Mataderos 2312</td>\n",
       "            <td>México D.F.</td>\n",
       "            <td>5023</td>\n",
       "            <td>Mexico</td>\n",
       "        </tr>\n",
       "    </tbody>\n",
       "</table>"
      ],
      "text/plain": [
       "[(1, 'Alfreds Futterkiste', 'Maria Anders', 'Obere Str. 57', 'Berlin', '12209', 'Germany'),\n",
       " (2, 'Ana Trujillo Emparedados y helados', 'Ana Trujillo', 'Avda. de la Constitución 2222', 'México D.F.', '5021', 'Mexico'),\n",
       " (3, 'Antonio Moreno Taquería', 'Antonio Moreno', 'Mataderos 2312', 'México D.F.', '5023', 'Mexico')]"
      ]
     },
     "execution_count": 41,
     "metadata": {},
     "output_type": "execute_result"
    }
   ],
   "source": [
    "%%sql\n",
    "SELECT * FROM Customers limit 3;"
   ]
  },
  {
   "cell_type": "code",
   "execution_count": 43,
   "metadata": {},
   "outputs": [
    {
     "name": "stdout",
     "output_type": "stream",
     "text": [
      " * sqlite:///kadirculha.db\n",
      "Done.\n"
     ]
    },
    {
     "data": {
      "text/html": [
       "<table>\n",
       "    <thead>\n",
       "        <tr>\n",
       "            <th>SUM(p.Price)</th>\n",
       "        </tr>\n",
       "    </thead>\n",
       "    <tbody>\n",
       "        <tr>\n",
       "            <td>3762</td>\n",
       "        </tr>\n",
       "    </tbody>\n",
       "</table>"
      ],
      "text/plain": [
       "[(3762,)]"
      ]
     },
     "execution_count": 43,
     "metadata": {},
     "output_type": "execute_result"
    }
   ],
   "source": [
    "%%sql \n",
    "SELECT SUM(p.Price) \n",
    "FROM Orders o \n",
    "LEFT JOIN OrderDetails od on o.OrderID = od.OrderID \n",
    "LEFT JOIN Products p on od.ProductID = p.ProductID \n",
    "LEFT JOIN Customers cu on o.CustomerID = cu.CustomerID where cu.Country = 'USA';"
   ]
  },
  {
   "cell_type": "markdown",
   "metadata": {},
   "source": [
    "## 14. Products tablosundaki CategoryID'lerin isimlerini bulunuz ve sonrasında kategori başına ortalama ürün fiyatını gösteriniz."
   ]
  },
  {
   "cell_type": "code",
   "execution_count": 18,
   "metadata": {},
   "outputs": [
    {
     "name": "stdout",
     "output_type": "stream",
     "text": [
      " * sqlite:///kadirculha.db\n",
      "Done.\n"
     ]
    },
    {
     "data": {
      "text/html": [
       "<table>\n",
       "    <thead>\n",
       "        <tr>\n",
       "            <th>CategoryName</th>\n",
       "            <th>AVG(Price)</th>\n",
       "        </tr>\n",
       "    </thead>\n",
       "    <tbody>\n",
       "        <tr>\n",
       "            <td>Beverages</td>\n",
       "            <td>42.75</td>\n",
       "        </tr>\n",
       "        <tr>\n",
       "            <td>Condiments</td>\n",
       "            <td>28.25</td>\n",
       "        </tr>\n",
       "        <tr>\n",
       "            <td>Confections</td>\n",
       "            <td>33.76923076923077</td>\n",
       "        </tr>\n",
       "        <tr>\n",
       "            <td>Dairy Products</td>\n",
       "            <td>74.9</td>\n",
       "        </tr>\n",
       "        <tr>\n",
       "            <td>Federal Shipping</td>\n",
       "            <td>33.76923076923077</td>\n",
       "        </tr>\n",
       "        <tr>\n",
       "            <td>Grains/Cereals</td>\n",
       "            <td>23.571428571428573</td>\n",
       "        </tr>\n",
       "        <tr>\n",
       "            <td>Meat/Poultry</td>\n",
       "            <td>55.166666666666664</td>\n",
       "        </tr>\n",
       "        <tr>\n",
       "            <td>Produce</td>\n",
       "            <td>32.2</td>\n",
       "        </tr>\n",
       "        <tr>\n",
       "            <td>Seafood</td>\n",
       "            <td>26.5</td>\n",
       "        </tr>\n",
       "        <tr>\n",
       "            <td>Speedy Express</td>\n",
       "            <td>42.75</td>\n",
       "        </tr>\n",
       "        <tr>\n",
       "            <td>United Package</td>\n",
       "            <td>28.25</td>\n",
       "        </tr>\n",
       "    </tbody>\n",
       "</table>"
      ],
      "text/plain": [
       "[('Beverages', 42.75),\n",
       " ('Condiments', 28.25),\n",
       " ('Confections', 33.76923076923077),\n",
       " ('Dairy Products', 74.9),\n",
       " ('Federal Shipping', 33.76923076923077),\n",
       " ('Grains/Cereals', 23.571428571428573),\n",
       " ('Meat/Poultry', 55.166666666666664),\n",
       " ('Produce', 32.2),\n",
       " ('Seafood', 26.5),\n",
       " ('Speedy Express', 42.75),\n",
       " ('United Package', 28.25)]"
      ]
     },
     "execution_count": 18,
     "metadata": {},
     "output_type": "execute_result"
    }
   ],
   "source": [
    "%%sql\n",
    "SELECT CategoryName, AVG(Price) \n",
    "FROM Products prd \n",
    "LEFT JOIN Categories cat ON prd.CategoryID=cat.CategoryID\n",
    "GROUP BY CategoryName;"
   ]
  },
  {
   "cell_type": "markdown",
   "metadata": {},
   "source": [
    "## 15. Çalışanları (EmployeeID) isimleri ile birlikte yaptıkları toplam satışlara göre sıralayınız."
   ]
  },
  {
   "cell_type": "code",
   "execution_count": 29,
   "metadata": {},
   "outputs": [
    {
     "name": "stdout",
     "output_type": "stream",
     "text": [
      " * sqlite:///kadirculha.db\n",
      "Done.\n"
     ]
    },
    {
     "data": {
      "text/html": [
       "<table>\n",
       "    <thead>\n",
       "        <tr>\n",
       "            <th>ProductID</th>\n",
       "            <th>ProductName</th>\n",
       "            <th>SupplierID</th>\n",
       "            <th>CategoryID</th>\n",
       "            <th>Unit</th>\n",
       "            <th>Price</th>\n",
       "        </tr>\n",
       "    </thead>\n",
       "    <tbody>\n",
       "        <tr>\n",
       "            <td>1</td>\n",
       "            <td>Chais</td>\n",
       "            <td>1</td>\n",
       "            <td>1</td>\n",
       "            <td>10 boxes x 20 bags</td>\n",
       "            <td>18</td>\n",
       "        </tr>\n",
       "        <tr>\n",
       "            <td>2</td>\n",
       "            <td>Chang</td>\n",
       "            <td>1</td>\n",
       "            <td>1</td>\n",
       "            <td>24 - 12 oz bottles</td>\n",
       "            <td>19</td>\n",
       "        </tr>\n",
       "        <tr>\n",
       "            <td>3</td>\n",
       "            <td>Aniseed Syrup</td>\n",
       "            <td>1</td>\n",
       "            <td>2</td>\n",
       "            <td>12 - 550 ml bottles</td>\n",
       "            <td>10</td>\n",
       "        </tr>\n",
       "        <tr>\n",
       "            <td>4</td>\n",
       "            <td>Chef Anton&#x27;s Cajun Seasoning</td>\n",
       "            <td>2</td>\n",
       "            <td>2</td>\n",
       "            <td>48 - 6 oz jars</td>\n",
       "            <td>22</td>\n",
       "        </tr>\n",
       "        <tr>\n",
       "            <td>5</td>\n",
       "            <td>Chef Anton&#x27;s Gumbo Mix</td>\n",
       "            <td>2</td>\n",
       "            <td>2</td>\n",
       "            <td>36 boxes</td>\n",
       "            <td>21</td>\n",
       "        </tr>\n",
       "    </tbody>\n",
       "</table>"
      ],
      "text/plain": [
       "[(1, 'Chais', 1, 1, '10 boxes x 20 bags', 18),\n",
       " (2, 'Chang', 1, 1, '24 - 12 oz bottles', 19),\n",
       " (3, 'Aniseed Syrup', 1, 2, '12 - 550 ml bottles', 10),\n",
       " (4, \"Chef Anton's Cajun Seasoning\", 2, 2, '48 - 6 oz jars', 22),\n",
       " (5, \"Chef Anton's Gumbo Mix\", 2, 2, '36 boxes', 21)]"
      ]
     },
     "execution_count": 29,
     "metadata": {},
     "output_type": "execute_result"
    }
   ],
   "source": [
    "%%sql\n",
    "SELECT *\n",
    "FROM Products limit 5;"
   ]
  },
  {
   "cell_type": "code",
   "execution_count": 30,
   "metadata": {},
   "outputs": [
    {
     "name": "stdout",
     "output_type": "stream",
     "text": [
      " * sqlite:///kadirculha.db\n",
      "Done.\n"
     ]
    },
    {
     "data": {
      "text/html": [
       "<table>\n",
       "    <thead>\n",
       "        <tr>\n",
       "            <th>OrderDetailID</th>\n",
       "            <th>OrderID</th>\n",
       "            <th>ProductID</th>\n",
       "            <th>Quantity</th>\n",
       "        </tr>\n",
       "    </thead>\n",
       "    <tbody>\n",
       "        <tr>\n",
       "            <td>1</td>\n",
       "            <td>10248</td>\n",
       "            <td>11</td>\n",
       "            <td>12</td>\n",
       "        </tr>\n",
       "        <tr>\n",
       "            <td>2</td>\n",
       "            <td>10248</td>\n",
       "            <td>42</td>\n",
       "            <td>10</td>\n",
       "        </tr>\n",
       "        <tr>\n",
       "            <td>3</td>\n",
       "            <td>10248</td>\n",
       "            <td>72</td>\n",
       "            <td>5</td>\n",
       "        </tr>\n",
       "        <tr>\n",
       "            <td>4</td>\n",
       "            <td>10249</td>\n",
       "            <td>14</td>\n",
       "            <td>9</td>\n",
       "        </tr>\n",
       "        <tr>\n",
       "            <td>5</td>\n",
       "            <td>10249</td>\n",
       "            <td>51</td>\n",
       "            <td>40</td>\n",
       "        </tr>\n",
       "    </tbody>\n",
       "</table>"
      ],
      "text/plain": [
       "[(1, 10248, 11, 12),\n",
       " (2, 10248, 42, 10),\n",
       " (3, 10248, 72, 5),\n",
       " (4, 10249, 14, 9),\n",
       " (5, 10249, 51, 40)]"
      ]
     },
     "execution_count": 30,
     "metadata": {},
     "output_type": "execute_result"
    }
   ],
   "source": [
    "%%sql\n",
    "SELECT *\n",
    "FROM OrderDetails limit 5;"
   ]
  },
  {
   "cell_type": "code",
   "execution_count": 45,
   "metadata": {},
   "outputs": [
    {
     "name": "stdout",
     "output_type": "stream",
     "text": [
      " * sqlite:///kadirculha.db\n",
      "Done.\n"
     ]
    },
    {
     "data": {
      "text/html": [
       "<table>\n",
       "    <thead>\n",
       "        <tr>\n",
       "            <th>FirstName</th>\n",
       "            <th>toplam_satis</th>\n",
       "        </tr>\n",
       "    </thead>\n",
       "    <tbody>\n",
       "        <tr>\n",
       "            <td>Margaret</td>\n",
       "            <td>5515</td>\n",
       "        </tr>\n",
       "        <tr>\n",
       "            <td>Nancy</td>\n",
       "            <td>4353</td>\n",
       "        </tr>\n",
       "        <tr>\n",
       "            <td>Janet</td>\n",
       "            <td>3048</td>\n",
       "        </tr>\n",
       "        <tr>\n",
       "            <td>Michael</td>\n",
       "            <td>2981</td>\n",
       "        </tr>\n",
       "        <tr>\n",
       "            <td>Laura</td>\n",
       "            <td>2380</td>\n",
       "        </tr>\n",
       "        <tr>\n",
       "            <td>Robert</td>\n",
       "            <td>1852</td>\n",
       "        </tr>\n",
       "        <tr>\n",
       "            <td>Andrew</td>\n",
       "            <td>1550</td>\n",
       "        </tr>\n",
       "        <tr>\n",
       "            <td>Steven</td>\n",
       "            <td>1408</td>\n",
       "        </tr>\n",
       "        <tr>\n",
       "            <td>Anne</td>\n",
       "            <td>520</td>\n",
       "        </tr>\n",
       "    </tbody>\n",
       "</table>"
      ],
      "text/plain": [
       "[('Margaret', 5515),\n",
       " ('Nancy', 4353),\n",
       " ('Janet', 3048),\n",
       " ('Michael', 2981),\n",
       " ('Laura', 2380),\n",
       " ('Robert', 1852),\n",
       " ('Andrew', 1550),\n",
       " ('Steven', 1408),\n",
       " ('Anne', 520)]"
      ]
     },
     "execution_count": 45,
     "metadata": {},
     "output_type": "execute_result"
    }
   ],
   "source": [
    "%%sql\n",
    "SELECT em.FirstName, SUM(p.Price) toplam_satis \n",
    "FROM Orders o \n",
    "LEFT JOIN OrderDetails od on o.OrderID = od.OrderID \n",
    "LEFT JOIN Products p on od.ProductID = p.ProductID \n",
    "LEFT JOIN Employees em on o.EmployeeID = em.EmployeeID \n",
    "GROUP BY o.EmployeeID \n",
    "ORDER BY toplam_satis DESC;"
   ]
  },
  {
   "cell_type": "markdown",
   "metadata": {},
   "source": [
    "# SQL ALIŞTIRMALARI IV"
   ]
  },
  {
   "cell_type": "markdown",
   "metadata": {},
   "source": [
    "## 16. Germany'dan verilen siparişlerin kategorilerine göre ortalama fiyatları nelerdir?"
   ]
  },
  {
   "cell_type": "markdown",
   "metadata": {},
   "source": [
    "## 17. Almanya ya da USA'den verilen siparişlerin kategorilerine göre ortalama fiyatları nelerdir?"
   ]
  },
  {
   "cell_type": "markdown",
   "metadata": {},
   "source": [
    "## 18. Haziran Temmuz Ağustos aylarında verilen siparişlerin ortalama fiyatı nedir?"
   ]
  },
  {
   "cell_type": "markdown",
   "metadata": {},
   "source": [
    "## 19. Müşterilerin 1997 yılına ait siparişlerinin maksimum miktarlarını bulup müşterilerin isimleri ile birlikte büyükten küçüğe sıralayınız."
   ]
  },
  {
   "cell_type": "markdown",
   "metadata": {},
   "source": [
    "## 20. Sipariş yılı 1997 olan siparişleri alan çalışanları sipariş alma sayılarına göre sıralayınız."
   ]
  }
 ],
 "metadata": {
  "kernelspec": {
   "display_name": "base",
   "language": "python",
   "name": "python3"
  },
  "language_info": {
   "codemirror_mode": {
    "name": "ipython",
    "version": 3
   },
   "file_extension": ".py",
   "mimetype": "text/x-python",
   "name": "python",
   "nbconvert_exporter": "python",
   "pygments_lexer": "ipython3",
   "version": "3.10.12"
  }
 },
 "nbformat": 4,
 "nbformat_minor": 2
}
